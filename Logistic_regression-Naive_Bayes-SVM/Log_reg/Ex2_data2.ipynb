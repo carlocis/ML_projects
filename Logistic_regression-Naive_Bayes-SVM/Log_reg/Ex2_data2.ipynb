{
 "cells": [
  {
   "cell_type": "markdown",
   "metadata": {
    "colab_type": "text",
    "id": "J3mVE-mLOf39"
   },
   "source": [
    "# Regularized Logistic Regression Example\n",
    "#### (from Andrew Ng’s Machine Learning Course in Python (Regularized Logistic Regression) + Lasso Regression)\n",
    "\n",
    "https://towardsdatascience.com/andrew-ngs-machine-learning-course-in-python-regularized-logistic-regression-lasso-regression-721f311130fb\n",
    "https://gtraskas.github.io/post/ex2/"
   ]
  },
  {
   "cell_type": "markdown",
   "metadata": {
    "colab_type": "text",
    "id": "ECfpWaPfOi7M"
   },
   "source": [
    "We will now proceed to regularized logistic regression in python to help us deal with the problem of overfitting.\n",
    "Regularizations are shrinkage methods that shrink coefficient towards zero to prevent overfitting by reducing the variance of the model.\n",
    "\n",
    "We start by importing all relevant libraries and dataset. This time, the dataset contains two tests result of microchips in a factory and we are going to use the test results to predict whether the microchips should be accepted or rejected.\n",
    "\n",
    "A regularized logistic regression will be implemented to predict whether microchips from a fabrication plant passes quality assurance (QA). During QA, each microchip goes through various tests to ensure it is functioning correctly. A dataset of test results on past microchips will be used to build a logistic regression model. There are test results for some microchips on two different tests. From these two tests, it will be determined whether the microchips should be accepted or rejected."
   ]
  },
  {
   "cell_type": "code",
   "execution_count": 1,
   "metadata": {
    "colab": {},
    "colab_type": "code",
    "id": "TSfpzqC8NzHJ"
   },
   "outputs": [],
   "source": [
    "import numpy as np\n",
    "import pandas as pd\n",
    "import matplotlib.pyplot as plt \n",
    "import seaborn as sns\n",
    "sns.set(rc={'figure.figsize':(5,5)})\n",
    "import warnings\n",
    "warnings.filterwarnings(\"ignore\")"
   ]
  },
  {
   "cell_type": "markdown",
   "metadata": {
    "colab_type": "text",
    "id": "xQJ6lNrEOrda"
   },
   "source": [
    "Import the dataset : ```ex2data2.txt``` to a dataframe "
   ]
  },
  {
   "cell_type": "code",
   "execution_count": 2,
   "metadata": {
    "colab": {
     "base_uri": "https://localhost:8080/",
     "height": 72,
     "resources": {
      "http://localhost:8080/nbextensions/google.colab/files.js": {
       "data": "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",
       "headers": [
        [
         "content-type",
         "application/javascript"
        ]
       ],
       "ok": true,
       "status": 200,
       "status_text": ""
      }
     }
    },
    "colab_type": "code",
    "executionInfo": {
     "elapsed": 17394,
     "status": "ok",
     "timestamp": 1557583886303,
     "user": {
      "displayName": "Antoine Krajnc",
      "photoUrl": "https://lh3.googleusercontent.com/-GGFNV6eC-aY/AAAAAAAAAAI/AAAAAAAAAQA/POEUtAgposw/s64/photo.jpg",
      "userId": "08465960390418158788"
     },
     "user_tz": -120
    },
    "id": "lVV9g2dOOq1f",
    "outputId": "639494ec-3f3d-4077-c9bc-4fb8a7a8c710"
   },
   "outputs": [
    {
     "data": {
      "text/html": [
       "<div>\n",
       "<style scoped>\n",
       "    .dataframe tbody tr th:only-of-type {\n",
       "        vertical-align: middle;\n",
       "    }\n",
       "\n",
       "    .dataframe tbody tr th {\n",
       "        vertical-align: top;\n",
       "    }\n",
       "\n",
       "    .dataframe thead th {\n",
       "        text-align: right;\n",
       "    }\n",
       "</style>\n",
       "<table border=\"1\" class=\"dataframe\">\n",
       "  <thead>\n",
       "    <tr style=\"text-align: right;\">\n",
       "      <th></th>\n",
       "      <th>Test1</th>\n",
       "      <th>Test2</th>\n",
       "      <th>Accepted</th>\n",
       "    </tr>\n",
       "  </thead>\n",
       "  <tbody>\n",
       "    <tr>\n",
       "      <th>count</th>\n",
       "      <td>118.000000</td>\n",
       "      <td>118.000000</td>\n",
       "      <td>118.000000</td>\n",
       "    </tr>\n",
       "    <tr>\n",
       "      <th>mean</th>\n",
       "      <td>0.054779</td>\n",
       "      <td>0.183102</td>\n",
       "      <td>0.491525</td>\n",
       "    </tr>\n",
       "    <tr>\n",
       "      <th>std</th>\n",
       "      <td>0.496654</td>\n",
       "      <td>0.519743</td>\n",
       "      <td>0.502060</td>\n",
       "    </tr>\n",
       "    <tr>\n",
       "      <th>min</th>\n",
       "      <td>-0.830070</td>\n",
       "      <td>-0.769740</td>\n",
       "      <td>0.000000</td>\n",
       "    </tr>\n",
       "    <tr>\n",
       "      <th>25%</th>\n",
       "      <td>-0.372120</td>\n",
       "      <td>-0.254385</td>\n",
       "      <td>0.000000</td>\n",
       "    </tr>\n",
       "    <tr>\n",
       "      <th>50%</th>\n",
       "      <td>-0.006336</td>\n",
       "      <td>0.213455</td>\n",
       "      <td>0.000000</td>\n",
       "    </tr>\n",
       "    <tr>\n",
       "      <th>75%</th>\n",
       "      <td>0.478970</td>\n",
       "      <td>0.646562</td>\n",
       "      <td>1.000000</td>\n",
       "    </tr>\n",
       "    <tr>\n",
       "      <th>max</th>\n",
       "      <td>1.070900</td>\n",
       "      <td>1.108900</td>\n",
       "      <td>1.000000</td>\n",
       "    </tr>\n",
       "  </tbody>\n",
       "</table>\n",
       "</div>"
      ],
      "text/plain": [
       "            Test1       Test2    Accepted\n",
       "count  118.000000  118.000000  118.000000\n",
       "mean     0.054779    0.183102    0.491525\n",
       "std      0.496654    0.519743    0.502060\n",
       "min     -0.830070   -0.769740    0.000000\n",
       "25%     -0.372120   -0.254385    0.000000\n",
       "50%     -0.006336    0.213455    0.000000\n",
       "75%      0.478970    0.646562    1.000000\n",
       "max      1.070900    1.108900    1.000000"
      ]
     },
     "execution_count": 2,
     "metadata": {},
     "output_type": "execute_result"
    }
   ],
   "source": [
    "data = pd.read_csv('Datasets/ex2data2.txt', names=['Test1', 'Test2', 'Accepted'], header=None)\n",
    "data.describe()"
   ]
  },
  {
   "cell_type": "code",
   "execution_count": 3,
   "metadata": {},
   "outputs": [
    {
     "data": {
      "text/html": [
       "<div>\n",
       "<style scoped>\n",
       "    .dataframe tbody tr th:only-of-type {\n",
       "        vertical-align: middle;\n",
       "    }\n",
       "\n",
       "    .dataframe tbody tr th {\n",
       "        vertical-align: top;\n",
       "    }\n",
       "\n",
       "    .dataframe thead th {\n",
       "        text-align: right;\n",
       "    }\n",
       "</style>\n",
       "<table border=\"1\" class=\"dataframe\">\n",
       "  <thead>\n",
       "    <tr style=\"text-align: right;\">\n",
       "      <th></th>\n",
       "      <th>Test1</th>\n",
       "      <th>Test2</th>\n",
       "      <th>Accepted</th>\n",
       "    </tr>\n",
       "  </thead>\n",
       "  <tbody>\n",
       "    <tr>\n",
       "      <th>109</th>\n",
       "      <td>-0.663020</td>\n",
       "      <td>-0.21418</td>\n",
       "      <td>0</td>\n",
       "    </tr>\n",
       "    <tr>\n",
       "      <th>58</th>\n",
       "      <td>0.183760</td>\n",
       "      <td>0.93348</td>\n",
       "      <td>0</td>\n",
       "    </tr>\n",
       "    <tr>\n",
       "      <th>1</th>\n",
       "      <td>-0.092742</td>\n",
       "      <td>0.68494</td>\n",
       "      <td>1</td>\n",
       "    </tr>\n",
       "    <tr>\n",
       "      <th>12</th>\n",
       "      <td>0.638820</td>\n",
       "      <td>-0.24342</td>\n",
       "      <td>1</td>\n",
       "    </tr>\n",
       "    <tr>\n",
       "      <th>116</th>\n",
       "      <td>-0.006336</td>\n",
       "      <td>0.99927</td>\n",
       "      <td>0</td>\n",
       "    </tr>\n",
       "  </tbody>\n",
       "</table>\n",
       "</div>"
      ],
      "text/plain": [
       "        Test1    Test2  Accepted\n",
       "109 -0.663020 -0.21418         0\n",
       "58   0.183760  0.93348         0\n",
       "1   -0.092742  0.68494         1\n",
       "12   0.638820 -0.24342         1\n",
       "116 -0.006336  0.99927         0"
      ]
     },
     "execution_count": 3,
     "metadata": {},
     "output_type": "execute_result"
    }
   ],
   "source": [
    "data.sample(n=5)"
   ]
  },
  {
   "cell_type": "markdown",
   "metadata": {},
   "source": [
    "It is a multivariate, binary classification problem that we can solve using logistic regression.\n",
    "\n",
    "Plot the data creating a figure, where the axes are the two test scores, and the positive ( $y=1$, accepted) and negative ( $y=0$, rejected) results are shown with different markers.\n",
    "\n",
    "Based on the plot, will the logistic regression classify correctly the data?"
   ]
  },
  {
   "cell_type": "code",
   "execution_count": 4,
   "metadata": {
    "colab": {
     "base_uri": "https://localhost:8080/",
     "height": 386
    },
    "colab_type": "code",
    "executionInfo": {
     "elapsed": 950,
     "status": "ok",
     "timestamp": 1557584125518,
     "user": {
      "displayName": "Antoine Krajnc",
      "photoUrl": "https://lh3.googleusercontent.com/-GGFNV6eC-aY/AAAAAAAAAAI/AAAAAAAAAQA/POEUtAgposw/s64/photo.jpg",
      "userId": "08465960390418158788"
     },
     "user_tz": -120
    },
    "id": "sO8rhaqbPjg4",
    "outputId": "12915478-b85e-49d5-f1bd-8ed8bfb3ae57"
   },
   "outputs": [
    {
     "data": {
      "text/plain": [
       "<seaborn.axisgrid.FacetGrid at 0x7faca7eb9d68>"
      ]
     },
     "execution_count": 4,
     "metadata": {},
     "output_type": "execute_result"
    },
    {
     "data": {
      "image/png": "[encoded data removed]",
      "text/plain": [
       "<Figure size 445.6x360 with 1 Axes>"
      ]
     },
     "metadata": {},
     "output_type": "display_data"
    }
   ],
   "source": [
    "sns.relplot(\n",
    "     x=data.columns[0],\n",
    "     y=data.columns[1],\n",
    "     data = data,\n",
    "     hue=data.columns[-1])"
   ]
  },
  {
   "cell_type": "markdown",
   "metadata": {
    "colab_type": "text",
    "id": "Hrv97xWqQS8N"
   },
   "source": [
    "The scatter plot shows that the dataset cannot be separated into positive and negative examples by a straight-line through the plot. Therefore, a straightforward application of logistic regression will not perform well on this dataset since logistic regression will only be able to find a linear decision boundary."
   ]
  },
  {
   "cell_type": "markdown",
   "metadata": {
    "colab_type": "text",
    "id": "QU2YYlMiQkXc"
   },
   "source": [
    "We try anyway to apply a logistic regression and see the cross_val_score."
   ]
  },
  {
   "cell_type": "code",
   "execution_count": 5,
   "metadata": {
    "colab": {},
    "colab_type": "code",
    "id": "sykT1oolP5oS"
   },
   "outputs": [],
   "source": [
    "X = data.iloc[:, :-1]  # it takes all rows and only the first 2 columns\n",
    "y = data.iloc[:, -1]   # it takes all rows and the last column"
   ]
  },
  {
   "cell_type": "code",
   "execution_count": 6,
   "metadata": {
    "colab": {},
    "colab_type": "code",
    "id": "hoYZA7A8QyKJ"
   },
   "outputs": [],
   "source": [
    "from sklearn.model_selection import train_test_split\n",
    "X_train, X_test, y_train, y_test = train_test_split(X, y, test_size= 0.3, stratify =y)"
   ]
  },
  {
   "cell_type": "code",
   "execution_count": 7,
   "metadata": {
    "colab": {},
    "colab_type": "code",
    "id": "zpkinpnMQ9AF"
   },
   "outputs": [],
   "source": [
    "from sklearn.preprocessing import StandardScaler\n",
    "sc_x = StandardScaler()\n",
    "X_train = sc_x.fit_transform(X_train)\n",
    "X_test = sc_x.fit_transform(X_test)\n",
    "X = sc_x.fit_transform(X)"
   ]
  },
  {
   "cell_type": "code",
   "execution_count": 8,
   "metadata": {
    "colab": {
     "base_uri": "https://localhost:8080/",
     "height": 35
    },
    "colab_type": "code",
    "executionInfo": {
     "elapsed": 441,
     "status": "ok",
     "timestamp": 1557584698450,
     "user": {
      "displayName": "Antoine Krajnc",
      "photoUrl": "https://lh3.googleusercontent.com/-GGFNV6eC-aY/AAAAAAAAAAI/AAAAAAAAAQA/POEUtAgposw/s64/photo.jpg",
      "userId": "08465960390418158788"
     },
     "user_tz": -120
    },
    "id": "Hv1HuO2PRJ29",
    "outputId": "13497b30-f117-4f87-a956-52e1f844465a"
   },
   "outputs": [
    {
     "data": {
      "text/plain": [
       "LogisticRegression(C=1.0, class_weight=None, dual=False, fit_intercept=True,\n",
       "                   intercept_scaling=1, l1_ratio=None, max_iter=100,\n",
       "                   multi_class='auto', n_jobs=None, penalty='l2',\n",
       "                   random_state=None, solver='lbfgs', tol=0.0001, verbose=0,\n",
       "                   warm_start=False)"
      ]
     },
     "execution_count": 8,
     "metadata": {},
     "output_type": "execute_result"
    }
   ],
   "source": [
    "from sklearn.linear_model import LogisticRegression\n",
    "\n",
    "classifier = LogisticRegression()\n",
    "classifier.fit(X_train, y_train)"
   ]
  },
  {
   "cell_type": "code",
   "execution_count": 9,
   "metadata": {},
   "outputs": [
    {
     "data": {
      "text/plain": [
       "0.2121212121212121"
      ]
     },
     "execution_count": 9,
     "metadata": {},
     "output_type": "execute_result"
    }
   ],
   "source": [
    "from sklearn.model_selection import cross_val_score\n",
    "\n",
    "cross_val_score(classifier, X, y, cv=10).mean()"
   ]
  },
  {
   "cell_type": "markdown",
   "metadata": {
    "colab_type": "text",
    "id": "TI3w1K2PSwP_"
   },
   "source": [
    "We plot the ROC curve (but the result is not good since we cannot apply the normal logistic regression in this case)."
   ]
  },
  {
   "cell_type": "code",
   "execution_count": 10,
   "metadata": {
    "colab": {
     "base_uri": "https://localhost:8080/",
     "height": 295
    },
    "colab_type": "code",
    "executionInfo": {
     "elapsed": 800,
     "status": "ok",
     "timestamp": 1557584896895,
     "user": {
      "displayName": "Antoine Krajnc",
      "photoUrl": "https://lh3.googleusercontent.com/-GGFNV6eC-aY/AAAAAAAAAAI/AAAAAAAAAQA/POEUtAgposw/s64/photo.jpg",
      "userId": "08465960390418158788"
     },
     "user_tz": -120
    },
    "id": "4N_kv1loS1Dt",
    "outputId": "5ac51aca-f142-4a8c-b9cf-33297f0e6ec3"
   },
   "outputs": [
    {
     "data": {
      "image/png": "[encoded data removed]",
      "text/plain": [
       "<Figure size 360x360 with 1 Axes>"
      ]
     },
     "metadata": {},
     "output_type": "display_data"
    }
   ],
   "source": [
    "from sklearn.metrics import roc_auc_score\n",
    "from sklearn.metrics import roc_curve\n",
    "logit_roc_auc = roc_auc_score(y_test, classifier.predict(X_test))\n",
    "fpr, tpr, thresholds = roc_curve(y_test, classifier.predict_proba(X_test)[:,1])\n",
    "plt.figure()\n",
    "plt.plot(fpr, tpr, label='Logistic Regression (area = %0.2f)' % logit_roc_auc)\n",
    "plt.plot([0, 1], [0, 1],'r--')\n",
    "plt.xlim([0.0, 1.0])\n",
    "plt.ylim([0.0, 1.05])\n",
    "plt.xlabel('False Positive Rate')\n",
    "plt.ylabel('True Positive Rate')\n",
    "plt.title('Receiver operating characteristic')\n",
    "plt.legend(loc=\"lower right\")\n",
    "#plt.savefig('Log_ROC')\n",
    "plt.show()"
   ]
  },
  {
   "cell_type": "markdown",
   "metadata": {
    "colab_type": "text",
    "id": "Q9wuVPhNSRIG"
   },
   "source": [
    "## Feature mapping\n",
    "\n",
    "Plotting the data clearly shows that the decision boundary that separates the different classes is a non-linear one. This lead to the next step of feature mapping, where we add additional polynomial terms to try and better fit the data (normal logistic regression can only to able to fit a linear decision boundary which will not do well in this case). It is decided in the assignment that we will add polynomial terms up to the 6th power.\n",
    "\n",
    "One way to fit the data better is to create more features from each data point, for example mapping the features into all polynomial terms of $x1$ and $x2$ up to the 6th power. As a result of this mapping, the matrix of two features (the scores on two QA tests) will be transformed into a 28-dimensional matrix. A logistic regression classifier trained on this higher-dimension feature matrix will have a more complex decision boundary and will appear nonlinear when drawn in the 2-dimensional plot. Note that while the feature mapping allows to build a more expressive classifier, it is also more susceptible to overfitting.\n",
    "\n",
    "We use the following function to add explicative variables to our dataset."
   ]
  },
  {
   "cell_type": "code",
   "execution_count": 11,
   "metadata": {
    "colab": {},
    "colab_type": "code",
    "id": "X0j69Tp5SLam"
   },
   "outputs": [],
   "source": [
    "import copy\n",
    "\n",
    "def mapFeature(data, features, degree):\n",
    "    \"\"\"\n",
    "    Feature mapping function to polynomial features.\n",
    "    Maps the features to quadratic features.\n",
    "    Returns a new df with more features, comprising of\n",
    "    x1, x2, x1^2, x2^2, x1*x2, x1*x2^2, etc...\n",
    "    Args:\n",
    "        df: a pandas df with index, features and target cols\n",
    "        features: int, the number of initial features\n",
    "        degree: int, the polynomial degree\n",
    "    Returns:\n",
    "        df: a pandas df with the new features\n",
    "    \"\"\"\n",
    "    # Create a copy of the data df.\n",
    "    df = copy.deepcopy(data)\n",
    "    degree = degree\n",
    "    # Insert a first column with ones.\n",
    "    df.insert(0, 'Ones', 1)\n",
    "    x = []\n",
    "    for n in range(1, features + 1):\n",
    "        x.append(df.iloc[:, n])\n",
    "    for i in range(1, degree + 1):\n",
    "        for j in range(0, i + 1):\n",
    "            df['x' + str(i) + str(j)] = np.power(x[0], i-j) * np.power(x[1], j)\n",
    "    \n",
    "    # Drop unnecessary columns.\n",
    "    cols = [0, 1, 2]\n",
    "    df.drop(df.columns[cols], axis=1, inplace=True)\n",
    "    # Move target column to the end.\n",
    "    # Make a list of all of the columns.\n",
    "    cols = df.columns.tolist()\n",
    "    # Reorder columns.\n",
    "    cols = cols[1:] + [cols[0]]\n",
    "    # Commit the reordering.\n",
    "    df = df[cols]\n",
    "    return df"
   ]
  },
  {
   "cell_type": "markdown",
   "metadata": {},
   "source": [
    "The mapFeature function also adds a column of ones to X so we do not have to deal with it later on. This diagram is useful to visualize what we are doing and the polynomial terms involved.\n",
    "\n",
    "<img src=\"mapfeature.png\" style=\"width:300px\"/>"
   ]
  },
  {
   "cell_type": "code",
   "execution_count": 12,
   "metadata": {
    "colab": {
     "base_uri": "https://localhost:8080/",
     "height": 242
    },
    "colab_type": "code",
    "executionInfo": {
     "elapsed": 554,
     "status": "ok",
     "timestamp": 1557585847355,
     "user": {
      "displayName": "Antoine Krajnc",
      "photoUrl": "https://lh3.googleusercontent.com/-GGFNV6eC-aY/AAAAAAAAAAI/AAAAAAAAAQA/POEUtAgposw/s64/photo.jpg",
      "userId": "08465960390418158788"
     },
     "user_tz": -120
    },
    "id": "Unb8W114SXGk",
    "outputId": "11151089-ed17-4c03-c1e4-7ede9d5d614f"
   },
   "outputs": [
    {
     "data": {
      "text/html": [
       "<div>\n",
       "<style scoped>\n",
       "    .dataframe tbody tr th:only-of-type {\n",
       "        vertical-align: middle;\n",
       "    }\n",
       "\n",
       "    .dataframe tbody tr th {\n",
       "        vertical-align: top;\n",
       "    }\n",
       "\n",
       "    .dataframe thead th {\n",
       "        text-align: right;\n",
       "    }\n",
       "</style>\n",
       "<table border=\"1\" class=\"dataframe\">\n",
       "  <thead>\n",
       "    <tr style=\"text-align: right;\">\n",
       "      <th></th>\n",
       "      <th>x10</th>\n",
       "      <th>x11</th>\n",
       "      <th>x20</th>\n",
       "      <th>x21</th>\n",
       "      <th>x22</th>\n",
       "      <th>x30</th>\n",
       "      <th>x31</th>\n",
       "      <th>x32</th>\n",
       "      <th>x33</th>\n",
       "      <th>x40</th>\n",
       "      <th>...</th>\n",
       "      <th>x54</th>\n",
       "      <th>x55</th>\n",
       "      <th>x60</th>\n",
       "      <th>x61</th>\n",
       "      <th>x62</th>\n",
       "      <th>x63</th>\n",
       "      <th>x64</th>\n",
       "      <th>x65</th>\n",
       "      <th>x66</th>\n",
       "      <th>Accepted</th>\n",
       "    </tr>\n",
       "  </thead>\n",
       "  <tbody>\n",
       "    <tr>\n",
       "      <th>0</th>\n",
       "      <td>0.051267</td>\n",
       "      <td>0.699560</td>\n",
       "      <td>0.002628</td>\n",
       "      <td>0.035864</td>\n",
       "      <td>0.489384</td>\n",
       "      <td>1.347453e-04</td>\n",
       "      <td>0.001839</td>\n",
       "      <td>0.025089</td>\n",
       "      <td>0.342354</td>\n",
       "      <td>6.907989e-06</td>\n",
       "      <td>...</td>\n",
       "      <td>1.227829e-02</td>\n",
       "      <td>1.675424e-01</td>\n",
       "      <td>1.815630e-08</td>\n",
       "      <td>2.477505e-07</td>\n",
       "      <td>3.380660e-06</td>\n",
       "      <td>4.613055e-05</td>\n",
       "      <td>6.294709e-04</td>\n",
       "      <td>8.589398e-03</td>\n",
       "      <td>1.172060e-01</td>\n",
       "      <td>1</td>\n",
       "    </tr>\n",
       "    <tr>\n",
       "      <th>1</th>\n",
       "      <td>-0.092742</td>\n",
       "      <td>0.684940</td>\n",
       "      <td>0.008601</td>\n",
       "      <td>-0.063523</td>\n",
       "      <td>0.469143</td>\n",
       "      <td>-7.976812e-04</td>\n",
       "      <td>0.005891</td>\n",
       "      <td>-0.043509</td>\n",
       "      <td>0.321335</td>\n",
       "      <td>7.397855e-05</td>\n",
       "      <td>...</td>\n",
       "      <td>-2.041205e-02</td>\n",
       "      <td>1.507518e-01</td>\n",
       "      <td>6.362953e-07</td>\n",
       "      <td>-4.699318e-06</td>\n",
       "      <td>3.470651e-05</td>\n",
       "      <td>-2.563226e-04</td>\n",
       "      <td>1.893054e-03</td>\n",
       "      <td>-1.398103e-02</td>\n",
       "      <td>1.032560e-01</td>\n",
       "      <td>1</td>\n",
       "    </tr>\n",
       "    <tr>\n",
       "      <th>2</th>\n",
       "      <td>-0.213710</td>\n",
       "      <td>0.692250</td>\n",
       "      <td>0.045672</td>\n",
       "      <td>-0.147941</td>\n",
       "      <td>0.479210</td>\n",
       "      <td>-9.760555e-03</td>\n",
       "      <td>0.031616</td>\n",
       "      <td>-0.102412</td>\n",
       "      <td>0.331733</td>\n",
       "      <td>2.085928e-03</td>\n",
       "      <td>...</td>\n",
       "      <td>-4.907685e-02</td>\n",
       "      <td>1.589699e-01</td>\n",
       "      <td>9.526844e-05</td>\n",
       "      <td>-3.085938e-04</td>\n",
       "      <td>9.995978e-04</td>\n",
       "      <td>-3.237900e-03</td>\n",
       "      <td>1.048821e-02</td>\n",
       "      <td>-3.397345e-02</td>\n",
       "      <td>1.100469e-01</td>\n",
       "      <td>1</td>\n",
       "    </tr>\n",
       "    <tr>\n",
       "      <th>3</th>\n",
       "      <td>-0.375000</td>\n",
       "      <td>0.502190</td>\n",
       "      <td>0.140625</td>\n",
       "      <td>-0.188321</td>\n",
       "      <td>0.252195</td>\n",
       "      <td>-5.273438e-02</td>\n",
       "      <td>0.070620</td>\n",
       "      <td>-0.094573</td>\n",
       "      <td>0.126650</td>\n",
       "      <td>1.977539e-02</td>\n",
       "      <td>...</td>\n",
       "      <td>-2.385083e-02</td>\n",
       "      <td>3.194040e-02</td>\n",
       "      <td>2.780914e-03</td>\n",
       "      <td>-3.724126e-03</td>\n",
       "      <td>4.987251e-03</td>\n",
       "      <td>-6.678793e-03</td>\n",
       "      <td>8.944062e-03</td>\n",
       "      <td>-1.197765e-02</td>\n",
       "      <td>1.604015e-02</td>\n",
       "      <td>1</td>\n",
       "    </tr>\n",
       "    <tr>\n",
       "      <th>4</th>\n",
       "      <td>-0.513250</td>\n",
       "      <td>0.465640</td>\n",
       "      <td>0.263426</td>\n",
       "      <td>-0.238990</td>\n",
       "      <td>0.216821</td>\n",
       "      <td>-1.352032e-01</td>\n",
       "      <td>0.122661</td>\n",
       "      <td>-0.111283</td>\n",
       "      <td>0.100960</td>\n",
       "      <td>6.939303e-02</td>\n",
       "      <td>...</td>\n",
       "      <td>-2.412849e-02</td>\n",
       "      <td>2.189028e-02</td>\n",
       "      <td>1.827990e-02</td>\n",
       "      <td>-1.658422e-02</td>\n",
       "      <td>1.504584e-02</td>\n",
       "      <td>-1.365016e-02</td>\n",
       "      <td>1.238395e-02</td>\n",
       "      <td>-1.123519e-02</td>\n",
       "      <td>1.019299e-02</td>\n",
       "      <td>1</td>\n",
       "    </tr>\n",
       "    <tr>\n",
       "      <th>...</th>\n",
       "      <td>...</td>\n",
       "      <td>...</td>\n",
       "      <td>...</td>\n",
       "      <td>...</td>\n",
       "      <td>...</td>\n",
       "      <td>...</td>\n",
       "      <td>...</td>\n",
       "      <td>...</td>\n",
       "      <td>...</td>\n",
       "      <td>...</td>\n",
       "      <td>...</td>\n",
       "      <td>...</td>\n",
       "      <td>...</td>\n",
       "      <td>...</td>\n",
       "      <td>...</td>\n",
       "      <td>...</td>\n",
       "      <td>...</td>\n",
       "      <td>...</td>\n",
       "      <td>...</td>\n",
       "      <td>...</td>\n",
       "      <td>...</td>\n",
       "    </tr>\n",
       "    <tr>\n",
       "      <th>113</th>\n",
       "      <td>-0.720620</td>\n",
       "      <td>0.538740</td>\n",
       "      <td>0.519293</td>\n",
       "      <td>-0.388227</td>\n",
       "      <td>0.290241</td>\n",
       "      <td>-3.742131e-01</td>\n",
       "      <td>0.279764</td>\n",
       "      <td>-0.209153</td>\n",
       "      <td>0.156364</td>\n",
       "      <td>2.696654e-01</td>\n",
       "      <td>...</td>\n",
       "      <td>-6.070482e-02</td>\n",
       "      <td>4.538330e-02</td>\n",
       "      <td>1.400354e-01</td>\n",
       "      <td>-1.046913e-01</td>\n",
       "      <td>7.826790e-02</td>\n",
       "      <td>-5.851357e-02</td>\n",
       "      <td>4.374511e-02</td>\n",
       "      <td>-3.270412e-02</td>\n",
       "      <td>2.444980e-02</td>\n",
       "      <td>0</td>\n",
       "    </tr>\n",
       "    <tr>\n",
       "      <th>114</th>\n",
       "      <td>-0.593890</td>\n",
       "      <td>0.494880</td>\n",
       "      <td>0.352705</td>\n",
       "      <td>-0.293904</td>\n",
       "      <td>0.244906</td>\n",
       "      <td>-2.094682e-01</td>\n",
       "      <td>0.174547</td>\n",
       "      <td>-0.145447</td>\n",
       "      <td>0.121199</td>\n",
       "      <td>1.244011e-01</td>\n",
       "      <td>...</td>\n",
       "      <td>-3.562096e-02</td>\n",
       "      <td>2.968243e-02</td>\n",
       "      <td>4.387691e-02</td>\n",
       "      <td>-3.656200e-02</td>\n",
       "      <td>3.046659e-02</td>\n",
       "      <td>-2.538737e-02</td>\n",
       "      <td>2.115493e-02</td>\n",
       "      <td>-1.762810e-02</td>\n",
       "      <td>1.468924e-02</td>\n",
       "      <td>0</td>\n",
       "    </tr>\n",
       "    <tr>\n",
       "      <th>115</th>\n",
       "      <td>-0.484450</td>\n",
       "      <td>0.999270</td>\n",
       "      <td>0.234692</td>\n",
       "      <td>-0.484096</td>\n",
       "      <td>0.998541</td>\n",
       "      <td>-1.136964e-01</td>\n",
       "      <td>0.234520</td>\n",
       "      <td>-0.483743</td>\n",
       "      <td>0.997812</td>\n",
       "      <td>5.508024e-02</td>\n",
       "      <td>...</td>\n",
       "      <td>-4.830370e-01</td>\n",
       "      <td>9.963553e-01</td>\n",
       "      <td>1.292688e-02</td>\n",
       "      <td>-2.666414e-02</td>\n",
       "      <td>5.499985e-02</td>\n",
       "      <td>-1.134476e-01</td>\n",
       "      <td>2.340073e-01</td>\n",
       "      <td>-4.826843e-01</td>\n",
       "      <td>9.956280e-01</td>\n",
       "      <td>0</td>\n",
       "    </tr>\n",
       "    <tr>\n",
       "      <th>116</th>\n",
       "      <td>-0.006336</td>\n",
       "      <td>0.999270</td>\n",
       "      <td>0.000040</td>\n",
       "      <td>-0.006332</td>\n",
       "      <td>0.998541</td>\n",
       "      <td>-2.544062e-07</td>\n",
       "      <td>0.000040</td>\n",
       "      <td>-0.006327</td>\n",
       "      <td>0.997812</td>\n",
       "      <td>1.612020e-09</td>\n",
       "      <td>...</td>\n",
       "      <td>-6.317918e-03</td>\n",
       "      <td>9.963553e-01</td>\n",
       "      <td>6.472253e-14</td>\n",
       "      <td>-1.020695e-11</td>\n",
       "      <td>1.609667e-09</td>\n",
       "      <td>-2.538495e-07</td>\n",
       "      <td>4.003286e-05</td>\n",
       "      <td>-6.313306e-03</td>\n",
       "      <td>9.956280e-01</td>\n",
       "      <td>0</td>\n",
       "    </tr>\n",
       "    <tr>\n",
       "      <th>117</th>\n",
       "      <td>0.632650</td>\n",
       "      <td>-0.030612</td>\n",
       "      <td>0.400246</td>\n",
       "      <td>-0.019367</td>\n",
       "      <td>0.000937</td>\n",
       "      <td>2.532156e-01</td>\n",
       "      <td>-0.012252</td>\n",
       "      <td>0.000593</td>\n",
       "      <td>-0.000029</td>\n",
       "      <td>1.601969e-01</td>\n",
       "      <td>...</td>\n",
       "      <td>5.555592e-07</td>\n",
       "      <td>-2.688181e-08</td>\n",
       "      <td>6.411816e-02</td>\n",
       "      <td>-3.102482e-03</td>\n",
       "      <td>1.501196e-04</td>\n",
       "      <td>-7.263830e-06</td>\n",
       "      <td>3.514745e-07</td>\n",
       "      <td>-1.700678e-08</td>\n",
       "      <td>8.229060e-10</td>\n",
       "      <td>0</td>\n",
       "    </tr>\n",
       "  </tbody>\n",
       "</table>\n",
       "<p>118 rows × 28 columns</p>\n",
       "</div>"
      ],
      "text/plain": [
       "          x10       x11       x20       x21       x22           x30       x31  \\\n",
       "0    0.051267  0.699560  0.002628  0.035864  0.489384  1.347453e-04  0.001839   \n",
       "1   -0.092742  0.684940  0.008601 -0.063523  0.469143 -7.976812e-04  0.005891   \n",
       "2   -0.213710  0.692250  0.045672 -0.147941  0.479210 -9.760555e-03  0.031616   \n",
       "3   -0.375000  0.502190  0.140625 -0.188321  0.252195 -5.273438e-02  0.070620   \n",
       "4   -0.513250  0.465640  0.263426 -0.238990  0.216821 -1.352032e-01  0.122661   \n",
       "..        ...       ...       ...       ...       ...           ...       ...   \n",
       "113 -0.720620  0.538740  0.519293 -0.388227  0.290241 -3.742131e-01  0.279764   \n",
       "114 -0.593890  0.494880  0.352705 -0.293904  0.244906 -2.094682e-01  0.174547   \n",
       "115 -0.484450  0.999270  0.234692 -0.484096  0.998541 -1.136964e-01  0.234520   \n",
       "116 -0.006336  0.999270  0.000040 -0.006332  0.998541 -2.544062e-07  0.000040   \n",
       "117  0.632650 -0.030612  0.400246 -0.019367  0.000937  2.532156e-01 -0.012252   \n",
       "\n",
       "          x32       x33           x40  ...           x54           x55  \\\n",
       "0    0.025089  0.342354  6.907989e-06  ...  1.227829e-02  1.675424e-01   \n",
       "1   -0.043509  0.321335  7.397855e-05  ... -2.041205e-02  1.507518e-01   \n",
       "2   -0.102412  0.331733  2.085928e-03  ... -4.907685e-02  1.589699e-01   \n",
       "3   -0.094573  0.126650  1.977539e-02  ... -2.385083e-02  3.194040e-02   \n",
       "4   -0.111283  0.100960  6.939303e-02  ... -2.412849e-02  2.189028e-02   \n",
       "..        ...       ...           ...  ...           ...           ...   \n",
       "113 -0.209153  0.156364  2.696654e-01  ... -6.070482e-02  4.538330e-02   \n",
       "114 -0.145447  0.121199  1.244011e-01  ... -3.562096e-02  2.968243e-02   \n",
       "115 -0.483743  0.997812  5.508024e-02  ... -4.830370e-01  9.963553e-01   \n",
       "116 -0.006327  0.997812  1.612020e-09  ... -6.317918e-03  9.963553e-01   \n",
       "117  0.000593 -0.000029  1.601969e-01  ...  5.555592e-07 -2.688181e-08   \n",
       "\n",
       "              x60           x61           x62           x63           x64  \\\n",
       "0    1.815630e-08  2.477505e-07  3.380660e-06  4.613055e-05  6.294709e-04   \n",
       "1    6.362953e-07 -4.699318e-06  3.470651e-05 -2.563226e-04  1.893054e-03   \n",
       "2    9.526844e-05 -3.085938e-04  9.995978e-04 -3.237900e-03  1.048821e-02   \n",
       "3    2.780914e-03 -3.724126e-03  4.987251e-03 -6.678793e-03  8.944062e-03   \n",
       "4    1.827990e-02 -1.658422e-02  1.504584e-02 -1.365016e-02  1.238395e-02   \n",
       "..            ...           ...           ...           ...           ...   \n",
       "113  1.400354e-01 -1.046913e-01  7.826790e-02 -5.851357e-02  4.374511e-02   \n",
       "114  4.387691e-02 -3.656200e-02  3.046659e-02 -2.538737e-02  2.115493e-02   \n",
       "115  1.292688e-02 -2.666414e-02  5.499985e-02 -1.134476e-01  2.340073e-01   \n",
       "116  6.472253e-14 -1.020695e-11  1.609667e-09 -2.538495e-07  4.003286e-05   \n",
       "117  6.411816e-02 -3.102482e-03  1.501196e-04 -7.263830e-06  3.514745e-07   \n",
       "\n",
       "              x65           x66  Accepted  \n",
       "0    8.589398e-03  1.172060e-01         1  \n",
       "1   -1.398103e-02  1.032560e-01         1  \n",
       "2   -3.397345e-02  1.100469e-01         1  \n",
       "3   -1.197765e-02  1.604015e-02         1  \n",
       "4   -1.123519e-02  1.019299e-02         1  \n",
       "..            ...           ...       ...  \n",
       "113 -3.270412e-02  2.444980e-02         0  \n",
       "114 -1.762810e-02  1.468924e-02         0  \n",
       "115 -4.826843e-01  9.956280e-01         0  \n",
       "116 -6.313306e-03  9.956280e-01         0  \n",
       "117 -1.700678e-08  8.229060e-10         0  \n",
       "\n",
       "[118 rows x 28 columns]"
      ]
     },
     "execution_count": 12,
     "metadata": {},
     "output_type": "execute_result"
    }
   ],
   "source": [
    "new_features = mapFeature(data, 2, 6)\n",
    "new_features"
   ]
  },
  {
   "cell_type": "markdown",
   "metadata": {
    "colab_type": "text",
    "id": "NQ3THGr7S5rt"
   },
   "source": [
    "Now the number of features is:"
   ]
  },
  {
   "cell_type": "code",
   "execution_count": 13,
   "metadata": {
    "colab": {
     "base_uri": "https://localhost:8080/",
     "height": 35
    },
    "colab_type": "code",
    "executionInfo": {
     "elapsed": 1429,
     "status": "ok",
     "timestamp": 1557586266907,
     "user": {
      "displayName": "Antoine Krajnc",
      "photoUrl": "https://lh3.googleusercontent.com/-GGFNV6eC-aY/AAAAAAAAAAI/AAAAAAAAAQA/POEUtAgposw/s64/photo.jpg",
      "userId": "08465960390418158788"
     },
     "user_tz": -120
    },
    "id": "yi9ajel8YAVZ",
    "outputId": "2e3bcbb7-157e-4748-f964-b2f89b084dc3"
   },
   "outputs": [
    {
     "data": {
      "text/plain": [
       "(118, 28)"
      ]
     },
     "execution_count": 13,
     "metadata": {},
     "output_type": "execute_result"
    }
   ],
   "source": [
    "new_features.shape"
   ]
  },
  {
   "cell_type": "code",
   "execution_count": 14,
   "metadata": {},
   "outputs": [
    {
     "data": {
      "text/html": [
       "<div>\n",
       "<style scoped>\n",
       "    .dataframe tbody tr th:only-of-type {\n",
       "        vertical-align: middle;\n",
       "    }\n",
       "\n",
       "    .dataframe tbody tr th {\n",
       "        vertical-align: top;\n",
       "    }\n",
       "\n",
       "    .dataframe thead th {\n",
       "        text-align: right;\n",
       "    }\n",
       "</style>\n",
       "<table border=\"1\" class=\"dataframe\">\n",
       "  <thead>\n",
       "    <tr style=\"text-align: right;\">\n",
       "      <th></th>\n",
       "      <th>x10</th>\n",
       "      <th>x11</th>\n",
       "      <th>x20</th>\n",
       "      <th>x21</th>\n",
       "      <th>x22</th>\n",
       "      <th>x30</th>\n",
       "      <th>x31</th>\n",
       "      <th>x32</th>\n",
       "      <th>x33</th>\n",
       "      <th>x40</th>\n",
       "      <th>...</th>\n",
       "      <th>x54</th>\n",
       "      <th>x55</th>\n",
       "      <th>x60</th>\n",
       "      <th>x61</th>\n",
       "      <th>x62</th>\n",
       "      <th>x63</th>\n",
       "      <th>x64</th>\n",
       "      <th>x65</th>\n",
       "      <th>x66</th>\n",
       "      <th>Accepted</th>\n",
       "    </tr>\n",
       "  </thead>\n",
       "  <tbody>\n",
       "    <tr>\n",
       "      <th>0</th>\n",
       "      <td>0.051267</td>\n",
       "      <td>0.69956</td>\n",
       "      <td>0.002628</td>\n",
       "      <td>0.035864</td>\n",
       "      <td>0.489384</td>\n",
       "      <td>0.000135</td>\n",
       "      <td>0.001839</td>\n",
       "      <td>0.025089</td>\n",
       "      <td>0.342354</td>\n",
       "      <td>0.000007</td>\n",
       "      <td>...</td>\n",
       "      <td>0.012278</td>\n",
       "      <td>0.167542</td>\n",
       "      <td>1.815630e-08</td>\n",
       "      <td>2.477505e-07</td>\n",
       "      <td>0.000003</td>\n",
       "      <td>0.000046</td>\n",
       "      <td>0.000629</td>\n",
       "      <td>0.008589</td>\n",
       "      <td>0.117206</td>\n",
       "      <td>1</td>\n",
       "    </tr>\n",
       "    <tr>\n",
       "      <th>1</th>\n",
       "      <td>-0.092742</td>\n",
       "      <td>0.68494</td>\n",
       "      <td>0.008601</td>\n",
       "      <td>-0.063523</td>\n",
       "      <td>0.469143</td>\n",
       "      <td>-0.000798</td>\n",
       "      <td>0.005891</td>\n",
       "      <td>-0.043509</td>\n",
       "      <td>0.321335</td>\n",
       "      <td>0.000074</td>\n",
       "      <td>...</td>\n",
       "      <td>-0.020412</td>\n",
       "      <td>0.150752</td>\n",
       "      <td>6.362953e-07</td>\n",
       "      <td>-4.699318e-06</td>\n",
       "      <td>0.000035</td>\n",
       "      <td>-0.000256</td>\n",
       "      <td>0.001893</td>\n",
       "      <td>-0.013981</td>\n",
       "      <td>0.103256</td>\n",
       "      <td>1</td>\n",
       "    </tr>\n",
       "    <tr>\n",
       "      <th>2</th>\n",
       "      <td>-0.213710</td>\n",
       "      <td>0.69225</td>\n",
       "      <td>0.045672</td>\n",
       "      <td>-0.147941</td>\n",
       "      <td>0.479210</td>\n",
       "      <td>-0.009761</td>\n",
       "      <td>0.031616</td>\n",
       "      <td>-0.102412</td>\n",
       "      <td>0.331733</td>\n",
       "      <td>0.002086</td>\n",
       "      <td>...</td>\n",
       "      <td>-0.049077</td>\n",
       "      <td>0.158970</td>\n",
       "      <td>9.526844e-05</td>\n",
       "      <td>-3.085938e-04</td>\n",
       "      <td>0.001000</td>\n",
       "      <td>-0.003238</td>\n",
       "      <td>0.010488</td>\n",
       "      <td>-0.033973</td>\n",
       "      <td>0.110047</td>\n",
       "      <td>1</td>\n",
       "    </tr>\n",
       "    <tr>\n",
       "      <th>3</th>\n",
       "      <td>-0.375000</td>\n",
       "      <td>0.50219</td>\n",
       "      <td>0.140625</td>\n",
       "      <td>-0.188321</td>\n",
       "      <td>0.252195</td>\n",
       "      <td>-0.052734</td>\n",
       "      <td>0.070620</td>\n",
       "      <td>-0.094573</td>\n",
       "      <td>0.126650</td>\n",
       "      <td>0.019775</td>\n",
       "      <td>...</td>\n",
       "      <td>-0.023851</td>\n",
       "      <td>0.031940</td>\n",
       "      <td>2.780914e-03</td>\n",
       "      <td>-3.724126e-03</td>\n",
       "      <td>0.004987</td>\n",
       "      <td>-0.006679</td>\n",
       "      <td>0.008944</td>\n",
       "      <td>-0.011978</td>\n",
       "      <td>0.016040</td>\n",
       "      <td>1</td>\n",
       "    </tr>\n",
       "    <tr>\n",
       "      <th>4</th>\n",
       "      <td>-0.513250</td>\n",
       "      <td>0.46564</td>\n",
       "      <td>0.263426</td>\n",
       "      <td>-0.238990</td>\n",
       "      <td>0.216821</td>\n",
       "      <td>-0.135203</td>\n",
       "      <td>0.122661</td>\n",
       "      <td>-0.111283</td>\n",
       "      <td>0.100960</td>\n",
       "      <td>0.069393</td>\n",
       "      <td>...</td>\n",
       "      <td>-0.024128</td>\n",
       "      <td>0.021890</td>\n",
       "      <td>1.827990e-02</td>\n",
       "      <td>-1.658422e-02</td>\n",
       "      <td>0.015046</td>\n",
       "      <td>-0.013650</td>\n",
       "      <td>0.012384</td>\n",
       "      <td>-0.011235</td>\n",
       "      <td>0.010193</td>\n",
       "      <td>1</td>\n",
       "    </tr>\n",
       "  </tbody>\n",
       "</table>\n",
       "<p>5 rows × 28 columns</p>\n",
       "</div>"
      ],
      "text/plain": [
       "        x10      x11       x20       x21       x22       x30       x31  \\\n",
       "0  0.051267  0.69956  0.002628  0.035864  0.489384  0.000135  0.001839   \n",
       "1 -0.092742  0.68494  0.008601 -0.063523  0.469143 -0.000798  0.005891   \n",
       "2 -0.213710  0.69225  0.045672 -0.147941  0.479210 -0.009761  0.031616   \n",
       "3 -0.375000  0.50219  0.140625 -0.188321  0.252195 -0.052734  0.070620   \n",
       "4 -0.513250  0.46564  0.263426 -0.238990  0.216821 -0.135203  0.122661   \n",
       "\n",
       "        x32       x33       x40  ...       x54       x55           x60  \\\n",
       "0  0.025089  0.342354  0.000007  ...  0.012278  0.167542  1.815630e-08   \n",
       "1 -0.043509  0.321335  0.000074  ... -0.020412  0.150752  6.362953e-07   \n",
       "2 -0.102412  0.331733  0.002086  ... -0.049077  0.158970  9.526844e-05   \n",
       "3 -0.094573  0.126650  0.019775  ... -0.023851  0.031940  2.780914e-03   \n",
       "4 -0.111283  0.100960  0.069393  ... -0.024128  0.021890  1.827990e-02   \n",
       "\n",
       "            x61       x62       x63       x64       x65       x66  Accepted  \n",
       "0  2.477505e-07  0.000003  0.000046  0.000629  0.008589  0.117206         1  \n",
       "1 -4.699318e-06  0.000035 -0.000256  0.001893 -0.013981  0.103256         1  \n",
       "2 -3.085938e-04  0.001000 -0.003238  0.010488 -0.033973  0.110047         1  \n",
       "3 -3.724126e-03  0.004987 -0.006679  0.008944 -0.011978  0.016040         1  \n",
       "4 -1.658422e-02  0.015046 -0.013650  0.012384 -0.011235  0.010193         1  \n",
       "\n",
       "[5 rows x 28 columns]"
      ]
     },
     "execution_count": 14,
     "metadata": {},
     "output_type": "execute_result"
    }
   ],
   "source": [
    "new_features.head()"
   ]
  },
  {
   "cell_type": "markdown",
   "metadata": {},
   "source": [
    "### Cost function and gradient"
   ]
  },
  {
   "cell_type": "markdown",
   "metadata": {},
   "source": [
    "We define the sigmoid function for logistic regression:\n",
    "\n",
    "$h(z) = \\frac{1}{1 + e^{-z}} $, where $z = \\theta^T \\textbf{x}$"
   ]
  },
  {
   "cell_type": "code",
   "execution_count": 15,
   "metadata": {},
   "outputs": [],
   "source": [
    "def sigmoid(z):\n",
    "    return 1 / (1 + np.exp(-z))"
   ]
  },
  {
   "cell_type": "code",
   "execution_count": 16,
   "metadata": {},
   "outputs": [],
   "source": [
    "# Create a function to pepare the data.\n",
    "def prepareData(data, n):\n",
    "    \"\"\"\n",
    "    Add 1s column, convert to arrays,\n",
    "    initialize theta.\n",
    "    Args:\n",
    "        data: read the data file\n",
    "        n: int\n",
    "    Return:\n",
    "        x: a (m, n+1) array\n",
    "        y: a (m, 1) array\n",
    "        theta: a (n+1, 1) array\n",
    "    \"\"\"\n",
    "    # Add a column with 1s in the data set.\n",
    "    data.insert(0, 'Ones', 1)\n",
    "\n",
    "    # Define x and y, separating the data set.\n",
    "    x = data.iloc[:, 0:n+1]\n",
    "    y = data.iloc[:, n+1:n+2]\n",
    "\n",
    "    # Convert to arrays, so this function is\n",
    "    # compatible with scipy.optimize.fmin later.\n",
    "    # Initialize parameters theta to 0s.\n",
    "    # Theta is a (n+1, 1) array,\n",
    "    # where n is the number of features.\n",
    "    x = np.array(x.values)\n",
    "    y = np.array(y.values)\n",
    "    theta = np.zeros((n+1, 1))\n",
    "    return x, y, theta"
   ]
  },
  {
   "cell_type": "markdown",
   "metadata": {},
   "source": [
    "We compute the cost function and gradient for regularized logistic regression. The regularized cost function in logistic regression is\n",
    "\n",
    "$J(\\theta)=\\frac{1}{m} \\sum_{i=1}^m[-y^{(i)} log(h_\\theta (x^{(i)})-(1-y^{(i)}) log(1-h_\\theta (x^{(i)}))]+\\frac{\\lambda}{2m} \\sum_{j=1}^n\\theta_j^2$\n",
    "\n",
    "Note that the parameter $\\theta_0$ should not be regularized. The gradient of the cost function is a vector where the $j^{th}$ element is defined as follows:\n",
    "\n",
    "$\\frac{\\partial J(\\theta)}{\\partial \\theta_0}=\\frac{1}{m} \\sum_{i=1}^m(h_\\theta(x^{(i)})-y^{(i)})x_j^{(i)}$ for $j=0$\n",
    "\n",
    "and\n",
    "\n",
    "$\\frac{\\partial J(\\theta)}{\\partial \\theta_j}=\\frac{1}{m} \\sum_{i=1}^m(h_\\theta(x^{(i)})-y^{(i)})x_j^{(i)}+\\frac{\\lambda}{m}\\theta_j$ for $j\\geq1$"
   ]
  },
  {
   "cell_type": "code",
   "execution_count": 17,
   "metadata": {},
   "outputs": [
    {
     "name": "stdout",
     "output_type": "stream",
     "text": [
      "Checking the dimensions of the matrices x, y, theta...\n",
      "(118, 28) (118, 1) (28, 1)\n"
     ]
    }
   ],
   "source": [
    "# Get the number of features.\n",
    "n = len(new_features.columns)-1 # subtract the target column\n",
    "\n",
    "x, y, theta = prepareData(new_features, n)\n",
    "\n",
    "print('Checking the dimensions of the matrices x, y, theta...')\n",
    "print(x.shape, y.shape, theta.shape)"
   ]
  },
  {
   "cell_type": "code",
   "execution_count": 18,
   "metadata": {},
   "outputs": [
    {
     "name": "stdout",
     "output_type": "stream",
     "text": [
      "The cost with initial θ equals to zeros, is:\n",
      "0.6931471805599453\n"
     ]
    }
   ],
   "source": [
    "# Modify the computeCost function to\n",
    "# include the regularization term.\n",
    "def computeCost(theta, x, y, lambda_coef):\n",
    "    \"\"\"\n",
    "    Compute the cost function.\n",
    "    Args:\n",
    "        theta: array shape(n+1, 1) \n",
    "        x: array shape(m, n+1) \n",
    "        y: array shape(m, 1)\n",
    "    Returns:\n",
    "        cost: float\n",
    "    \"\"\"\n",
    "    m = len(x)\n",
    "    # Do matrix multiplication with numpy.dot\n",
    "    h_theta = sigmoid(np.dot(x, theta))\n",
    "    term1 = np.dot(-y.T, np.log(h_theta))\n",
    "    term2 = np.dot((1 - y).T, np.log(1 - h_theta))\n",
    "    # Exclude theta_0!!!\n",
    "    reg_term = (lambda_coef / (2 * m)) * np.sum(np.square(theta[1:]))\n",
    "    cost = (np.sum(term1 - term2) / m) + reg_term\n",
    "    return cost\n",
    "\n",
    "print('The cost with initial θ equals to zeros, is:')\n",
    "print(computeCost(theta, x, y, 0))"
   ]
  },
  {
   "cell_type": "markdown",
   "metadata": {},
   "source": [
    "### Learning parameters"
   ]
  },
  {
   "cell_type": "markdown",
   "metadata": {},
   "source": [
    "Similar to the previous parts, an optimize function will be used to learn the optimal parameters $\\theta$.\n",
    "(The *fmin* *from scipy.optimize import fmin* was tested and it was found that cannot converge.)\n",
    "The alternative *minimize* function will be used."
   ]
  },
  {
   "cell_type": "code",
   "execution_count": 19,
   "metadata": {},
   "outputs": [
    {
     "name": "stdout",
     "output_type": "stream",
     "text": [
      "Optimal theta parameters for lambda = 100:\n"
     ]
    },
    {
     "data": {
      "text/plain": [
       "array([ 0.02188604, -0.01748169,  0.0057103 , -0.05516942, -0.01314888,\n",
       "       -0.03859919, -0.01846357, -0.00773238, -0.00892435, -0.02280493,\n",
       "       -0.04343877, -0.00235625, -0.01415632, -0.00349511, -0.04143635,\n",
       "       -0.02100597, -0.00471924, -0.00359135, -0.00632237, -0.00502444,\n",
       "       -0.03197708, -0.03416354, -0.00107629, -0.00702625, -0.00038507,\n",
       "       -0.00798242, -0.00154779, -0.04108713])"
      ]
     },
     "execution_count": 19,
     "metadata": {},
     "output_type": "execute_result"
    }
   ],
   "source": [
    "from scipy.optimize import minimize\n",
    "\n",
    "res = minimize(fun=computeCost, x0=theta, args=(x, y, 100))\n",
    "print(\"Optimal theta parameters for lambda = 100:\")\n",
    "theta_opt = res.x\n",
    "theta_opt"
   ]
  },
  {
   "cell_type": "markdown",
   "metadata": {},
   "source": [
    "### Plot the decision boundary"
   ]
  },
  {
   "cell_type": "markdown",
   "metadata": {},
   "source": [
    "Plot the decision boundary on the training data, using the optimal $\\theta$ values. Compute the classifier’s predictions on an evenly spaced grid and then draw a contour plot of where the predictions change from $y=0$ to $y=1$.\n",
    "\n",
    "Notice the changes in the decision boundary as $\\lambda$ varies. With a small $\\lambda$, the classifier gets almost every training example correct, but draws a very complicated boundary, thus overfitting the data. This is not a good decision boundary: for example, it predicts that a point at $x=(−0.25,1.5)$ is accepted ($y=1$), which seems to be an incorrect decision given the training set.\n",
    "\n",
    "With a larger $\\lambda$, the plot shows a simpler decision boundary which still separates the positives and negatives fairly well. However, if $\\lambda$ is set too high, the resulting fit is not good and the decision boundary will not follow the data so well, thus underfitting the data."
   ]
  },
  {
   "cell_type": "code",
   "execution_count": 20,
   "metadata": {},
   "outputs": [],
   "source": [
    "# Create a predict function.\n",
    "def predictAdmission(x, theta):\n",
    "    \"\"\"\n",
    "    Predict whether a student will be admitted.\n",
    "    Args:\n",
    "        x: array shape(m, n+1)\n",
    "        theta: ndarray, the optimal parameters of the cost function\n",
    "    Returns:\n",
    "        predicted: array shape(m,) of booleans\n",
    "    \"\"\"\n",
    "    probability = np.array(sigmoid(np.dot(x, theta)))\n",
    "    predicted = probability >= 0.5\n",
    "    return predicted"
   ]
  },
  {
   "cell_type": "code",
   "execution_count": 21,
   "metadata": {},
   "outputs": [
    {
     "name": "stdout",
     "output_type": "stream",
     "text": [
      "------------------------------------------------------------\n",
      "\n",
      "No regularization (Overfitting) (λ = 0)\n",
      "Accuracy score: 91.5%\n"
     ]
    },
    {
     "data": {
      "image/png": "[encoded data removed]",
      "text/plain": [
       "<Figure size 576x432 with 1 Axes>"
      ]
     },
     "metadata": {},
     "output_type": "display_data"
    },
    {
     "name": "stdout",
     "output_type": "stream",
     "text": [
      "------------------------------------------------------------\n",
      "\n",
      "Training data with decision boundary (λ = 1)\n",
      "Accuracy score: 83.1%\n"
     ]
    },
    {
     "data": {
      "image/png": "[encoded data removed]",
      "text/plain": [
       "<Figure size 576x432 with 1 Axes>"
      ]
     },
     "metadata": {},
     "output_type": "display_data"
    },
    {
     "name": "stdout",
     "output_type": "stream",
     "text": [
      "------------------------------------------------------------\n",
      "\n",
      "Too much regularization (Underfitting) (λ = 100)\n",
      "Accuracy score: 61.0%\n"
     ]
    },
    {
     "data": {
      "image/png": "[encoded data removed]",
      "text/plain": [
       "<Figure size 576x432 with 1 Axes>"
      ]
     },
     "metadata": {},
     "output_type": "display_data"
    }
   ],
   "source": [
    "# Create different cases of λ to plot the decision boundaries.\n",
    "cases = {\"No regularization (Overfitting) (λ = 0)\": 0,\n",
    "         \"Training data with decision boundary (λ = 1)\": 1,\n",
    "         \"Too much regularization (Underfitting) (λ = 100)\": 100}\n",
    "\n",
    "for k, v in cases.items():\n",
    "    print(60 * \"-\")\n",
    "    print()\n",
    "    print(k)\n",
    "    \n",
    "    # Optimize the cost function.\n",
    "    res = minimize(fun=computeCost, x0=theta, args=(x, y, v))\n",
    "    theta_opt = res.x\n",
    "    \n",
    "    # Compute the accuracy.\n",
    "    predicted = predictAdmission(x, theta_opt)\n",
    "    correct = np.sum(predicted.astype(int) == y.ravel())\n",
    "    total = len(predicted)\n",
    "    print('Accuracy score: {}%'.format(round((100 * correct / total), 1)))\n",
    "    \n",
    "    # Reshape theta to (n, 1).\n",
    "    theta_opt = theta_opt.reshape(len(theta), 1)\n",
    "\n",
    "    # Create the meshgrid.\n",
    "    xs = np.linspace(-1, 1.5, 50)\n",
    "    ys = np.linspace(-1, 1.5, 50)\n",
    "    xx, yy = np.meshgrid(xs, ys)\n",
    "    # Note the input to np.zeros is a tuple!!!\n",
    "    zs = np.zeros((len(xs), len(ys)))\n",
    "\n",
    "    # Create the dataframe from the above columns.\n",
    "    df = pd.DataFrame({'xs': xx.ravel(),\n",
    "                         'ys': yy.ravel(),\n",
    "                         'zs': zs.ravel()})\n",
    "\n",
    "    # Transform the df.\n",
    "    transformed_data = mapFeature(df, 2, 6)\n",
    "\n",
    "    # Get the number of features.\n",
    "    n = len(transformed_data.columns)-1\n",
    "\n",
    "    # Prepare the data.\n",
    "    xx1, yy1, theta = prepareData(transformed_data, n)\n",
    "\n",
    "    # Compute the classifier’s predictions.\n",
    "    h_theta = sigmoid(np.dot(xx1, theta_opt))\n",
    "    h_theta = h_theta.reshape((50, 50))\n",
    "\n",
    "    plt.figure(figsize=(8, 6))\n",
    "    plt.xlabel('Microchip Test 1')\n",
    "    plt.ylabel('Microchip Test 2')\n",
    "    plt.title('Plot of training data')\n",
    "    plt.plot(data['Test1'][data['Accepted']==1],\n",
    "             data['Test2'][data['Accepted']==1], 'k+',\n",
    "             label='y = 1')\n",
    "    plt.plot(data['Test1'][data['Accepted']==0],\n",
    "             data['Test2'][data['Accepted']==0], 'yo',\n",
    "             label='y = 0')\n",
    "    plt.legend()\n",
    "    plt.contour(xx, yy, h_theta, [0.5])\n",
    "    plt.show()"
   ]
  },
  {
   "cell_type": "code",
   "execution_count": null,
   "metadata": {},
   "outputs": [],
   "source": []
  }
 ],
 "metadata": {
  "colab": {
   "collapsed_sections": [],
   "name": "Faisons une dernière classification - Exercice SOLUTION.ipynb",
   "provenance": [],
   "version": "0.3.2"
  },
  "kernelspec": {
   "display_name": "Python 3",
   "language": "python",
   "name": "python3"
  },
  "language_info": {
   "codemirror_mode": {
    "name": "ipython",
    "version": 3
   },
   "file_extension": ".py",
   "mimetype": "text/x-python",
   "name": "python",
   "nbconvert_exporter": "python",
   "pygments_lexer": "ipython3",
   "version": "3.7.3"
  }
 },
 "nbformat": 4,
 "nbformat_minor": 1
}
