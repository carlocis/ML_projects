{
 "cells": [
  {
   "cell_type": "code",
   "execution_count": 1,
   "metadata": {},
   "outputs": [],
   "source": [
    "import pandas as pd\n",
    "pd.options.display.max_rows = 1000 #handy for showing truncated results\n",
    "import seaborn as sns\n",
    "sns.set(rc={'figure.figsize':(7,5)})\n",
    "import matplotlib.pyplot as plt\n",
    "import numpy as np\n",
    "\n",
    "\n",
    "df_full = pd.read_csv('Speed Dating Data.csv', encoding=\"ISO-8859-1\")"
   ]
  },
  {
   "cell_type": "code",
   "execution_count": 2,
   "metadata": {},
   "outputs": [
    {
     "name": "stdout",
     "output_type": "stream",
     "text": [
      "<class 'pandas.core.frame.DataFrame'>\n",
      "RangeIndex: 8378 entries, 0 to 8377\n",
      "Columns: 195 entries, iid to amb5_3\n",
      "dtypes: float64(174), int64(13), object(8)\n",
      "memory usage: 12.5+ MB\n"
     ]
    }
   ],
   "source": [
    "df_full.info()"
   ]
  },
  {
   "cell_type": "code",
   "execution_count": 3,
   "metadata": {},
   "outputs": [
    {
     "data": {
      "text/plain": [
       "(8378, 195)"
      ]
     },
     "execution_count": 3,
     "metadata": {},
     "output_type": "execute_result"
    }
   ],
   "source": [
    "df_full.shape"
   ]
  },
  {
   "cell_type": "code",
   "execution_count": 4,
   "metadata": {},
   "outputs": [
    {
     "data": {
      "text/html": [
       "<div>\n",
       "<style scoped>\n",
       "    .dataframe tbody tr th:only-of-type {\n",
       "        vertical-align: middle;\n",
       "    }\n",
       "\n",
       "    .dataframe tbody tr th {\n",
       "        vertical-align: top;\n",
       "    }\n",
       "\n",
       "    .dataframe thead th {\n",
       "        text-align: right;\n",
       "    }\n",
       "</style>\n",
       "<table border=\"1\" class=\"dataframe\">\n",
       "  <thead>\n",
       "    <tr style=\"text-align: right;\">\n",
       "      <th></th>\n",
       "      <th>iid</th>\n",
       "      <th>id</th>\n",
       "      <th>gender</th>\n",
       "      <th>idg</th>\n",
       "      <th>condtn</th>\n",
       "      <th>wave</th>\n",
       "      <th>round</th>\n",
       "      <th>position</th>\n",
       "      <th>positin1</th>\n",
       "      <th>order</th>\n",
       "      <th>...</th>\n",
       "      <th>attr3_3</th>\n",
       "      <th>sinc3_3</th>\n",
       "      <th>intel3_3</th>\n",
       "      <th>fun3_3</th>\n",
       "      <th>amb3_3</th>\n",
       "      <th>attr5_3</th>\n",
       "      <th>sinc5_3</th>\n",
       "      <th>intel5_3</th>\n",
       "      <th>fun5_3</th>\n",
       "      <th>amb5_3</th>\n",
       "    </tr>\n",
       "  </thead>\n",
       "  <tbody>\n",
       "    <tr>\n",
       "      <th>0</th>\n",
       "      <td>1</td>\n",
       "      <td>1.0</td>\n",
       "      <td>0</td>\n",
       "      <td>1</td>\n",
       "      <td>1</td>\n",
       "      <td>1</td>\n",
       "      <td>10</td>\n",
       "      <td>7</td>\n",
       "      <td>NaN</td>\n",
       "      <td>4</td>\n",
       "      <td>...</td>\n",
       "      <td>5.0</td>\n",
       "      <td>7.0</td>\n",
       "      <td>7.0</td>\n",
       "      <td>7.0</td>\n",
       "      <td>7.0</td>\n",
       "      <td>NaN</td>\n",
       "      <td>NaN</td>\n",
       "      <td>NaN</td>\n",
       "      <td>NaN</td>\n",
       "      <td>NaN</td>\n",
       "    </tr>\n",
       "    <tr>\n",
       "      <th>1</th>\n",
       "      <td>1</td>\n",
       "      <td>1.0</td>\n",
       "      <td>0</td>\n",
       "      <td>1</td>\n",
       "      <td>1</td>\n",
       "      <td>1</td>\n",
       "      <td>10</td>\n",
       "      <td>7</td>\n",
       "      <td>NaN</td>\n",
       "      <td>3</td>\n",
       "      <td>...</td>\n",
       "      <td>5.0</td>\n",
       "      <td>7.0</td>\n",
       "      <td>7.0</td>\n",
       "      <td>7.0</td>\n",
       "      <td>7.0</td>\n",
       "      <td>NaN</td>\n",
       "      <td>NaN</td>\n",
       "      <td>NaN</td>\n",
       "      <td>NaN</td>\n",
       "      <td>NaN</td>\n",
       "    </tr>\n",
       "    <tr>\n",
       "      <th>2</th>\n",
       "      <td>1</td>\n",
       "      <td>1.0</td>\n",
       "      <td>0</td>\n",
       "      <td>1</td>\n",
       "      <td>1</td>\n",
       "      <td>1</td>\n",
       "      <td>10</td>\n",
       "      <td>7</td>\n",
       "      <td>NaN</td>\n",
       "      <td>10</td>\n",
       "      <td>...</td>\n",
       "      <td>5.0</td>\n",
       "      <td>7.0</td>\n",
       "      <td>7.0</td>\n",
       "      <td>7.0</td>\n",
       "      <td>7.0</td>\n",
       "      <td>NaN</td>\n",
       "      <td>NaN</td>\n",
       "      <td>NaN</td>\n",
       "      <td>NaN</td>\n",
       "      <td>NaN</td>\n",
       "    </tr>\n",
       "    <tr>\n",
       "      <th>3</th>\n",
       "      <td>1</td>\n",
       "      <td>1.0</td>\n",
       "      <td>0</td>\n",
       "      <td>1</td>\n",
       "      <td>1</td>\n",
       "      <td>1</td>\n",
       "      <td>10</td>\n",
       "      <td>7</td>\n",
       "      <td>NaN</td>\n",
       "      <td>5</td>\n",
       "      <td>...</td>\n",
       "      <td>5.0</td>\n",
       "      <td>7.0</td>\n",
       "      <td>7.0</td>\n",
       "      <td>7.0</td>\n",
       "      <td>7.0</td>\n",
       "      <td>NaN</td>\n",
       "      <td>NaN</td>\n",
       "      <td>NaN</td>\n",
       "      <td>NaN</td>\n",
       "      <td>NaN</td>\n",
       "    </tr>\n",
       "    <tr>\n",
       "      <th>4</th>\n",
       "      <td>1</td>\n",
       "      <td>1.0</td>\n",
       "      <td>0</td>\n",
       "      <td>1</td>\n",
       "      <td>1</td>\n",
       "      <td>1</td>\n",
       "      <td>10</td>\n",
       "      <td>7</td>\n",
       "      <td>NaN</td>\n",
       "      <td>7</td>\n",
       "      <td>...</td>\n",
       "      <td>5.0</td>\n",
       "      <td>7.0</td>\n",
       "      <td>7.0</td>\n",
       "      <td>7.0</td>\n",
       "      <td>7.0</td>\n",
       "      <td>NaN</td>\n",
       "      <td>NaN</td>\n",
       "      <td>NaN</td>\n",
       "      <td>NaN</td>\n",
       "      <td>NaN</td>\n",
       "    </tr>\n",
       "  </tbody>\n",
       "</table>\n",
       "<p>5 rows × 195 columns</p>\n",
       "</div>"
      ],
      "text/plain": [
       "   iid   id  gender  idg  condtn  wave  round  position  positin1  order  ...  \\\n",
       "0    1  1.0       0    1       1     1     10         7       NaN      4  ...   \n",
       "1    1  1.0       0    1       1     1     10         7       NaN      3  ...   \n",
       "2    1  1.0       0    1       1     1     10         7       NaN     10  ...   \n",
       "3    1  1.0       0    1       1     1     10         7       NaN      5  ...   \n",
       "4    1  1.0       0    1       1     1     10         7       NaN      7  ...   \n",
       "\n",
       "   attr3_3  sinc3_3  intel3_3  fun3_3  amb3_3  attr5_3  sinc5_3  intel5_3  \\\n",
       "0      5.0      7.0       7.0     7.0     7.0      NaN      NaN       NaN   \n",
       "1      5.0      7.0       7.0     7.0     7.0      NaN      NaN       NaN   \n",
       "2      5.0      7.0       7.0     7.0     7.0      NaN      NaN       NaN   \n",
       "3      5.0      7.0       7.0     7.0     7.0      NaN      NaN       NaN   \n",
       "4      5.0      7.0       7.0     7.0     7.0      NaN      NaN       NaN   \n",
       "\n",
       "   fun5_3  amb5_3  \n",
       "0     NaN     NaN  \n",
       "1     NaN     NaN  \n",
       "2     NaN     NaN  \n",
       "3     NaN     NaN  \n",
       "4     NaN     NaN  \n",
       "\n",
       "[5 rows x 195 columns]"
      ]
     },
     "execution_count": 4,
     "metadata": {},
     "output_type": "execute_result"
    }
   ],
   "source": [
    "df_full.head()"
   ]
  },
  {
   "cell_type": "code",
   "execution_count": 5,
   "metadata": {},
   "outputs": [
    {
     "data": {
      "text/plain": [
       "iid            0\n",
       "id             1\n",
       "gender         0\n",
       "idg            0\n",
       "condtn         0\n",
       "wave           0\n",
       "round          0\n",
       "position       0\n",
       "positin1    1846\n",
       "order          0\n",
       "partner        0\n",
       "pid           10\n",
       "match          0\n",
       "int_corr     158\n",
       "samerace       0\n",
       "age_o        104\n",
       "race_o        73\n",
       "pf_o_att      89\n",
       "pf_o_sin      89\n",
       "pf_o_int      89\n",
       "pf_o_fun      98\n",
       "pf_o_amb     107\n",
       "pf_o_sha     129\n",
       "dec_o          0\n",
       "attr_o       212\n",
       "sinc_o       287\n",
       "intel_o      306\n",
       "fun_o        360\n",
       "amb_o        722\n",
       "shar_o      1076\n",
       "like_o       250\n",
       "prob_o       318\n",
       "met_o        385\n",
       "age           95\n",
       "field         63\n",
       "field_cd      82\n",
       "undergra    3464\n",
       "mn_sat      5245\n",
       "tuition     4795\n",
       "race          63\n",
       "imprace       79\n",
       "imprelig      79\n",
       "from          79\n",
       "zipcode     1064\n",
       "income      4099\n",
       "goal          79\n",
       "date          97\n",
       "go_out        79\n",
       "career        89\n",
       "career_c     138\n",
       "sports        79\n",
       "tvsports      79\n",
       "exercise      79\n",
       "dining        79\n",
       "museums       79\n",
       "art           79\n",
       "hiking        79\n",
       "gaming        79\n",
       "clubbing      79\n",
       "reading       79\n",
       "tv            79\n",
       "theater       79\n",
       "movies        79\n",
       "concerts      79\n",
       "music         79\n",
       "shopping      79\n",
       "yoga          79\n",
       "exphappy     101\n",
       "expnum      6578\n",
       "attr1_1       79\n",
       "sinc1_1       79\n",
       "intel1_1      79\n",
       "fun1_1        89\n",
       "amb1_1        99\n",
       "shar1_1      121\n",
       "attr4_1     1889\n",
       "sinc4_1     1889\n",
       "intel4_1    1889\n",
       "fun4_1      1889\n",
       "amb4_1      1889\n",
       "shar4_1     1911\n",
       "attr2_1       79\n",
       "sinc2_1       79\n",
       "intel2_1      79\n",
       "fun2_1        79\n",
       "amb2_1        89\n",
       "shar2_1       89\n",
       "attr3_1      105\n",
       "sinc3_1      105\n",
       "fun3_1       105\n",
       "intel3_1     105\n",
       "amb3_1       105\n",
       "attr5_1     3472\n",
       "sinc5_1     3472\n",
       "intel5_1    3472\n",
       "fun5_1      3472\n",
       "amb5_1      3472\n",
       "dec            0\n",
       "attr         202\n",
       "sinc         277\n",
       "intel        296\n",
       "fun          350\n",
       "amb          712\n",
       "shar        1067\n",
       "like         240\n",
       "prob         309\n",
       "met          375\n",
       "match_es    1173\n",
       "attr1_s     4282\n",
       "sinc1_s     4282\n",
       "intel1_s    4282\n",
       "fun1_s      4282\n",
       "amb1_s      4282\n",
       "shar1_s     4282\n",
       "attr3_s     4378\n",
       "sinc3_s     4378\n",
       "intel3_s    4378\n",
       "fun3_s      4378\n",
       "amb3_s      4378\n",
       "satis_2      915\n",
       "length       915\n",
       "numdat_2     945\n",
       "attr7_2     6394\n",
       "sinc7_2     6423\n",
       "intel7_2    6394\n",
       "fun7_2      6394\n",
       "amb7_2      6423\n",
       "shar7_2     6404\n",
       "attr1_2      933\n",
       "sinc1_2      915\n",
       "intel1_2     915\n",
       "fun1_2       915\n",
       "amb1_2       915\n",
       "shar1_2      915\n",
       "attr4_2     2603\n",
       "sinc4_2     2603\n",
       "intel4_2    2603\n",
       "fun4_2      2603\n",
       "amb4_2      2603\n",
       "shar4_2     2603\n",
       "attr2_2     2603\n",
       "sinc2_2     2603\n",
       "intel2_2    2603\n",
       "fun2_2      2603\n",
       "amb2_2      2603\n",
       "shar2_2     2603\n",
       "attr3_2      915\n",
       "sinc3_2      915\n",
       "intel3_2     915\n",
       "fun3_2       915\n",
       "amb3_2       915\n",
       "attr5_2     4001\n",
       "sinc5_2     4001\n",
       "intel5_2    4001\n",
       "fun5_2      4001\n",
       "amb5_2      4001\n",
       "you_call    4404\n",
       "them_cal    4404\n",
       "date_3      4404\n",
       "numdat_3    6882\n",
       "num_in_3    7710\n",
       "attr1_3     4404\n",
       "sinc1_3     4404\n",
       "intel1_3    4404\n",
       "fun1_3      4404\n",
       "amb1_3      4404\n",
       "shar1_3     4404\n",
       "attr7_3     6362\n",
       "sinc7_3     6362\n",
       "intel7_3    6362\n",
       "fun7_3      6362\n",
       "amb7_3      6362\n",
       "shar7_3     6362\n",
       "attr4_3     5419\n",
       "sinc4_3     5419\n",
       "intel4_3    5419\n",
       "fun4_3      5419\n",
       "amb4_3      5419\n",
       "shar4_3     5419\n",
       "attr2_3     5419\n",
       "sinc2_3     5419\n",
       "intel2_3    5419\n",
       "fun2_3      5419\n",
       "amb2_3      5419\n",
       "shar2_3     6362\n",
       "attr3_3     4404\n",
       "sinc3_3     4404\n",
       "intel3_3    4404\n",
       "fun3_3      4404\n",
       "amb3_3      4404\n",
       "attr5_3     6362\n",
       "sinc5_3     6362\n",
       "intel5_3    6362\n",
       "fun5_3      6362\n",
       "amb5_3      6362\n",
       "dtype: int64"
      ]
     },
     "execution_count": 5,
     "metadata": {},
     "output_type": "execute_result"
    }
   ],
   "source": [
    "df_full.isnull().sum()"
   ]
  },
  {
   "cell_type": "code",
   "execution_count": 6,
   "metadata": {},
   "outputs": [
    {
     "data": {
      "text/plain": [
       "['iid',\n",
       " 'id',\n",
       " 'gender',\n",
       " 'idg',\n",
       " 'condtn',\n",
       " 'wave',\n",
       " 'round',\n",
       " 'position',\n",
       " 'positin1',\n",
       " 'order',\n",
       " 'partner',\n",
       " 'pid',\n",
       " 'match',\n",
       " 'int_corr',\n",
       " 'samerace',\n",
       " 'age_o',\n",
       " 'race_o',\n",
       " 'pf_o_att',\n",
       " 'pf_o_sin',\n",
       " 'pf_o_int',\n",
       " 'pf_o_fun',\n",
       " 'pf_o_amb',\n",
       " 'pf_o_sha',\n",
       " 'dec_o',\n",
       " 'attr_o',\n",
       " 'sinc_o',\n",
       " 'intel_o',\n",
       " 'fun_o',\n",
       " 'amb_o',\n",
       " 'shar_o',\n",
       " 'like_o',\n",
       " 'prob_o',\n",
       " 'met_o',\n",
       " 'age',\n",
       " 'field',\n",
       " 'field_cd',\n",
       " 'undergra',\n",
       " 'mn_sat',\n",
       " 'tuition',\n",
       " 'race',\n",
       " 'imprace',\n",
       " 'imprelig',\n",
       " 'from',\n",
       " 'zipcode',\n",
       " 'income',\n",
       " 'goal',\n",
       " 'date',\n",
       " 'go_out',\n",
       " 'career',\n",
       " 'career_c',\n",
       " 'sports',\n",
       " 'tvsports',\n",
       " 'exercise',\n",
       " 'dining',\n",
       " 'museums',\n",
       " 'art',\n",
       " 'hiking',\n",
       " 'gaming',\n",
       " 'clubbing',\n",
       " 'reading',\n",
       " 'tv',\n",
       " 'theater',\n",
       " 'movies',\n",
       " 'concerts',\n",
       " 'music',\n",
       " 'shopping',\n",
       " 'yoga',\n",
       " 'exphappy',\n",
       " 'expnum',\n",
       " 'attr1_1',\n",
       " 'sinc1_1',\n",
       " 'intel1_1',\n",
       " 'fun1_1',\n",
       " 'amb1_1',\n",
       " 'shar1_1',\n",
       " 'attr4_1',\n",
       " 'sinc4_1',\n",
       " 'intel4_1',\n",
       " 'fun4_1',\n",
       " 'amb4_1',\n",
       " 'shar4_1',\n",
       " 'attr2_1',\n",
       " 'sinc2_1',\n",
       " 'intel2_1',\n",
       " 'fun2_1',\n",
       " 'amb2_1',\n",
       " 'shar2_1',\n",
       " 'attr3_1',\n",
       " 'sinc3_1',\n",
       " 'fun3_1',\n",
       " 'intel3_1',\n",
       " 'amb3_1',\n",
       " 'attr5_1',\n",
       " 'sinc5_1',\n",
       " 'intel5_1',\n",
       " 'fun5_1',\n",
       " 'amb5_1',\n",
       " 'dec',\n",
       " 'attr',\n",
       " 'sinc',\n",
       " 'intel',\n",
       " 'fun',\n",
       " 'amb',\n",
       " 'shar',\n",
       " 'like',\n",
       " 'prob',\n",
       " 'met',\n",
       " 'match_es',\n",
       " 'attr1_s',\n",
       " 'sinc1_s',\n",
       " 'intel1_s',\n",
       " 'fun1_s',\n",
       " 'amb1_s',\n",
       " 'shar1_s',\n",
       " 'attr3_s',\n",
       " 'sinc3_s',\n",
       " 'intel3_s',\n",
       " 'fun3_s',\n",
       " 'amb3_s',\n",
       " 'satis_2',\n",
       " 'length',\n",
       " 'numdat_2',\n",
       " 'attr7_2',\n",
       " 'sinc7_2',\n",
       " 'intel7_2',\n",
       " 'fun7_2',\n",
       " 'amb7_2',\n",
       " 'shar7_2',\n",
       " 'attr1_2',\n",
       " 'sinc1_2',\n",
       " 'intel1_2',\n",
       " 'fun1_2',\n",
       " 'amb1_2',\n",
       " 'shar1_2',\n",
       " 'attr4_2',\n",
       " 'sinc4_2',\n",
       " 'intel4_2',\n",
       " 'fun4_2',\n",
       " 'amb4_2',\n",
       " 'shar4_2',\n",
       " 'attr2_2',\n",
       " 'sinc2_2',\n",
       " 'intel2_2',\n",
       " 'fun2_2',\n",
       " 'amb2_2',\n",
       " 'shar2_2',\n",
       " 'attr3_2',\n",
       " 'sinc3_2',\n",
       " 'intel3_2',\n",
       " 'fun3_2',\n",
       " 'amb3_2',\n",
       " 'attr5_2',\n",
       " 'sinc5_2',\n",
       " 'intel5_2',\n",
       " 'fun5_2',\n",
       " 'amb5_2',\n",
       " 'you_call',\n",
       " 'them_cal',\n",
       " 'date_3',\n",
       " 'numdat_3',\n",
       " 'num_in_3',\n",
       " 'attr1_3',\n",
       " 'sinc1_3',\n",
       " 'intel1_3',\n",
       " 'fun1_3',\n",
       " 'amb1_3',\n",
       " 'shar1_3',\n",
       " 'attr7_3',\n",
       " 'sinc7_3',\n",
       " 'intel7_3',\n",
       " 'fun7_3',\n",
       " 'amb7_3',\n",
       " 'shar7_3',\n",
       " 'attr4_3',\n",
       " 'sinc4_3',\n",
       " 'intel4_3',\n",
       " 'fun4_3',\n",
       " 'amb4_3',\n",
       " 'shar4_3',\n",
       " 'attr2_3',\n",
       " 'sinc2_3',\n",
       " 'intel2_3',\n",
       " 'fun2_3',\n",
       " 'amb2_3',\n",
       " 'shar2_3',\n",
       " 'attr3_3',\n",
       " 'sinc3_3',\n",
       " 'intel3_3',\n",
       " 'fun3_3',\n",
       " 'amb3_3',\n",
       " 'attr5_3',\n",
       " 'sinc5_3',\n",
       " 'intel5_3',\n",
       " 'fun5_3',\n",
       " 'amb5_3']"
      ]
     },
     "execution_count": 6,
     "metadata": {},
     "output_type": "execute_result"
    }
   ],
   "source": [
    "list(df_full.columns)"
   ]
  },
  {
   "cell_type": "code",
   "execution_count": 7,
   "metadata": {},
   "outputs": [
    {
     "data": {
      "text/plain": [
       "95"
      ]
     },
     "execution_count": 7,
     "metadata": {},
     "output_type": "execute_result"
    }
   ],
   "source": [
    "df_full.age.isnull().sum()"
   ]
  },
  {
   "cell_type": "code",
   "execution_count": 8,
   "metadata": {},
   "outputs": [],
   "source": [
    "df_full = df_full[- df_full.age.isna()]"
   ]
  },
  {
   "cell_type": "code",
   "execution_count": 9,
   "metadata": {},
   "outputs": [
    {
     "data": {
      "text/plain": [
       "0"
      ]
     },
     "execution_count": 9,
     "metadata": {},
     "output_type": "execute_result"
    }
   ],
   "source": [
    "df_full.age.isnull().sum()"
   ]
  },
  {
   "cell_type": "code",
   "execution_count": 10,
   "metadata": {},
   "outputs": [
    {
     "data": {
      "text/plain": [
       "543"
      ]
     },
     "execution_count": 10,
     "metadata": {},
     "output_type": "execute_result"
    }
   ],
   "source": [
    "len(df_full.iid.unique())"
   ]
  },
  {
   "cell_type": "code",
   "execution_count": 11,
   "metadata": {},
   "outputs": [],
   "source": [
    "df = df_full.drop_duplicates(\"iid\")"
   ]
  },
  {
   "cell_type": "markdown",
   "metadata": {},
   "source": [
    "Since we have multiple iids (but it's always the same person), we drop duplicates so we have all the partecipants only once, and we can plot the distribution of the age without all the repetitions."
   ]
  },
  {
   "cell_type": "code",
   "execution_count": 12,
   "metadata": {},
   "outputs": [
    {
     "data": {
      "text/plain": [
       "Text(0, 0.5, 'Frequency')"
      ]
     },
     "execution_count": 12,
     "metadata": {},
     "output_type": "execute_result"
    },
    {
     "data": {
      "image/png": "[encoded data removed]",
      "text/plain": [
       "<Figure size 504x360 with 1 Axes>"
      ]
     },
     "metadata": {},
     "output_type": "display_data"
    }
   ],
   "source": [
    "plt.hist(df.age, bins = 20)\n",
    "plt.xlabel('Age')\n",
    "plt.ylabel('Frequency')"
   ]
  },
  {
   "cell_type": "code",
   "execution_count": 13,
   "metadata": {},
   "outputs": [
    {
     "data": {
      "text/plain": [
       "27.0    68\n",
       "24.0    56\n",
       "23.0    56\n",
       "25.0    55\n",
       "26.0    55\n",
       "28.0    47\n",
       "22.0    44\n",
       "29.0    40\n",
       "30.0    36\n",
       "21.0    22\n",
       "32.0    13\n",
       "33.0    12\n",
       "34.0    11\n",
       "31.0     7\n",
       "20.0     5\n",
       "35.0     4\n",
       "36.0     4\n",
       "19.0     2\n",
       "38.0     1\n",
       "39.0     1\n",
       "18.0     1\n",
       "37.0     1\n",
       "42.0     1\n",
       "55.0     1\n",
       "Name: age, dtype: int64"
      ]
     },
     "execution_count": 13,
     "metadata": {},
     "output_type": "execute_result"
    }
   ],
   "source": [
    "df.age.value_counts()"
   ]
  },
  {
   "cell_type": "code",
   "execution_count": 14,
   "metadata": {},
   "outputs": [
    {
     "data": {
      "text/plain": [
       "Text(0, 0.5, 'Frequency')"
      ]
     },
     "execution_count": 14,
     "metadata": {},
     "output_type": "execute_result"
    },
    {
     "data": {
      "image/png": "[encoded data removed]",
      "text/plain": [
       "<Figure size 504x360 with 1 Axes>"
      ]
     },
     "metadata": {},
     "output_type": "display_data"
    }
   ],
   "source": [
    "plt.hist(df.age, bins = 20)\n",
    "plt.xlabel('Age')\n",
    "plt.ylabel('Frequency')"
   ]
  },
  {
   "cell_type": "code",
   "execution_count": 15,
   "metadata": {},
   "outputs": [],
   "source": [
    "#data.groupby(\"age\").count().id"
   ]
  },
  {
   "cell_type": "code",
   "execution_count": 16,
   "metadata": {},
   "outputs": [],
   "source": [
    "n_females = df.gender[df.gender == 0].count()"
   ]
  },
  {
   "cell_type": "code",
   "execution_count": 17,
   "metadata": {},
   "outputs": [],
   "source": [
    "n_males = df.gender[df.gender == 1].count()"
   ]
  },
  {
   "cell_type": "code",
   "execution_count": 18,
   "metadata": {},
   "outputs": [
    {
     "data": {
      "text/plain": [
       "True"
      ]
     },
     "execution_count": 18,
     "metadata": {},
     "output_type": "execute_result"
    }
   ],
   "source": [
    "df.shape[0] == n_males + n_females"
   ]
  },
  {
   "cell_type": "code",
   "execution_count": 19,
   "metadata": {},
   "outputs": [
    {
     "name": "stderr",
     "output_type": "stream",
     "text": [
      "/Users/Carlo/anaconda3/lib/python3.7/site-packages/ipykernel_launcher.py:1: SettingWithCopyWarning: \n",
      "A value is trying to be set on a copy of a slice from a DataFrame.\n",
      "Try using .loc[row_indexer,col_indexer] = value instead\n",
      "\n",
      "See the caveats in the documentation: https://pandas.pydata.org/pandas-docs/stable/user_guide/indexing.html#returning-a-view-versus-a-copy\n",
      "  \"\"\"Entry point for launching an IPython kernel.\n"
     ]
    }
   ],
   "source": [
    "df['gender'] = df.gender.map({1 : 'Male', 0 : 'Female'})"
   ]
  },
  {
   "cell_type": "code",
   "execution_count": 20,
   "metadata": {},
   "outputs": [
    {
     "data": {
      "text/plain": [
       "0     Female\n",
       "10    Female\n",
       "20    Female\n",
       "30    Female\n",
       "40    Female\n",
       "Name: gender, dtype: object"
      ]
     },
     "execution_count": 20,
     "metadata": {},
     "output_type": "execute_result"
    }
   ],
   "source": [
    "df.gender.head()"
   ]
  },
  {
   "cell_type": "code",
   "execution_count": 21,
   "metadata": {},
   "outputs": [
    {
     "data": {
      "text/plain": [
       "<seaborn.axisgrid.FacetGrid at 0x1a23f85470>"
      ]
     },
     "execution_count": 21,
     "metadata": {},
     "output_type": "execute_result"
    },
    {
     "data": {
      "image/png": "[encoded data removed]",
      "text/plain": [
       "<Figure size 508.35x432 with 1 Axes>"
      ]
     },
     "metadata": {},
     "output_type": "display_data"
    }
   ],
   "source": [
    "g = sns.FacetGrid(df, hue='gender', height = 6)\n",
    "g.map(plt.hist, 'age', alpha= 0.7, bins=20)\n",
    "g.set_xlabels('Age', fontsize=12)\n",
    "plt.subplots_adjust(top=0.9)\n",
    "g.fig.suptitle('Age distribution by gender', fontsize=15)\n",
    "g.add_legend()"
   ]
  },
  {
   "cell_type": "code",
   "execution_count": 22,
   "metadata": {},
   "outputs": [
    {
     "data": {
      "text/html": [
       "<div>\n",
       "<style scoped>\n",
       "    .dataframe tbody tr th:only-of-type {\n",
       "        vertical-align: middle;\n",
       "    }\n",
       "\n",
       "    .dataframe tbody tr th {\n",
       "        vertical-align: top;\n",
       "    }\n",
       "\n",
       "    .dataframe thead tr th {\n",
       "        text-align: left;\n",
       "    }\n",
       "\n",
       "    .dataframe thead tr:last-of-type th {\n",
       "        text-align: right;\n",
       "    }\n",
       "</style>\n",
       "<table border=\"1\" class=\"dataframe\">\n",
       "  <thead>\n",
       "    <tr>\n",
       "      <th></th>\n",
       "      <th colspan=\"5\" halign=\"left\">age</th>\n",
       "    </tr>\n",
       "    <tr>\n",
       "      <th></th>\n",
       "      <th>mean</th>\n",
       "      <th>median</th>\n",
       "      <th>min</th>\n",
       "      <th>max</th>\n",
       "      <th>count</th>\n",
       "    </tr>\n",
       "    <tr>\n",
       "      <th>gender</th>\n",
       "      <th></th>\n",
       "      <th></th>\n",
       "      <th></th>\n",
       "      <th></th>\n",
       "      <th></th>\n",
       "    </tr>\n",
       "  </thead>\n",
       "  <tbody>\n",
       "    <tr>\n",
       "      <th>Female</th>\n",
       "      <td>26.126394</td>\n",
       "      <td>26.0</td>\n",
       "      <td>19.0</td>\n",
       "      <td>55.0</td>\n",
       "      <td>269</td>\n",
       "    </tr>\n",
       "    <tr>\n",
       "      <th>Male</th>\n",
       "      <td>26.587591</td>\n",
       "      <td>27.0</td>\n",
       "      <td>18.0</td>\n",
       "      <td>42.0</td>\n",
       "      <td>274</td>\n",
       "    </tr>\n",
       "  </tbody>\n",
       "</table>\n",
       "</div>"
      ],
      "text/plain": [
       "              age                         \n",
       "             mean median   min   max count\n",
       "gender                                    \n",
       "Female  26.126394   26.0  19.0  55.0   269\n",
       "Male    26.587591   27.0  18.0  42.0   274"
      ]
     },
     "execution_count": 22,
     "metadata": {},
     "output_type": "execute_result"
    }
   ],
   "source": [
    "df[['gender', 'age']].groupby('gender').agg(['mean', 'median', 'min', 'max', 'count'])"
   ]
  },
  {
   "cell_type": "markdown",
   "metadata": {},
   "source": [
    "There are no big differences in age, but we can see that the males at these events are slightly older than the female participants."
   ]
  },
  {
   "cell_type": "code",
   "execution_count": 23,
   "metadata": {},
   "outputs": [
    {
     "data": {
      "text/plain": [
       "array([4., 2., 6., 3., 1.])"
      ]
     },
     "execution_count": 23,
     "metadata": {},
     "output_type": "execute_result"
    }
   ],
   "source": [
    "df.race.unique()"
   ]
  },
  {
   "cell_type": "code",
   "execution_count": 24,
   "metadata": {},
   "outputs": [
    {
     "name": "stderr",
     "output_type": "stream",
     "text": [
      "/Users/Carlo/anaconda3/lib/python3.7/site-packages/ipykernel_launcher.py:2: SettingWithCopyWarning: \n",
      "A value is trying to be set on a copy of a slice from a DataFrame.\n",
      "Try using .loc[row_indexer,col_indexer] = value instead\n",
      "\n",
      "See the caveats in the documentation: https://pandas.pydata.org/pandas-docs/stable/user_guide/indexing.html#returning-a-view-versus-a-copy\n",
      "  \n"
     ]
    }
   ],
   "source": [
    "df[\"race\"] = df.race.map({1: 'Black', 2: 'White', 3: 'Hispanic', \n",
    "                          4: 'Asian', 6: 'Other'})"
   ]
  },
  {
   "cell_type": "code",
   "execution_count": 25,
   "metadata": {},
   "outputs": [
    {
     "data": {
      "text/plain": [
       "White       302\n",
       "Asian       136\n",
       "Hispanic     42\n",
       "Other        37\n",
       "Black        26\n",
       "Name: race, dtype: int64"
      ]
     },
     "execution_count": 25,
     "metadata": {},
     "output_type": "execute_result"
    }
   ],
   "source": [
    "df.race.value_counts(dropna=False)"
   ]
  },
  {
   "cell_type": "code",
   "execution_count": 26,
   "metadata": {},
   "outputs": [
    {
     "data": {
      "text/plain": [
       "<seaborn.axisgrid.FacetGrid at 0x1a23fbcf60>"
      ]
     },
     "execution_count": 26,
     "metadata": {},
     "output_type": "execute_result"
    },
    {
     "data": {
      "image/png": "[encoded data removed]",
      "text/plain": [
       "<Figure size 1448.8x288 with 5 Axes>"
      ]
     },
     "metadata": {},
     "output_type": "display_data"
    }
   ],
   "source": [
    "g = sns.FacetGrid(df, col='race', height=4)\n",
    "g.map(plt.hist, 'age', bins=15)\n",
    "axes = g.axes.flatten()\n",
    "axes[0].set_title(\"Asian\")\n",
    "axes[1].set_title(\"White\")\n",
    "axes[2].set_title(\"Other\")\n",
    "axes[3].set_title(\"Hispanic\")\n",
    "axes[4].set_title(\"Black\")\n",
    "g.set_xlabels('Age', fontsize=13)\n",
    "plt.subplots_adjust(top=0.8)\n",
    "g.fig.suptitle('Age distribution by race', fontsize=16)\n",
    "g.add_legend()"
   ]
  },
  {
   "cell_type": "code",
   "execution_count": 27,
   "metadata": {},
   "outputs": [
    {
     "data": {
      "text/html": [
       "<div>\n",
       "<style scoped>\n",
       "    .dataframe tbody tr th:only-of-type {\n",
       "        vertical-align: middle;\n",
       "    }\n",
       "\n",
       "    .dataframe tbody tr th {\n",
       "        vertical-align: top;\n",
       "    }\n",
       "\n",
       "    .dataframe thead tr th {\n",
       "        text-align: left;\n",
       "    }\n",
       "\n",
       "    .dataframe thead tr:last-of-type th {\n",
       "        text-align: right;\n",
       "    }\n",
       "</style>\n",
       "<table border=\"1\" class=\"dataframe\">\n",
       "  <thead>\n",
       "    <tr>\n",
       "      <th></th>\n",
       "      <th colspan=\"5\" halign=\"left\">age</th>\n",
       "    </tr>\n",
       "    <tr>\n",
       "      <th></th>\n",
       "      <th>mean</th>\n",
       "      <th>median</th>\n",
       "      <th>min</th>\n",
       "      <th>max</th>\n",
       "      <th>count</th>\n",
       "    </tr>\n",
       "    <tr>\n",
       "      <th>race</th>\n",
       "      <th></th>\n",
       "      <th></th>\n",
       "      <th></th>\n",
       "      <th></th>\n",
       "      <th></th>\n",
       "    </tr>\n",
       "  </thead>\n",
       "  <tbody>\n",
       "    <tr>\n",
       "      <th>Asian</th>\n",
       "      <td>26.198529</td>\n",
       "      <td>26.0</td>\n",
       "      <td>18.0</td>\n",
       "      <td>55.0</td>\n",
       "      <td>136</td>\n",
       "    </tr>\n",
       "    <tr>\n",
       "      <th>Black</th>\n",
       "      <td>26.692308</td>\n",
       "      <td>27.0</td>\n",
       "      <td>20.0</td>\n",
       "      <td>36.0</td>\n",
       "      <td>26</td>\n",
       "    </tr>\n",
       "    <tr>\n",
       "      <th>Hispanic</th>\n",
       "      <td>26.785714</td>\n",
       "      <td>27.0</td>\n",
       "      <td>19.0</td>\n",
       "      <td>35.0</td>\n",
       "      <td>42</td>\n",
       "    </tr>\n",
       "    <tr>\n",
       "      <th>Other</th>\n",
       "      <td>26.162162</td>\n",
       "      <td>25.0</td>\n",
       "      <td>20.0</td>\n",
       "      <td>33.0</td>\n",
       "      <td>37</td>\n",
       "    </tr>\n",
       "    <tr>\n",
       "      <th>White</th>\n",
       "      <td>26.367550</td>\n",
       "      <td>26.0</td>\n",
       "      <td>21.0</td>\n",
       "      <td>42.0</td>\n",
       "      <td>302</td>\n",
       "    </tr>\n",
       "  </tbody>\n",
       "</table>\n",
       "</div>"
      ],
      "text/plain": [
       "                age                         \n",
       "               mean median   min   max count\n",
       "race                                        \n",
       "Asian     26.198529   26.0  18.0  55.0   136\n",
       "Black     26.692308   27.0  20.0  36.0    26\n",
       "Hispanic  26.785714   27.0  19.0  35.0    42\n",
       "Other     26.162162   25.0  20.0  33.0    37\n",
       "White     26.367550   26.0  21.0  42.0   302"
      ]
     },
     "execution_count": 27,
     "metadata": {},
     "output_type": "execute_result"
    }
   ],
   "source": [
    "df[['race', 'age']].groupby('race').agg(['mean', 'median', 'min', 'max', 'count'])"
   ]
  },
  {
   "cell_type": "code",
   "execution_count": 28,
   "metadata": {},
   "outputs": [
    {
     "data": {
      "image/png": "[encoded data removed]",
      "text/plain": [
       "<Figure size 792x288 with 1 Axes>"
      ]
     },
     "metadata": {},
     "output_type": "display_data"
    }
   ],
   "source": [
    "ax = df[['race', 'age']].groupby('race').mean().plot(kind='bar',\n",
    "                                                     figsize=(11,4),\n",
    "                                                     legend=False,\n",
    "                                                     title='Mean Age by Race',\n",
    "                                                     ylim=(24,27), color='rgbmy')\n",
    "\n",
    "ax.set_xticklabels(['Asian', 'Black', 'Hispanic',  'Other', 'White'], fontsize=12, rotation='horizontal')\n",
    "ax.set_xlabel('',fontsize=1)\n",
    "ax.title.set_fontsize(15)\n",
    "\n",
    "for i in ax.patches:\n",
    "    ax.text(i.get_x()+.155, i.get_height()+.05, \\\n",
    "            str(round((i.get_height()), 1)), fontsize=12)"
   ]
  },
  {
   "cell_type": "code",
   "execution_count": 29,
   "metadata": {},
   "outputs": [
    {
     "data": {
      "image/png": "[encoded data removed]",
      "text/plain": [
       "<Figure size 1156.35x216 with 5 Axes>"
      ]
     },
     "metadata": {},
     "output_type": "display_data"
    }
   ],
   "source": [
    "g = sns.FacetGrid(df, col='race', hue='gender')\n",
    "g.map(plt.hist, 'age', alpha= 0.7, bins=10)\n",
    "g.add_legend()\n",
    "axes = g.axes.flatten()\n",
    "axes[0].set_title(\"Asian\")\n",
    "axes[1].set_title(\"White\")\n",
    "axes[2].set_title(\"Other\")\n",
    "axes[3].set_title(\"Hispanic\")\n",
    "axes[4].set_title(\"Black\")\n",
    "g.set_xlabels('', fontsize=1)\n",
    "plt.subplots_adjust(top=0.8)\n",
    "g.fig.suptitle('Age distribution by race', fontsize=15)\n",
    "\n",
    "g._legend.set_title('')"
   ]
  },
  {
   "cell_type": "code",
   "execution_count": 30,
   "metadata": {},
   "outputs": [
    {
     "data": {
      "text/html": [
       "<div>\n",
       "<style scoped>\n",
       "    .dataframe tbody tr th:only-of-type {\n",
       "        vertical-align: middle;\n",
       "    }\n",
       "\n",
       "    .dataframe tbody tr th {\n",
       "        vertical-align: top;\n",
       "    }\n",
       "\n",
       "    .dataframe thead tr th {\n",
       "        text-align: left;\n",
       "    }\n",
       "\n",
       "    .dataframe thead tr:last-of-type th {\n",
       "        text-align: right;\n",
       "    }\n",
       "</style>\n",
       "<table border=\"1\" class=\"dataframe\">\n",
       "  <thead>\n",
       "    <tr>\n",
       "      <th></th>\n",
       "      <th></th>\n",
       "      <th colspan=\"5\" halign=\"left\">age</th>\n",
       "    </tr>\n",
       "    <tr>\n",
       "      <th></th>\n",
       "      <th></th>\n",
       "      <th>mean</th>\n",
       "      <th>median</th>\n",
       "      <th>min</th>\n",
       "      <th>max</th>\n",
       "      <th>count</th>\n",
       "    </tr>\n",
       "    <tr>\n",
       "      <th>race</th>\n",
       "      <th>gender</th>\n",
       "      <th></th>\n",
       "      <th></th>\n",
       "      <th></th>\n",
       "      <th></th>\n",
       "      <th></th>\n",
       "    </tr>\n",
       "  </thead>\n",
       "  <tbody>\n",
       "    <tr>\n",
       "      <th rowspan=\"2\" valign=\"top\">Asian</th>\n",
       "      <th>Female</th>\n",
       "      <td>26.380282</td>\n",
       "      <td>26.0</td>\n",
       "      <td>21.0</td>\n",
       "      <td>55.0</td>\n",
       "      <td>71</td>\n",
       "    </tr>\n",
       "    <tr>\n",
       "      <th>Male</th>\n",
       "      <td>26.000000</td>\n",
       "      <td>26.0</td>\n",
       "      <td>18.0</td>\n",
       "      <td>37.0</td>\n",
       "      <td>65</td>\n",
       "    </tr>\n",
       "    <tr>\n",
       "      <th rowspan=\"2\" valign=\"top\">Black</th>\n",
       "      <th>Female</th>\n",
       "      <td>26.625000</td>\n",
       "      <td>26.0</td>\n",
       "      <td>20.0</td>\n",
       "      <td>36.0</td>\n",
       "      <td>16</td>\n",
       "    </tr>\n",
       "    <tr>\n",
       "      <th>Male</th>\n",
       "      <td>26.800000</td>\n",
       "      <td>27.0</td>\n",
       "      <td>23.0</td>\n",
       "      <td>30.0</td>\n",
       "      <td>10</td>\n",
       "    </tr>\n",
       "    <tr>\n",
       "      <th rowspan=\"2\" valign=\"top\">Hispanic</th>\n",
       "      <th>Female</th>\n",
       "      <td>26.600000</td>\n",
       "      <td>26.0</td>\n",
       "      <td>19.0</td>\n",
       "      <td>35.0</td>\n",
       "      <td>25</td>\n",
       "    </tr>\n",
       "    <tr>\n",
       "      <th>Male</th>\n",
       "      <td>27.058824</td>\n",
       "      <td>28.0</td>\n",
       "      <td>22.0</td>\n",
       "      <td>32.0</td>\n",
       "      <td>17</td>\n",
       "    </tr>\n",
       "    <tr>\n",
       "      <th rowspan=\"2\" valign=\"top\">Other</th>\n",
       "      <th>Female</th>\n",
       "      <td>25.125000</td>\n",
       "      <td>25.0</td>\n",
       "      <td>20.0</td>\n",
       "      <td>30.0</td>\n",
       "      <td>16</td>\n",
       "    </tr>\n",
       "    <tr>\n",
       "      <th>Male</th>\n",
       "      <td>26.952381</td>\n",
       "      <td>27.0</td>\n",
       "      <td>22.0</td>\n",
       "      <td>33.0</td>\n",
       "      <td>21</td>\n",
       "    </tr>\n",
       "    <tr>\n",
       "      <th rowspan=\"2\" valign=\"top\">White</th>\n",
       "      <th>Female</th>\n",
       "      <td>25.971631</td>\n",
       "      <td>25.0</td>\n",
       "      <td>21.0</td>\n",
       "      <td>38.0</td>\n",
       "      <td>141</td>\n",
       "    </tr>\n",
       "    <tr>\n",
       "      <th>Male</th>\n",
       "      <td>26.714286</td>\n",
       "      <td>27.0</td>\n",
       "      <td>21.0</td>\n",
       "      <td>42.0</td>\n",
       "      <td>161</td>\n",
       "    </tr>\n",
       "  </tbody>\n",
       "</table>\n",
       "</div>"
      ],
      "text/plain": [
       "                       age                         \n",
       "                      mean median   min   max count\n",
       "race     gender                                    \n",
       "Asian    Female  26.380282   26.0  21.0  55.0    71\n",
       "         Male    26.000000   26.0  18.0  37.0    65\n",
       "Black    Female  26.625000   26.0  20.0  36.0    16\n",
       "         Male    26.800000   27.0  23.0  30.0    10\n",
       "Hispanic Female  26.600000   26.0  19.0  35.0    25\n",
       "         Male    27.058824   28.0  22.0  32.0    17\n",
       "Other    Female  25.125000   25.0  20.0  30.0    16\n",
       "         Male    26.952381   27.0  22.0  33.0    21\n",
       "White    Female  25.971631   25.0  21.0  38.0   141\n",
       "         Male    26.714286   27.0  21.0  42.0   161"
      ]
     },
     "execution_count": 30,
     "metadata": {},
     "output_type": "execute_result"
    }
   ],
   "source": [
    "df[['race','gender', 'age']].groupby(['race', 'gender'])\\\n",
    ".agg(['mean', 'median', 'min', 'max', 'count'])"
   ]
  },
  {
   "cell_type": "code",
   "execution_count": 32,
   "metadata": {},
   "outputs": [
    {
     "data": {
      "image/png": "[encoded data removed]",
      "text/plain": [
       "<Figure size 864x432 with 2 Axes>"
      ]
     },
     "metadata": {},
     "output_type": "display_data"
    }
   ],
   "source": [
    "fig, ax= plt.subplots(1,2, figsize=(12, 6))\n",
    "\n",
    "df[df.gender=='Female'][['race', 'age']].groupby('race').mean().plot(kind='bar', ax=ax[0], legend=False,\n",
    "                                                              title='Females', ylim=(24,27.5),\n",
    "                                                              color='rgbmy')\n",
    "\n",
    "df[df.gender=='Male'][['race', 'age']].groupby('race').mean().plot(kind='bar', ax=ax[1], legend=False,\n",
    "                                                              title='Males', ylim=(24,27.5),\n",
    "                                                              color='rgbmy')\n",
    "\n",
    "ax[0].set_xticklabels(ax[0].get_xticklabels(), fontsize=12, rotation='horizontal')\n",
    "ax[1].set_xticklabels(ax[1].get_xticklabels(), fontsize=12, rotation='horizontal')\n",
    "ax[0].set_xlabel('',fontsize=1)\n",
    "ax[1].set_xlabel('',fontsize=1)\n",
    "\n",
    "fig.suptitle('Mean age by race', fontsize=22)\n",
    "\n",
    "for i in ax[0].patches:\n",
    "    ax[0].text(i.get_x()+.02, i.get_height()+.05, \\\n",
    "            str(round((i.get_height()), 1)), fontsize=12)\n",
    "    \n",
    "for i in ax[1].patches:\n",
    "    ax[1].text(i.get_x()+.02, i.get_height()+.05, \\\n",
    "            str(round((i.get_height()), 1)), fontsize=12)"
   ]
  },
  {
   "cell_type": "markdown",
   "metadata": {},
   "source": [
    "For Caucasians (and \"Other\" race), more males than females, while we have the opposite trend for every other race. Moreover, for these 2 races, we can observe that males tend to be much older on average. Asian females are older than their male counterpart."
   ]
  },
  {
   "cell_type": "code",
   "execution_count": null,
   "metadata": {},
   "outputs": [],
   "source": []
  }
 ],
 "metadata": {
  "kernelspec": {
   "display_name": "Python 3",
   "language": "python",
   "name": "python3"
  },
  "language_info": {
   "codemirror_mode": {
    "name": "ipython",
    "version": 3
   },
   "file_extension": ".py",
   "mimetype": "text/x-python",
   "name": "python",
   "nbconvert_exporter": "python",
   "pygments_lexer": "ipython3",
   "version": "3.7.3"
  }
 },
 "nbformat": 4,
 "nbformat_minor": 2
}
