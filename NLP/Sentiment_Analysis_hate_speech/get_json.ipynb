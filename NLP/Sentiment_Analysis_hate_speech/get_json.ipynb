{
 "cells": [
  {
   "cell_type": "code",
   "execution_count": 1,
   "metadata": {},
   "outputs": [],
   "source": [
    "import json\n",
    "\n",
    "jsonText1 = None\n",
    "with open('./data/tweets_italians_coronavirus_01_2020.json','r') as f1:\n",
    "    jsonText1 = f1.read()\n",
    "\n",
    "jsonText2 = None\n",
    "with open('./data/tweets_italians_coronavirus_02_2020.json','r') as f2:\n",
    "    jsonText2 = f2.read()\n",
    "    \n",
    "jsonText3 = None\n",
    "with open('./data/tweets_italians_coronavirus_03_2020.json','r') as f3:\n",
    "    jsonText3 = f3.read()\n",
    "\n",
    "parsedJson1 = json.loads(jsonText1)\n",
    "parsedJson2 = json.loads(jsonText2)\n",
    "parsedJson3 = json.loads(jsonText3)"
   ]
  },
  {
   "cell_type": "code",
   "execution_count": 2,
   "metadata": {},
   "outputs": [],
   "source": [
    "#parsedJson1"
   ]
  },
  {
   "cell_type": "code",
   "execution_count": 3,
   "metadata": {},
   "outputs": [
    {
     "data": {
      "text/plain": [
       "28"
      ]
     },
     "execution_count": 3,
     "metadata": {},
     "output_type": "execute_result"
    }
   ],
   "source": [
    "len(parsedJson1)"
   ]
  },
  {
   "cell_type": "code",
   "execution_count": 4,
   "metadata": {},
   "outputs": [
    {
     "data": {
      "text/plain": [
       "(\"There's Coronavirus around and italians have been talking of a man that undressed his tie in sign of retirement since a week...\",\n",
       " '2020-01-25T14:02:17',\n",
       " 1579960937)"
      ]
     },
     "execution_count": 4,
     "metadata": {},
     "output_type": "execute_result"
    }
   ],
   "source": [
    "parsedJson1[0]['text'], parsedJson1[0]['timestamp'], parsedJson1[0]['timestamp_epochs']"
   ]
  },
  {
   "cell_type": "code",
   "execution_count": 5,
   "metadata": {},
   "outputs": [],
   "source": [
    "import pandas as pd\n",
    "\n",
    "# Creating an empty Dataframe with column names only\n",
    "df = pd.DataFrame(columns=['Label', 'Text', 'Timestamp', 'Timestamp_epochs'])"
   ]
  },
  {
   "cell_type": "code",
   "execution_count": 6,
   "metadata": {},
   "outputs": [
    {
     "data": {
      "text/html": [
       "<div>\n",
       "<style scoped>\n",
       "    .dataframe tbody tr th:only-of-type {\n",
       "        vertical-align: middle;\n",
       "    }\n",
       "\n",
       "    .dataframe tbody tr th {\n",
       "        vertical-align: top;\n",
       "    }\n",
       "\n",
       "    .dataframe thead th {\n",
       "        text-align: right;\n",
       "    }\n",
       "</style>\n",
       "<table border=\"1\" class=\"dataframe\">\n",
       "  <thead>\n",
       "    <tr style=\"text-align: right;\">\n",
       "      <th></th>\n",
       "      <th>Label</th>\n",
       "      <th>Text</th>\n",
       "      <th>Timestamp</th>\n",
       "      <th>Timestamp_epochs</th>\n",
       "    </tr>\n",
       "  </thead>\n",
       "  <tbody>\n",
       "  </tbody>\n",
       "</table>\n",
       "</div>"
      ],
      "text/plain": [
       "Empty DataFrame\n",
       "Columns: [Label, Text, Timestamp, Timestamp_epochs]\n",
       "Index: []"
      ]
     },
     "execution_count": 6,
     "metadata": {},
     "output_type": "execute_result"
    }
   ],
   "source": [
    "df"
   ]
  },
  {
   "cell_type": "code",
   "execution_count": 7,
   "metadata": {},
   "outputs": [
    {
     "name": "stdout",
     "output_type": "stream",
     "text": [
      "27\n",
      "1327\n",
      "4213\n"
     ]
    }
   ],
   "source": [
    "import pandas as pd\n",
    "\n",
    "for i in range(len(parsedJson1)):\n",
    "    df = df.append({'Text': parsedJson1[i]['text'], \n",
    "                      'Timestamp': parsedJson1[i]['timestamp'], \n",
    "                      'Timestamp_epochs': parsedJson1[i]['timestamp_epochs']},\n",
    "                     ignore_index=True)\n",
    "print(i)\n",
    "    \n",
    "for j in range(len(parsedJson2)):\n",
    "    df = df.append({'Text': parsedJson2[j]['text'], \n",
    "                      'Timestamp': parsedJson2[j]['timestamp'], \n",
    "                      'Timestamp_epochs': parsedJson2[j]['timestamp_epochs']},\n",
    "                     ignore_index=True)\n",
    "print(j)\n",
    "    \n",
    "for k in range(len(parsedJson3)):\n",
    "    df = df.append({'Text': parsedJson3[k]['text'], \n",
    "                      'Timestamp': parsedJson3[k]['timestamp'], \n",
    "                      'Timestamp_epochs': parsedJson3[k]['timestamp_epochs']},\n",
    "                     ignore_index=True)\n",
    "print(k)"
   ]
  },
  {
   "cell_type": "code",
   "execution_count": 8,
   "metadata": {},
   "outputs": [
    {
     "data": {
      "text/plain": [
       "(5570, 4)"
      ]
     },
     "execution_count": 8,
     "metadata": {},
     "output_type": "execute_result"
    }
   ],
   "source": [
    "df.shape"
   ]
  },
  {
   "cell_type": "code",
   "execution_count": 9,
   "metadata": {},
   "outputs": [],
   "source": [
    "df = df.drop_duplicates(subset =\"Text\")"
   ]
  },
  {
   "cell_type": "code",
   "execution_count": 10,
   "metadata": {},
   "outputs": [
    {
     "data": {
      "text/plain": [
       "(4227, 4)"
      ]
     },
     "execution_count": 10,
     "metadata": {},
     "output_type": "execute_result"
    }
   ],
   "source": [
    "df.shape"
   ]
  },
  {
   "cell_type": "code",
   "execution_count": 11,
   "metadata": {},
   "outputs": [
    {
     "data": {
      "text/plain": [
       "4227"
      ]
     },
     "execution_count": 11,
     "metadata": {},
     "output_type": "execute_result"
    }
   ],
   "source": [
    "len(df)"
   ]
  },
  {
   "cell_type": "code",
   "execution_count": null,
   "metadata": {},
   "outputs": [],
   "source": []
  },
  {
   "cell_type": "code",
   "execution_count": 12,
   "metadata": {},
   "outputs": [
    {
     "data": {
      "text/html": [
       "<div>\n",
       "<style scoped>\n",
       "    .dataframe tbody tr th:only-of-type {\n",
       "        vertical-align: middle;\n",
       "    }\n",
       "\n",
       "    .dataframe tbody tr th {\n",
       "        vertical-align: top;\n",
       "    }\n",
       "\n",
       "    .dataframe thead th {\n",
       "        text-align: right;\n",
       "    }\n",
       "</style>\n",
       "<table border=\"1\" class=\"dataframe\">\n",
       "  <thead>\n",
       "    <tr style=\"text-align: right;\">\n",
       "      <th></th>\n",
       "      <th>Label</th>\n",
       "      <th>Text</th>\n",
       "      <th>Timestamp</th>\n",
       "      <th>Timestamp_epochs</th>\n",
       "    </tr>\n",
       "  </thead>\n",
       "  <tbody>\n",
       "    <tr>\n",
       "      <th>0</th>\n",
       "      <td>NaN</td>\n",
       "      <td>There's Coronavirus around and italians have b...</td>\n",
       "      <td>2020-01-25T14:02:17</td>\n",
       "      <td>1579960937</td>\n",
       "    </tr>\n",
       "    <tr>\n",
       "      <th>2</th>\n",
       "      <td>NaN</td>\n",
       "      <td>Gosh the Italians are taking this #coronavirus...</td>\n",
       "      <td>2020-01-27T08:29:52</td>\n",
       "      <td>1580113792</td>\n",
       "    </tr>\n",
       "    <tr>\n",
       "      <th>4</th>\n",
       "      <td>NaN</td>\n",
       "      <td>it has been a long time, since last week, that...</td>\n",
       "      <td>2020-01-28T13:26:32</td>\n",
       "      <td>1580217992</td>\n",
       "    </tr>\n",
       "    <tr>\n",
       "      <th>5</th>\n",
       "      <td>NaN</td>\n",
       "      <td>Italians really bullied a 13 year old Chinese ...</td>\n",
       "      <td>2020-01-28T08:24:02</td>\n",
       "      <td>1580199842</td>\n",
       "    </tr>\n",
       "    <tr>\n",
       "      <th>8</th>\n",
       "      <td>NaN</td>\n",
       "      <td>52 million of Chinese trapped. Only a Regime c...</td>\n",
       "      <td>2020-01-26T10:54:15</td>\n",
       "      <td>1580036055</td>\n",
       "    </tr>\n",
       "  </tbody>\n",
       "</table>\n",
       "</div>"
      ],
      "text/plain": [
       "  Label                                               Text  \\\n",
       "0   NaN  There's Coronavirus around and italians have b...   \n",
       "2   NaN  Gosh the Italians are taking this #coronavirus...   \n",
       "4   NaN  it has been a long time, since last week, that...   \n",
       "5   NaN  Italians really bullied a 13 year old Chinese ...   \n",
       "8   NaN  52 million of Chinese trapped. Only a Regime c...   \n",
       "\n",
       "             Timestamp Timestamp_epochs  \n",
       "0  2020-01-25T14:02:17       1579960937  \n",
       "2  2020-01-27T08:29:52       1580113792  \n",
       "4  2020-01-28T13:26:32       1580217992  \n",
       "5  2020-01-28T08:24:02       1580199842  \n",
       "8  2020-01-26T10:54:15       1580036055  "
      ]
     },
     "execution_count": 12,
     "metadata": {},
     "output_type": "execute_result"
    }
   ],
   "source": [
    "df.head()"
   ]
  },
  {
   "cell_type": "code",
   "execution_count": 13,
   "metadata": {},
   "outputs": [],
   "source": [
    "df.Text = df.Text.str.replace('http\\S+|www.\\S+|...pic.twitter\\S+|pic.twitter\\S+', '')\n",
    "df.Text = df.Text.str.replace(' … |  …|   …| …|…|… ', '')\n",
    "df.Text = df.Text.str.replace('\\n', ' ')\n",
    "df = df.drop_duplicates(subset =\"Text\")\n",
    "df = df.reset_index(drop=True)"
   ]
  },
  {
   "cell_type": "code",
   "execution_count": 14,
   "metadata": {},
   "outputs": [],
   "source": [
    "#import string\n",
    "#import re\n",
    "\n",
    "#def remove_punctuation(my_string):\n",
    "#    translator = re.compile('[%s]' % re.escape(string.punctuation))\n",
    "#    no_punctuation = translator.sub(' ', my_string)\n",
    "#    remove_multiple_spaces = re.sub(' +',' ', no_punctuation).strip()\n",
    "#    return remove_multiple_spaces"
   ]
  },
  {
   "cell_type": "code",
   "execution_count": 15,
   "metadata": {},
   "outputs": [],
   "source": [
    "#df.Text = [remove_punctuation(tweet) for tweet in df.Text]"
   ]
  },
  {
   "cell_type": "code",
   "execution_count": 16,
   "metadata": {},
   "outputs": [],
   "source": [
    "df.to_csv(\"./data/raw_tweets_2020.csv\", index=False)"
   ]
  },
  {
   "cell_type": "code",
   "execution_count": null,
   "metadata": {},
   "outputs": [],
   "source": []
  },
  {
   "cell_type": "code",
   "execution_count": 17,
   "metadata": {},
   "outputs": [],
   "source": [
    "#import string\n",
    "\n",
    "#for elem in range(len(df.Text)):\n",
    "#    words = df.Text[elem].split()\n",
    "#    table = str.maketrans('', '', string.punctuation)\n",
    "#    stripped = [w.translate(table) for w in words]\n",
    "#    stripped = [string for string in stripped if string != \"\"]\n",
    "#    df.Text[elem] = ' '.join(word for word in stripped)"
   ]
  },
  {
   "cell_type": "code",
   "execution_count": null,
   "metadata": {},
   "outputs": [],
   "source": []
  },
  {
   "cell_type": "code",
   "execution_count": null,
   "metadata": {},
   "outputs": [],
   "source": []
  },
  {
   "cell_type": "code",
   "execution_count": null,
   "metadata": {},
   "outputs": [],
   "source": []
  },
  {
   "cell_type": "code",
   "execution_count": 18,
   "metadata": {},
   "outputs": [
    {
     "data": {
      "text/plain": [
       "(3952, 4)"
      ]
     },
     "execution_count": 18,
     "metadata": {},
     "output_type": "execute_result"
    }
   ],
   "source": [
    "df.shape"
   ]
  },
  {
   "cell_type": "code",
   "execution_count": 19,
   "metadata": {},
   "outputs": [],
   "source": [
    "df = df.drop_duplicates(subset =\"Text\")"
   ]
  },
  {
   "cell_type": "code",
   "execution_count": null,
   "metadata": {},
   "outputs": [],
   "source": []
  },
  {
   "cell_type": "code",
   "execution_count": 20,
   "metadata": {},
   "outputs": [
    {
     "data": {
      "text/plain": [
       "(3952, 4)"
      ]
     },
     "execution_count": 20,
     "metadata": {},
     "output_type": "execute_result"
    }
   ],
   "source": [
    "df.shape"
   ]
  },
  {
   "cell_type": "code",
   "execution_count": null,
   "metadata": {},
   "outputs": [],
   "source": []
  },
  {
   "cell_type": "code",
   "execution_count": null,
   "metadata": {},
   "outputs": [],
   "source": []
  },
  {
   "cell_type": "code",
   "execution_count": 21,
   "metadata": {},
   "outputs": [],
   "source": [
    "#df[\"Text2\"] = 0\n",
    "#text = df.Text\n",
    "\n",
    "#for l in range(len(df)):\n",
    "#    txt = ' '.join(word for word in text[l].split())\n",
    "#    df[\"Text2\"][l] = txt\n",
    "    \n",
    "#df = df.drop_duplicates(subset = 'Text2')"
   ]
  },
  {
   "cell_type": "code",
   "execution_count": null,
   "metadata": {},
   "outputs": [],
   "source": []
  },
  {
   "cell_type": "code",
   "execution_count": null,
   "metadata": {},
   "outputs": [],
   "source": []
  },
  {
   "cell_type": "code",
   "execution_count": 22,
   "metadata": {},
   "outputs": [
    {
     "data": {
      "text/html": [
       "<div>\n",
       "<style scoped>\n",
       "    .dataframe tbody tr th:only-of-type {\n",
       "        vertical-align: middle;\n",
       "    }\n",
       "\n",
       "    .dataframe tbody tr th {\n",
       "        vertical-align: top;\n",
       "    }\n",
       "\n",
       "    .dataframe thead th {\n",
       "        text-align: right;\n",
       "    }\n",
       "</style>\n",
       "<table border=\"1\" class=\"dataframe\">\n",
       "  <thead>\n",
       "    <tr style=\"text-align: right;\">\n",
       "      <th></th>\n",
       "      <th>Label</th>\n",
       "      <th>Text</th>\n",
       "      <th>Timestamp</th>\n",
       "      <th>Timestamp_epochs</th>\n",
       "    </tr>\n",
       "  </thead>\n",
       "  <tbody>\n",
       "    <tr>\n",
       "      <th>0</th>\n",
       "      <td>NaN</td>\n",
       "      <td>There's Coronavirus around and italians have b...</td>\n",
       "      <td>2020-01-25T14:02:17</td>\n",
       "      <td>1579960937</td>\n",
       "    </tr>\n",
       "    <tr>\n",
       "      <th>1</th>\n",
       "      <td>NaN</td>\n",
       "      <td>Gosh the Italians are taking this #coronavirus...</td>\n",
       "      <td>2020-01-27T08:29:52</td>\n",
       "      <td>1580113792</td>\n",
       "    </tr>\n",
       "    <tr>\n",
       "      <th>2</th>\n",
       "      <td>NaN</td>\n",
       "      <td>it has been a long time, since last week, that...</td>\n",
       "      <td>2020-01-28T13:26:32</td>\n",
       "      <td>1580217992</td>\n",
       "    </tr>\n",
       "    <tr>\n",
       "      <th>3</th>\n",
       "      <td>NaN</td>\n",
       "      <td>Italians really bullied a 13 year old Chinese ...</td>\n",
       "      <td>2020-01-28T08:24:02</td>\n",
       "      <td>1580199842</td>\n",
       "    </tr>\n",
       "    <tr>\n",
       "      <th>4</th>\n",
       "      <td>NaN</td>\n",
       "      <td>52 million of Chinese trapped. Only a Regime c...</td>\n",
       "      <td>2020-01-26T10:54:15</td>\n",
       "      <td>1580036055</td>\n",
       "    </tr>\n",
       "  </tbody>\n",
       "</table>\n",
       "</div>"
      ],
      "text/plain": [
       "  Label                                               Text  \\\n",
       "0   NaN  There's Coronavirus around and italians have b...   \n",
       "1   NaN  Gosh the Italians are taking this #coronavirus...   \n",
       "2   NaN  it has been a long time, since last week, that...   \n",
       "3   NaN  Italians really bullied a 13 year old Chinese ...   \n",
       "4   NaN  52 million of Chinese trapped. Only a Regime c...   \n",
       "\n",
       "             Timestamp Timestamp_epochs  \n",
       "0  2020-01-25T14:02:17       1579960937  \n",
       "1  2020-01-27T08:29:52       1580113792  \n",
       "2  2020-01-28T13:26:32       1580217992  \n",
       "3  2020-01-28T08:24:02       1580199842  \n",
       "4  2020-01-26T10:54:15       1580036055  "
      ]
     },
     "execution_count": 22,
     "metadata": {},
     "output_type": "execute_result"
    }
   ],
   "source": [
    "df.head()"
   ]
  },
  {
   "cell_type": "code",
   "execution_count": null,
   "metadata": {},
   "outputs": [],
   "source": []
  },
  {
   "cell_type": "code",
   "execution_count": null,
   "metadata": {},
   "outputs": [],
   "source": []
  },
  {
   "cell_type": "code",
   "execution_count": 23,
   "metadata": {},
   "outputs": [
    {
     "data": {
      "text/plain": [
       "(3952, 4)"
      ]
     },
     "execution_count": 23,
     "metadata": {},
     "output_type": "execute_result"
    }
   ],
   "source": [
    "df.shape"
   ]
  },
  {
   "cell_type": "code",
   "execution_count": null,
   "metadata": {},
   "outputs": [],
   "source": []
  },
  {
   "cell_type": "code",
   "execution_count": 24,
   "metadata": {},
   "outputs": [],
   "source": [
    "df = df.sort_values(by=\"Timestamp\").reset_index(drop=True)"
   ]
  },
  {
   "cell_type": "code",
   "execution_count": 25,
   "metadata": {},
   "outputs": [
    {
     "data": {
      "text/html": [
       "<div>\n",
       "<style scoped>\n",
       "    .dataframe tbody tr th:only-of-type {\n",
       "        vertical-align: middle;\n",
       "    }\n",
       "\n",
       "    .dataframe tbody tr th {\n",
       "        vertical-align: top;\n",
       "    }\n",
       "\n",
       "    .dataframe thead th {\n",
       "        text-align: right;\n",
       "    }\n",
       "</style>\n",
       "<table border=\"1\" class=\"dataframe\">\n",
       "  <thead>\n",
       "    <tr style=\"text-align: right;\">\n",
       "      <th></th>\n",
       "      <th>Label</th>\n",
       "      <th>Text</th>\n",
       "      <th>Timestamp</th>\n",
       "      <th>Timestamp_epochs</th>\n",
       "    </tr>\n",
       "  </thead>\n",
       "  <tbody>\n",
       "    <tr>\n",
       "      <th>0</th>\n",
       "      <td>NaN</td>\n",
       "      <td>There's Coronavirus around and italians have b...</td>\n",
       "      <td>2020-01-25T14:02:17</td>\n",
       "      <td>1579960937</td>\n",
       "    </tr>\n",
       "    <tr>\n",
       "      <th>1</th>\n",
       "      <td>NaN</td>\n",
       "      <td>52 million of Chinese trapped. Only a Regime c...</td>\n",
       "      <td>2020-01-26T10:54:15</td>\n",
       "      <td>1580036055</td>\n",
       "    </tr>\n",
       "    <tr>\n",
       "      <th>2</th>\n",
       "      <td>NaN</td>\n",
       "      <td>Gosh the Italians are taking this #coronavirus...</td>\n",
       "      <td>2020-01-27T08:29:52</td>\n",
       "      <td>1580113792</td>\n",
       "    </tr>\n",
       "    <tr>\n",
       "      <th>3</th>\n",
       "      <td>NaN</td>\n",
       "      <td>Italians really bullied a 13 year old Chinese ...</td>\n",
       "      <td>2020-01-28T08:24:02</td>\n",
       "      <td>1580199842</td>\n",
       "    </tr>\n",
       "    <tr>\n",
       "      <th>4</th>\n",
       "      <td>NaN</td>\n",
       "      <td>it has been a long time, since last week, that...</td>\n",
       "      <td>2020-01-28T13:26:32</td>\n",
       "      <td>1580217992</td>\n",
       "    </tr>\n",
       "  </tbody>\n",
       "</table>\n",
       "</div>"
      ],
      "text/plain": [
       "  Label                                               Text  \\\n",
       "0   NaN  There's Coronavirus around and italians have b...   \n",
       "1   NaN  52 million of Chinese trapped. Only a Regime c...   \n",
       "2   NaN  Gosh the Italians are taking this #coronavirus...   \n",
       "3   NaN  Italians really bullied a 13 year old Chinese ...   \n",
       "4   NaN  it has been a long time, since last week, that...   \n",
       "\n",
       "             Timestamp Timestamp_epochs  \n",
       "0  2020-01-25T14:02:17       1579960937  \n",
       "1  2020-01-26T10:54:15       1580036055  \n",
       "2  2020-01-27T08:29:52       1580113792  \n",
       "3  2020-01-28T08:24:02       1580199842  \n",
       "4  2020-01-28T13:26:32       1580217992  "
      ]
     },
     "execution_count": 25,
     "metadata": {},
     "output_type": "execute_result"
    }
   ],
   "source": [
    "df.head()"
   ]
  },
  {
   "cell_type": "markdown",
   "metadata": {},
   "source": []
  },
  {
   "cell_type": "code",
   "execution_count": 26,
   "metadata": {},
   "outputs": [],
   "source": [
    "#df.to_csv(\"./data/tweets_2020.csv\", index=False)"
   ]
  },
  {
   "cell_type": "code",
   "execution_count": 27,
   "metadata": {},
   "outputs": [],
   "source": [
    "from textblob import TextBlob"
   ]
  },
  {
   "cell_type": "code",
   "execution_count": null,
   "metadata": {},
   "outputs": [],
   "source": []
  },
  {
   "cell_type": "code",
   "execution_count": 28,
   "metadata": {},
   "outputs": [],
   "source": [
    "def get_sentiment(tweetList):\n",
    "    label = []\n",
    "    arrayTextBlob = [TextBlob(tweet) for tweet in df.Text]\n",
    "    \n",
    "    for tweet in arrayTextBlob:\n",
    "        if (tweet.sentiment.polarity < 0):\n",
    "            label.append(1)\n",
    "        else:\n",
    "            label.append(0)\n",
    "            \n",
    "    return label"
   ]
  },
  {
   "cell_type": "code",
   "execution_count": 29,
   "metadata": {},
   "outputs": [],
   "source": [
    "df.Label = get_sentiment(df.Text)"
   ]
  },
  {
   "cell_type": "code",
   "execution_count": 30,
   "metadata": {},
   "outputs": [
    {
     "data": {
      "text/html": [
       "<div>\n",
       "<style scoped>\n",
       "    .dataframe tbody tr th:only-of-type {\n",
       "        vertical-align: middle;\n",
       "    }\n",
       "\n",
       "    .dataframe tbody tr th {\n",
       "        vertical-align: top;\n",
       "    }\n",
       "\n",
       "    .dataframe thead th {\n",
       "        text-align: right;\n",
       "    }\n",
       "</style>\n",
       "<table border=\"1\" class=\"dataframe\">\n",
       "  <thead>\n",
       "    <tr style=\"text-align: right;\">\n",
       "      <th></th>\n",
       "      <th>Label</th>\n",
       "      <th>Text</th>\n",
       "      <th>Timestamp</th>\n",
       "      <th>Timestamp_epochs</th>\n",
       "    </tr>\n",
       "  </thead>\n",
       "  <tbody>\n",
       "    <tr>\n",
       "      <th>0</th>\n",
       "      <td>0</td>\n",
       "      <td>There's Coronavirus around and italians have b...</td>\n",
       "      <td>2020-01-25T14:02:17</td>\n",
       "      <td>1579960937</td>\n",
       "    </tr>\n",
       "    <tr>\n",
       "      <th>1</th>\n",
       "      <td>1</td>\n",
       "      <td>52 million of Chinese trapped. Only a Regime c...</td>\n",
       "      <td>2020-01-26T10:54:15</td>\n",
       "      <td>1580036055</td>\n",
       "    </tr>\n",
       "    <tr>\n",
       "      <th>2</th>\n",
       "      <td>1</td>\n",
       "      <td>Gosh the Italians are taking this #coronavirus...</td>\n",
       "      <td>2020-01-27T08:29:52</td>\n",
       "      <td>1580113792</td>\n",
       "    </tr>\n",
       "    <tr>\n",
       "      <th>3</th>\n",
       "      <td>0</td>\n",
       "      <td>Italians really bullied a 13 year old Chinese ...</td>\n",
       "      <td>2020-01-28T08:24:02</td>\n",
       "      <td>1580199842</td>\n",
       "    </tr>\n",
       "    <tr>\n",
       "      <th>4</th>\n",
       "      <td>0</td>\n",
       "      <td>it has been a long time, since last week, that...</td>\n",
       "      <td>2020-01-28T13:26:32</td>\n",
       "      <td>1580217992</td>\n",
       "    </tr>\n",
       "  </tbody>\n",
       "</table>\n",
       "</div>"
      ],
      "text/plain": [
       "   Label                                               Text  \\\n",
       "0      0  There's Coronavirus around and italians have b...   \n",
       "1      1  52 million of Chinese trapped. Only a Regime c...   \n",
       "2      1  Gosh the Italians are taking this #coronavirus...   \n",
       "3      0  Italians really bullied a 13 year old Chinese ...   \n",
       "4      0  it has been a long time, since last week, that...   \n",
       "\n",
       "             Timestamp Timestamp_epochs  \n",
       "0  2020-01-25T14:02:17       1579960937  \n",
       "1  2020-01-26T10:54:15       1580036055  \n",
       "2  2020-01-27T08:29:52       1580113792  \n",
       "3  2020-01-28T08:24:02       1580199842  \n",
       "4  2020-01-28T13:26:32       1580217992  "
      ]
     },
     "execution_count": 30,
     "metadata": {},
     "output_type": "execute_result"
    }
   ],
   "source": [
    "df.head()"
   ]
  },
  {
   "cell_type": "code",
   "execution_count": null,
   "metadata": {},
   "outputs": [],
   "source": []
  },
  {
   "cell_type": "code",
   "execution_count": null,
   "metadata": {},
   "outputs": [],
   "source": []
  },
  {
   "cell_type": "code",
   "execution_count": null,
   "metadata": {},
   "outputs": [],
   "source": []
  },
  {
   "cell_type": "code",
   "execution_count": null,
   "metadata": {},
   "outputs": [],
   "source": []
  }
 ],
 "metadata": {
  "kernelspec": {
   "display_name": "Python 3",
   "language": "python",
   "name": "python3"
  },
  "language_info": {
   "codemirror_mode": {
    "name": "ipython",
    "version": 3
   },
   "file_extension": ".py",
   "mimetype": "text/x-python",
   "name": "python",
   "nbconvert_exporter": "python",
   "pygments_lexer": "ipython3",
   "version": "3.7.3"
  }
 },
 "nbformat": 4,
 "nbformat_minor": 2
}
