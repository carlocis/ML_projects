{
 "cells": [
  {
   "cell_type": "markdown",
   "metadata": {
    "colab_type": "text",
    "id": "-TrUvmyK-GpM"
   },
   "source": [
    "# Régression Régularisées : RIDGE\n"
   ]
  },
  {
   "cell_type": "markdown",
   "metadata": {
    "colab_type": "text",
    "id": "GhO_GXwS-XDS"
   },
   "source": [
    "0. Importez les libairies usuelles "
   ]
  },
  {
   "cell_type": "code",
   "execution_count": 1,
   "metadata": {
    "colab": {},
    "colab_type": "code",
    "id": "nmzm6Lsf-ZvO"
   },
   "outputs": [],
   "source": [
    "import pandas as pd \n",
    "import numpy as np \n",
    "import matplotlib.pyplot as plt \n",
    "import seaborn as sns"
   ]
  },
  {
   "cell_type": "markdown",
   "metadata": {
    "colab_type": "text",
    "id": "t-4QtpM5-LW4"
   },
   "source": [
    "  1. Chargez en mémoire le dataset des prix des logements à boston grâce à la commande :\n",
    "  \n",
    " \n",
    "```\n",
    "from sklearn.datasets import load_boston\n",
    "boston=load_boston()\n",
    "boston_df=pd.DataFrame(boston.data,columns=boston.feature_names)\n",
    "```"
   ]
  },
  {
   "cell_type": "code",
   "execution_count": 2,
   "metadata": {
    "colab": {
     "base_uri": "https://localhost:8080/",
     "height": 206
    },
    "colab_type": "code",
    "executionInfo": {
     "elapsed": 1837,
     "status": "ok",
     "timestamp": 1582152448013,
     "user": {
      "displayName": "Corinne Ferrette",
      "photoUrl": "",
      "userId": "06893314746757986473"
     },
     "user_tz": -60
    },
    "id": "iBuo8tZ0-BsL",
    "outputId": "eabf7963-7222-40f7-9c11-02d56207cd19"
   },
   "outputs": [
    {
     "data": {
      "text/html": [
       "<div>\n",
       "<style scoped>\n",
       "    .dataframe tbody tr th:only-of-type {\n",
       "        vertical-align: middle;\n",
       "    }\n",
       "\n",
       "    .dataframe tbody tr th {\n",
       "        vertical-align: top;\n",
       "    }\n",
       "\n",
       "    .dataframe thead th {\n",
       "        text-align: right;\n",
       "    }\n",
       "</style>\n",
       "<table border=\"1\" class=\"dataframe\">\n",
       "  <thead>\n",
       "    <tr style=\"text-align: right;\">\n",
       "      <th></th>\n",
       "      <th>CRIM</th>\n",
       "      <th>ZN</th>\n",
       "      <th>INDUS</th>\n",
       "      <th>CHAS</th>\n",
       "      <th>NOX</th>\n",
       "      <th>RM</th>\n",
       "      <th>AGE</th>\n",
       "      <th>DIS</th>\n",
       "      <th>RAD</th>\n",
       "      <th>TAX</th>\n",
       "      <th>PTRATIO</th>\n",
       "      <th>B</th>\n",
       "      <th>LSTAT</th>\n",
       "    </tr>\n",
       "  </thead>\n",
       "  <tbody>\n",
       "    <tr>\n",
       "      <th>0</th>\n",
       "      <td>0.00632</td>\n",
       "      <td>18.0</td>\n",
       "      <td>2.31</td>\n",
       "      <td>0.0</td>\n",
       "      <td>0.538</td>\n",
       "      <td>6.575</td>\n",
       "      <td>65.2</td>\n",
       "      <td>4.0900</td>\n",
       "      <td>1.0</td>\n",
       "      <td>296.0</td>\n",
       "      <td>15.3</td>\n",
       "      <td>396.90</td>\n",
       "      <td>4.98</td>\n",
       "    </tr>\n",
       "    <tr>\n",
       "      <th>1</th>\n",
       "      <td>0.02731</td>\n",
       "      <td>0.0</td>\n",
       "      <td>7.07</td>\n",
       "      <td>0.0</td>\n",
       "      <td>0.469</td>\n",
       "      <td>6.421</td>\n",
       "      <td>78.9</td>\n",
       "      <td>4.9671</td>\n",
       "      <td>2.0</td>\n",
       "      <td>242.0</td>\n",
       "      <td>17.8</td>\n",
       "      <td>396.90</td>\n",
       "      <td>9.14</td>\n",
       "    </tr>\n",
       "    <tr>\n",
       "      <th>2</th>\n",
       "      <td>0.02729</td>\n",
       "      <td>0.0</td>\n",
       "      <td>7.07</td>\n",
       "      <td>0.0</td>\n",
       "      <td>0.469</td>\n",
       "      <td>7.185</td>\n",
       "      <td>61.1</td>\n",
       "      <td>4.9671</td>\n",
       "      <td>2.0</td>\n",
       "      <td>242.0</td>\n",
       "      <td>17.8</td>\n",
       "      <td>392.83</td>\n",
       "      <td>4.03</td>\n",
       "    </tr>\n",
       "    <tr>\n",
       "      <th>3</th>\n",
       "      <td>0.03237</td>\n",
       "      <td>0.0</td>\n",
       "      <td>2.18</td>\n",
       "      <td>0.0</td>\n",
       "      <td>0.458</td>\n",
       "      <td>6.998</td>\n",
       "      <td>45.8</td>\n",
       "      <td>6.0622</td>\n",
       "      <td>3.0</td>\n",
       "      <td>222.0</td>\n",
       "      <td>18.7</td>\n",
       "      <td>394.63</td>\n",
       "      <td>2.94</td>\n",
       "    </tr>\n",
       "    <tr>\n",
       "      <th>4</th>\n",
       "      <td>0.06905</td>\n",
       "      <td>0.0</td>\n",
       "      <td>2.18</td>\n",
       "      <td>0.0</td>\n",
       "      <td>0.458</td>\n",
       "      <td>7.147</td>\n",
       "      <td>54.2</td>\n",
       "      <td>6.0622</td>\n",
       "      <td>3.0</td>\n",
       "      <td>222.0</td>\n",
       "      <td>18.7</td>\n",
       "      <td>396.90</td>\n",
       "      <td>5.33</td>\n",
       "    </tr>\n",
       "  </tbody>\n",
       "</table>\n",
       "</div>"
      ],
      "text/plain": [
       "      CRIM    ZN  INDUS  CHAS    NOX     RM   AGE     DIS  RAD    TAX  \\\n",
       "0  0.00632  18.0   2.31   0.0  0.538  6.575  65.2  4.0900  1.0  296.0   \n",
       "1  0.02731   0.0   7.07   0.0  0.469  6.421  78.9  4.9671  2.0  242.0   \n",
       "2  0.02729   0.0   7.07   0.0  0.469  7.185  61.1  4.9671  2.0  242.0   \n",
       "3  0.03237   0.0   2.18   0.0  0.458  6.998  45.8  6.0622  3.0  222.0   \n",
       "4  0.06905   0.0   2.18   0.0  0.458  7.147  54.2  6.0622  3.0  222.0   \n",
       "\n",
       "   PTRATIO       B  LSTAT  \n",
       "0     15.3  396.90   4.98  \n",
       "1     17.8  396.90   9.14  \n",
       "2     17.8  392.83   4.03  \n",
       "3     18.7  394.63   2.94  \n",
       "4     18.7  396.90   5.33  "
      ]
     },
     "execution_count": 2,
     "metadata": {},
     "output_type": "execute_result"
    }
   ],
   "source": [
    "from sklearn.datasets import load_boston\n",
    "boston=load_boston()\n",
    "boston_df=pd.DataFrame(boston.data,columns=boston.feature_names)\n",
    "boston_df.head()"
   ]
  },
  {
   "cell_type": "code",
   "execution_count": 3,
   "metadata": {
    "colab": {
     "base_uri": "https://localhost:8080/",
     "height": 1000
    },
    "colab_type": "code",
    "executionInfo": {
     "elapsed": 1813,
     "status": "ok",
     "timestamp": 1582152448014,
     "user": {
      "displayName": "Corinne Ferrette",
      "photoUrl": "",
      "userId": "06893314746757986473"
     },
     "user_tz": -60
    },
    "id": "Z5ukpPs3T0or",
    "outputId": "4f839717-0c91-432d-d4de-10737b906546"
   },
   "outputs": [
    {
     "data": {
      "text/plain": [
       "{'data': array([[6.3200e-03, 1.8000e+01, 2.3100e+00, ..., 1.5300e+01, 3.9690e+02,\n",
       "         4.9800e+00],\n",
       "        [2.7310e-02, 0.0000e+00, 7.0700e+00, ..., 1.7800e+01, 3.9690e+02,\n",
       "         9.1400e+00],\n",
       "        [2.7290e-02, 0.0000e+00, 7.0700e+00, ..., 1.7800e+01, 3.9283e+02,\n",
       "         4.0300e+00],\n",
       "        ...,\n",
       "        [6.0760e-02, 0.0000e+00, 1.1930e+01, ..., 2.1000e+01, 3.9690e+02,\n",
       "         5.6400e+00],\n",
       "        [1.0959e-01, 0.0000e+00, 1.1930e+01, ..., 2.1000e+01, 3.9345e+02,\n",
       "         6.4800e+00],\n",
       "        [4.7410e-02, 0.0000e+00, 1.1930e+01, ..., 2.1000e+01, 3.9690e+02,\n",
       "         7.8800e+00]]),\n",
       " 'target': array([24. , 21.6, 34.7, 33.4, 36.2, 28.7, 22.9, 27.1, 16.5, 18.9, 15. ,\n",
       "        18.9, 21.7, 20.4, 18.2, 19.9, 23.1, 17.5, 20.2, 18.2, 13.6, 19.6,\n",
       "        15.2, 14.5, 15.6, 13.9, 16.6, 14.8, 18.4, 21. , 12.7, 14.5, 13.2,\n",
       "        13.1, 13.5, 18.9, 20. , 21. , 24.7, 30.8, 34.9, 26.6, 25.3, 24.7,\n",
       "        21.2, 19.3, 20. , 16.6, 14.4, 19.4, 19.7, 20.5, 25. , 23.4, 18.9,\n",
       "        35.4, 24.7, 31.6, 23.3, 19.6, 18.7, 16. , 22.2, 25. , 33. , 23.5,\n",
       "        19.4, 22. , 17.4, 20.9, 24.2, 21.7, 22.8, 23.4, 24.1, 21.4, 20. ,\n",
       "        20.8, 21.2, 20.3, 28. , 23.9, 24.8, 22.9, 23.9, 26.6, 22.5, 22.2,\n",
       "        23.6, 28.7, 22.6, 22. , 22.9, 25. , 20.6, 28.4, 21.4, 38.7, 43.8,\n",
       "        33.2, 27.5, 26.5, 18.6, 19.3, 20.1, 19.5, 19.5, 20.4, 19.8, 19.4,\n",
       "        21.7, 22.8, 18.8, 18.7, 18.5, 18.3, 21.2, 19.2, 20.4, 19.3, 22. ,\n",
       "        20.3, 20.5, 17.3, 18.8, 21.4, 15.7, 16.2, 18. , 14.3, 19.2, 19.6,\n",
       "        23. , 18.4, 15.6, 18.1, 17.4, 17.1, 13.3, 17.8, 14. , 14.4, 13.4,\n",
       "        15.6, 11.8, 13.8, 15.6, 14.6, 17.8, 15.4, 21.5, 19.6, 15.3, 19.4,\n",
       "        17. , 15.6, 13.1, 41.3, 24.3, 23.3, 27. , 50. , 50. , 50. , 22.7,\n",
       "        25. , 50. , 23.8, 23.8, 22.3, 17.4, 19.1, 23.1, 23.6, 22.6, 29.4,\n",
       "        23.2, 24.6, 29.9, 37.2, 39.8, 36.2, 37.9, 32.5, 26.4, 29.6, 50. ,\n",
       "        32. , 29.8, 34.9, 37. , 30.5, 36.4, 31.1, 29.1, 50. , 33.3, 30.3,\n",
       "        34.6, 34.9, 32.9, 24.1, 42.3, 48.5, 50. , 22.6, 24.4, 22.5, 24.4,\n",
       "        20. , 21.7, 19.3, 22.4, 28.1, 23.7, 25. , 23.3, 28.7, 21.5, 23. ,\n",
       "        26.7, 21.7, 27.5, 30.1, 44.8, 50. , 37.6, 31.6, 46.7, 31.5, 24.3,\n",
       "        31.7, 41.7, 48.3, 29. , 24. , 25.1, 31.5, 23.7, 23.3, 22. , 20.1,\n",
       "        22.2, 23.7, 17.6, 18.5, 24.3, 20.5, 24.5, 26.2, 24.4, 24.8, 29.6,\n",
       "        42.8, 21.9, 20.9, 44. , 50. , 36. , 30.1, 33.8, 43.1, 48.8, 31. ,\n",
       "        36.5, 22.8, 30.7, 50. , 43.5, 20.7, 21.1, 25.2, 24.4, 35.2, 32.4,\n",
       "        32. , 33.2, 33.1, 29.1, 35.1, 45.4, 35.4, 46. , 50. , 32.2, 22. ,\n",
       "        20.1, 23.2, 22.3, 24.8, 28.5, 37.3, 27.9, 23.9, 21.7, 28.6, 27.1,\n",
       "        20.3, 22.5, 29. , 24.8, 22. , 26.4, 33.1, 36.1, 28.4, 33.4, 28.2,\n",
       "        22.8, 20.3, 16.1, 22.1, 19.4, 21.6, 23.8, 16.2, 17.8, 19.8, 23.1,\n",
       "        21. , 23.8, 23.1, 20.4, 18.5, 25. , 24.6, 23. , 22.2, 19.3, 22.6,\n",
       "        19.8, 17.1, 19.4, 22.2, 20.7, 21.1, 19.5, 18.5, 20.6, 19. , 18.7,\n",
       "        32.7, 16.5, 23.9, 31.2, 17.5, 17.2, 23.1, 24.5, 26.6, 22.9, 24.1,\n",
       "        18.6, 30.1, 18.2, 20.6, 17.8, 21.7, 22.7, 22.6, 25. , 19.9, 20.8,\n",
       "        16.8, 21.9, 27.5, 21.9, 23.1, 50. , 50. , 50. , 50. , 50. , 13.8,\n",
       "        13.8, 15. , 13.9, 13.3, 13.1, 10.2, 10.4, 10.9, 11.3, 12.3,  8.8,\n",
       "         7.2, 10.5,  7.4, 10.2, 11.5, 15.1, 23.2,  9.7, 13.8, 12.7, 13.1,\n",
       "        12.5,  8.5,  5. ,  6.3,  5.6,  7.2, 12.1,  8.3,  8.5,  5. , 11.9,\n",
       "        27.9, 17.2, 27.5, 15. , 17.2, 17.9, 16.3,  7. ,  7.2,  7.5, 10.4,\n",
       "         8.8,  8.4, 16.7, 14.2, 20.8, 13.4, 11.7,  8.3, 10.2, 10.9, 11. ,\n",
       "         9.5, 14.5, 14.1, 16.1, 14.3, 11.7, 13.4,  9.6,  8.7,  8.4, 12.8,\n",
       "        10.5, 17.1, 18.4, 15.4, 10.8, 11.8, 14.9, 12.6, 14.1, 13. , 13.4,\n",
       "        15.2, 16.1, 17.8, 14.9, 14.1, 12.7, 13.5, 14.9, 20. , 16.4, 17.7,\n",
       "        19.5, 20.2, 21.4, 19.9, 19. , 19.1, 19.1, 20.1, 19.9, 19.6, 23.2,\n",
       "        29.8, 13.8, 13.3, 16.7, 12. , 14.6, 21.4, 23. , 23.7, 25. , 21.8,\n",
       "        20.6, 21.2, 19.1, 20.6, 15.2,  7. ,  8.1, 13.6, 20.1, 21.8, 24.5,\n",
       "        23.1, 19.7, 18.3, 21.2, 17.5, 16.8, 22.4, 20.6, 23.9, 22. , 11.9]),\n",
       " 'feature_names': array(['CRIM', 'ZN', 'INDUS', 'CHAS', 'NOX', 'RM', 'AGE', 'DIS', 'RAD',\n",
       "        'TAX', 'PTRATIO', 'B', 'LSTAT'], dtype='<U7'),\n",
       " 'DESCR': \".. _boston_dataset:\\n\\nBoston house prices dataset\\n---------------------------\\n\\n**Data Set Characteristics:**  \\n\\n    :Number of Instances: 506 \\n\\n    :Number of Attributes: 13 numeric/categorical predictive. Median Value (attribute 14) is usually the target.\\n\\n    :Attribute Information (in order):\\n        - CRIM     per capita crime rate by town\\n        - ZN       proportion of residential land zoned for lots over 25,000 sq.ft.\\n        - INDUS    proportion of non-retail business acres per town\\n        - CHAS     Charles River dummy variable (= 1 if tract bounds river; 0 otherwise)\\n        - NOX      nitric oxides concentration (parts per 10 million)\\n        - RM       average number of rooms per dwelling\\n        - AGE      proportion of owner-occupied units built prior to 1940\\n        - DIS      weighted distances to five Boston employment centres\\n        - RAD      index of accessibility to radial highways\\n        - TAX      full-value property-tax rate per $10,000\\n        - PTRATIO  pupil-teacher ratio by town\\n        - B        1000(Bk - 0.63)^2 where Bk is the proportion of blacks by town\\n        - LSTAT    % lower status of the population\\n        - MEDV     Median value of owner-occupied homes in $1000's\\n\\n    :Missing Attribute Values: None\\n\\n    :Creator: Harrison, D. and Rubinfeld, D.L.\\n\\nThis is a copy of UCI ML housing dataset.\\nhttps://archive.ics.uci.edu/ml/machine-learning-databases/housing/\\n\\n\\nThis dataset was taken from the StatLib library which is maintained at Carnegie Mellon University.\\n\\nThe Boston house-price data of Harrison, D. and Rubinfeld, D.L. 'Hedonic\\nprices and the demand for clean air', J. Environ. Economics & Management,\\nvol.5, 81-102, 1978.   Used in Belsley, Kuh & Welsch, 'Regression diagnostics\\n...', Wiley, 1980.   N.B. Various transformations are used in the table on\\npages 244-261 of the latter.\\n\\nThe Boston house-price data has been used in many machine learning papers that address regression\\nproblems.   \\n     \\n.. topic:: References\\n\\n   - Belsley, Kuh & Welsch, 'Regression diagnostics: Identifying Influential Data and Sources of Collinearity', Wiley, 1980. 244-261.\\n   - Quinlan,R. (1993). Combining Instance-Based and Model-Based Learning. In Proceedings on the Tenth International Conference of Machine Learning, 236-243, University of Massachusetts, Amherst. Morgan Kaufmann.\\n\",\n",
       " 'filename': '/Users/Carlo/anaconda3/lib/python3.7/site-packages/sklearn/datasets/data/boston_house_prices.csv'}"
      ]
     },
     "execution_count": 3,
     "metadata": {},
     "output_type": "execute_result"
    }
   ],
   "source": [
    "boston"
   ]
  },
  {
   "cell_type": "code",
   "execution_count": 4,
   "metadata": {
    "colab": {
     "base_uri": "https://localhost:8080/",
     "height": 921
    },
    "colab_type": "code",
    "executionInfo": {
     "elapsed": 1615,
     "status": "ok",
     "timestamp": 1582152448014,
     "user": {
      "displayName": "Corinne Ferrette",
      "photoUrl": "",
      "userId": "06893314746757986473"
     },
     "user_tz": -60
    },
    "id": "TpGM2HVoryVP",
    "outputId": "4e08dc2b-31ca-4073-bbcf-91bdd911f33a"
   },
   "outputs": [
    {
     "name": "stdout",
     "output_type": "stream",
     "text": [
      ".. _boston_dataset:\n",
      "\n",
      "Boston house prices dataset\n",
      "---------------------------\n",
      "\n",
      "**Data Set Characteristics:**  \n",
      "\n",
      "    :Number of Instances: 506 \n",
      "\n",
      "    :Number of Attributes: 13 numeric/categorical predictive. Median Value (attribute 14) is usually the target.\n",
      "\n",
      "    :Attribute Information (in order):\n",
      "        - CRIM     per capita crime rate by town\n",
      "        - ZN       proportion of residential land zoned for lots over 25,000 sq.ft.\n",
      "        - INDUS    proportion of non-retail business acres per town\n",
      "        - CHAS     Charles River dummy variable (= 1 if tract bounds river; 0 otherwise)\n",
      "        - NOX      nitric oxides concentration (parts per 10 million)\n",
      "        - RM       average number of rooms per dwelling\n",
      "        - AGE      proportion of owner-occupied units built prior to 1940\n",
      "        - DIS      weighted distances to five Boston employment centres\n",
      "        - RAD      index of accessibility to radial highways\n",
      "        - TAX      full-value property-tax rate per $10,000\n",
      "        - PTRATIO  pupil-teacher ratio by town\n",
      "        - B        1000(Bk - 0.63)^2 where Bk is the proportion of blacks by town\n",
      "        - LSTAT    % lower status of the population\n",
      "        - MEDV     Median value of owner-occupied homes in $1000's\n",
      "\n",
      "    :Missing Attribute Values: None\n",
      "\n",
      "    :Creator: Harrison, D. and Rubinfeld, D.L.\n",
      "\n",
      "This is a copy of UCI ML housing dataset.\n",
      "https://archive.ics.uci.edu/ml/machine-learning-databases/housing/\n",
      "\n",
      "\n",
      "This dataset was taken from the StatLib library which is maintained at Carnegie Mellon University.\n",
      "\n",
      "The Boston house-price data of Harrison, D. and Rubinfeld, D.L. 'Hedonic\n",
      "prices and the demand for clean air', J. Environ. Economics & Management,\n",
      "vol.5, 81-102, 1978.   Used in Belsley, Kuh & Welsch, 'Regression diagnostics\n",
      "...', Wiley, 1980.   N.B. Various transformations are used in the table on\n",
      "pages 244-261 of the latter.\n",
      "\n",
      "The Boston house-price data has been used in many machine learning papers that address regression\n",
      "problems.   \n",
      "     \n",
      ".. topic:: References\n",
      "\n",
      "   - Belsley, Kuh & Welsch, 'Regression diagnostics: Identifying Influential Data and Sources of Collinearity', Wiley, 1980. 244-261.\n",
      "   - Quinlan,R. (1993). Combining Instance-Based and Model-Based Learning. In Proceedings on the Tenth International Conference of Machine Learning, 236-243, University of Massachusetts, Amherst. Morgan Kaufmann.\n",
      "\n"
     ]
    }
   ],
   "source": [
    "print(boston.DESCR)"
   ]
  },
  {
   "cell_type": "code",
   "execution_count": 5,
   "metadata": {
    "colab": {
     "base_uri": "https://localhost:8080/",
     "height": 190
    },
    "colab_type": "code",
    "executionInfo": {
     "elapsed": 1245,
     "status": "ok",
     "timestamp": 1582152456234,
     "user": {
      "displayName": "Corinne Ferrette",
      "photoUrl": "",
      "userId": "06893314746757986473"
     },
     "user_tz": -60
    },
    "id": "nw_c1ROJr8rx",
    "outputId": "edb7a1ec-a3f5-47f7-8c68-26e212afeb55"
   },
   "outputs": [
    {
     "data": {
      "text/plain": [
       "24.0    132\n",
       "5.0     115\n",
       "4.0     110\n",
       "3.0      38\n",
       "6.0      26\n",
       "8.0      24\n",
       "2.0      24\n",
       "1.0      20\n",
       "7.0      17\n",
       "Name: RAD, dtype: int64"
      ]
     },
     "execution_count": 5,
     "metadata": {},
     "output_type": "execute_result"
    }
   ],
   "source": [
    "boston_df[\"RAD\"].value_counts()"
   ]
  },
  {
   "cell_type": "markdown",
   "metadata": {
    "colab_type": "text",
    "id": "whqaTzyw-lpr"
   },
   "source": [
    "  2. Créez un dataframe contenant les variables explicatives et un autre contenant uniquement la variable cible qui est le prix des maisons"
   ]
  },
  {
   "cell_type": "code",
   "execution_count": 6,
   "metadata": {
    "colab": {
     "base_uri": "https://localhost:8080/",
     "height": 206
    },
    "colab_type": "code",
    "executionInfo": {
     "elapsed": 901,
     "status": "ok",
     "timestamp": 1582152460112,
     "user": {
      "displayName": "Corinne Ferrette",
      "photoUrl": "",
      "userId": "06893314746757986473"
     },
     "user_tz": -60
    },
    "id": "zoFLJeNK-gxL",
    "outputId": "c49196ab-59ea-4ece-c492-c4efc2c4dab7"
   },
   "outputs": [
    {
     "data": {
      "text/html": [
       "<div>\n",
       "<style scoped>\n",
       "    .dataframe tbody tr th:only-of-type {\n",
       "        vertical-align: middle;\n",
       "    }\n",
       "\n",
       "    .dataframe tbody tr th {\n",
       "        vertical-align: top;\n",
       "    }\n",
       "\n",
       "    .dataframe thead th {\n",
       "        text-align: right;\n",
       "    }\n",
       "</style>\n",
       "<table border=\"1\" class=\"dataframe\">\n",
       "  <thead>\n",
       "    <tr style=\"text-align: right;\">\n",
       "      <th></th>\n",
       "      <th>prices</th>\n",
       "    </tr>\n",
       "  </thead>\n",
       "  <tbody>\n",
       "    <tr>\n",
       "      <th>0</th>\n",
       "      <td>24.0</td>\n",
       "    </tr>\n",
       "    <tr>\n",
       "      <th>1</th>\n",
       "      <td>21.6</td>\n",
       "    </tr>\n",
       "    <tr>\n",
       "      <th>2</th>\n",
       "      <td>34.7</td>\n",
       "    </tr>\n",
       "    <tr>\n",
       "      <th>3</th>\n",
       "      <td>33.4</td>\n",
       "    </tr>\n",
       "    <tr>\n",
       "      <th>4</th>\n",
       "      <td>36.2</td>\n",
       "    </tr>\n",
       "  </tbody>\n",
       "</table>\n",
       "</div>"
      ],
      "text/plain": [
       "   prices\n",
       "0    24.0\n",
       "1    21.6\n",
       "2    34.7\n",
       "3    33.4\n",
       "4    36.2"
      ]
     },
     "execution_count": 6,
     "metadata": {},
     "output_type": "execute_result"
    }
   ],
   "source": [
    "y = pd.DataFrame(boston.target, columns=[\"prices\"])\n",
    "y.head()"
   ]
  },
  {
   "cell_type": "markdown",
   "metadata": {
    "colab_type": "text",
    "id": "lC9PW2vu_h0v"
   },
   "source": [
    "3. Utilisez la commande `train_test_split ` du package `sklearn.model_selection`  afin de créer un échantillon d’entraînement contenant 70% des observations et un échantillon test contenant 30% des observations."
   ]
  },
  {
   "cell_type": "code",
   "execution_count": 7,
   "metadata": {
    "colab": {
     "base_uri": "https://localhost:8080/",
     "height": 320
    },
    "colab_type": "code",
    "executionInfo": {
     "elapsed": 948,
     "status": "ok",
     "timestamp": 1582152465847,
     "user": {
      "displayName": "Corinne Ferrette",
      "photoUrl": "",
      "userId": "06893314746757986473"
     },
     "user_tz": -60
    },
    "id": "9xdJd9sz_fOX",
    "outputId": "e243175b-1aaf-495a-dc23-78063d95d251"
   },
   "outputs": [
    {
     "data": {
      "text/html": [
       "<div>\n",
       "<style scoped>\n",
       "    .dataframe tbody tr th:only-of-type {\n",
       "        vertical-align: middle;\n",
       "    }\n",
       "\n",
       "    .dataframe tbody tr th {\n",
       "        vertical-align: top;\n",
       "    }\n",
       "\n",
       "    .dataframe thead th {\n",
       "        text-align: right;\n",
       "    }\n",
       "</style>\n",
       "<table border=\"1\" class=\"dataframe\">\n",
       "  <thead>\n",
       "    <tr style=\"text-align: right;\">\n",
       "      <th></th>\n",
       "      <th>0</th>\n",
       "      <th>1</th>\n",
       "      <th>2</th>\n",
       "      <th>3</th>\n",
       "      <th>4</th>\n",
       "      <th>5</th>\n",
       "      <th>6</th>\n",
       "      <th>7</th>\n",
       "      <th>8</th>\n",
       "      <th>9</th>\n",
       "      <th>10</th>\n",
       "      <th>11</th>\n",
       "      <th>12</th>\n",
       "    </tr>\n",
       "  </thead>\n",
       "  <tbody>\n",
       "    <tr>\n",
       "      <th>count</th>\n",
       "      <td>152.000000</td>\n",
       "      <td>152.000000</td>\n",
       "      <td>152.000000</td>\n",
       "      <td>152.000000</td>\n",
       "      <td>152.000000</td>\n",
       "      <td>152.000000</td>\n",
       "      <td>152.000000</td>\n",
       "      <td>152.000000</td>\n",
       "      <td>152.000000</td>\n",
       "      <td>152.000000</td>\n",
       "      <td>152.000000</td>\n",
       "      <td>152.000000</td>\n",
       "      <td>152.000000</td>\n",
       "    </tr>\n",
       "    <tr>\n",
       "      <th>mean</th>\n",
       "      <td>0.092925</td>\n",
       "      <td>0.028868</td>\n",
       "      <td>0.103112</td>\n",
       "      <td>-0.018861</td>\n",
       "      <td>0.036227</td>\n",
       "      <td>-0.079852</td>\n",
       "      <td>0.000636</td>\n",
       "      <td>0.019929</td>\n",
       "      <td>0.125651</td>\n",
       "      <td>0.167896</td>\n",
       "      <td>0.049259</td>\n",
       "      <td>-0.086331</td>\n",
       "      <td>0.044178</td>\n",
       "    </tr>\n",
       "    <tr>\n",
       "      <th>std</th>\n",
       "      <td>1.095444</td>\n",
       "      <td>1.040221</td>\n",
       "      <td>1.059604</td>\n",
       "      <td>0.970888</td>\n",
       "      <td>0.992432</td>\n",
       "      <td>1.058753</td>\n",
       "      <td>0.982033</td>\n",
       "      <td>1.114840</td>\n",
       "      <td>1.076657</td>\n",
       "      <td>1.068477</td>\n",
       "      <td>0.964095</td>\n",
       "      <td>1.118614</td>\n",
       "      <td>0.984658</td>\n",
       "    </tr>\n",
       "    <tr>\n",
       "      <th>min</th>\n",
       "      <td>-0.404180</td>\n",
       "      <td>-0.484552</td>\n",
       "      <td>-1.442425</td>\n",
       "      <td>-0.275659</td>\n",
       "      <td>-1.416002</td>\n",
       "      <td>-3.534625</td>\n",
       "      <td>-2.203874</td>\n",
       "      <td>-1.305037</td>\n",
       "      <td>-0.968816</td>\n",
       "      <td>-1.293576</td>\n",
       "      <td>-2.661935</td>\n",
       "      <td>-4.040067</td>\n",
       "      <td>-1.317273</td>\n",
       "    </tr>\n",
       "    <tr>\n",
       "      <th>25%</th>\n",
       "      <td>-0.394646</td>\n",
       "      <td>-0.484552</td>\n",
       "      <td>-0.891207</td>\n",
       "      <td>-0.275659</td>\n",
       "      <td>-0.907923</td>\n",
       "      <td>-0.624357</td>\n",
       "      <td>-0.937087</td>\n",
       "      <td>-0.835176</td>\n",
       "      <td>-0.615612</td>\n",
       "      <td>-0.704303</td>\n",
       "      <td>-0.650569</td>\n",
       "      <td>0.172213</td>\n",
       "      <td>-0.745281</td>\n",
       "    </tr>\n",
       "    <tr>\n",
       "      <th>50%</th>\n",
       "      <td>-0.374454</td>\n",
       "      <td>-0.484552</td>\n",
       "      <td>-0.136438</td>\n",
       "      <td>-0.275659</td>\n",
       "      <td>-0.081218</td>\n",
       "      <td>-0.201770</td>\n",
       "      <td>0.315566</td>\n",
       "      <td>-0.312563</td>\n",
       "      <td>-0.497878</td>\n",
       "      <td>-0.291204</td>\n",
       "      <td>0.309401</td>\n",
       "      <td>0.366939</td>\n",
       "      <td>-0.117519</td>\n",
       "    </tr>\n",
       "    <tr>\n",
       "      <th>75%</th>\n",
       "      <td>0.166122</td>\n",
       "      <td>0.112249</td>\n",
       "      <td>1.065545</td>\n",
       "      <td>-0.275659</td>\n",
       "      <td>0.622773</td>\n",
       "      <td>0.470890</td>\n",
       "      <td>0.892423</td>\n",
       "      <td>0.670124</td>\n",
       "      <td>1.739080</td>\n",
       "      <td>1.616340</td>\n",
       "      <td>0.812243</td>\n",
       "      <td>0.418199</td>\n",
       "      <td>0.574379</td>\n",
       "    </tr>\n",
       "    <tr>\n",
       "      <th>max</th>\n",
       "      <td>8.403458</td>\n",
       "      <td>3.855817</td>\n",
       "      <td>2.497821</td>\n",
       "      <td>3.627671</td>\n",
       "      <td>2.734745</td>\n",
       "      <td>3.593538</td>\n",
       "      <td>1.110621</td>\n",
       "      <td>4.103895</td>\n",
       "      <td>1.739080</td>\n",
       "      <td>1.889714</td>\n",
       "      <td>1.635075</td>\n",
       "      <td>0.431270</td>\n",
       "      <td>3.543090</td>\n",
       "    </tr>\n",
       "  </tbody>\n",
       "</table>\n",
       "</div>"
      ],
      "text/plain": [
       "               0           1           2           3           4           5   \\\n",
       "count  152.000000  152.000000  152.000000  152.000000  152.000000  152.000000   \n",
       "mean     0.092925    0.028868    0.103112   -0.018861    0.036227   -0.079852   \n",
       "std      1.095444    1.040221    1.059604    0.970888    0.992432    1.058753   \n",
       "min     -0.404180   -0.484552   -1.442425   -0.275659   -1.416002   -3.534625   \n",
       "25%     -0.394646   -0.484552   -0.891207   -0.275659   -0.907923   -0.624357   \n",
       "50%     -0.374454   -0.484552   -0.136438   -0.275659   -0.081218   -0.201770   \n",
       "75%      0.166122    0.112249    1.065545   -0.275659    0.622773    0.470890   \n",
       "max      8.403458    3.855817    2.497821    3.627671    2.734745    3.593538   \n",
       "\n",
       "               6           7           8           9           10          11  \\\n",
       "count  152.000000  152.000000  152.000000  152.000000  152.000000  152.000000   \n",
       "mean     0.000636    0.019929    0.125651    0.167896    0.049259   -0.086331   \n",
       "std      0.982033    1.114840    1.076657    1.068477    0.964095    1.118614   \n",
       "min     -2.203874   -1.305037   -0.968816   -1.293576   -2.661935   -4.040067   \n",
       "25%     -0.937087   -0.835176   -0.615612   -0.704303   -0.650569    0.172213   \n",
       "50%      0.315566   -0.312563   -0.497878   -0.291204    0.309401    0.366939   \n",
       "75%      0.892423    0.670124    1.739080    1.616340    0.812243    0.418199   \n",
       "max      1.110621    4.103895    1.739080    1.889714    1.635075    0.431270   \n",
       "\n",
       "               12  \n",
       "count  152.000000  \n",
       "mean     0.044178  \n",
       "std      0.984658  \n",
       "min     -1.317273  \n",
       "25%     -0.745281  \n",
       "50%     -0.117519  \n",
       "75%      0.574379  \n",
       "max      3.543090  "
      ]
     },
     "execution_count": 7,
     "metadata": {},
     "output_type": "execute_result"
    }
   ],
   "source": [
    "from sklearn.model_selection import train_test_split\n",
    "X_train, X_test, y_train, y_test = train_test_split(boston_df, y, test_size = 0.3)\n",
    "from sklearn.preprocessing import StandardScaler\n",
    "sc = StandardScaler()\n",
    "X_train = pd.DataFrame(sc.fit_transform(X_train))\n",
    "X_test = pd.DataFrame(sc.transform(X_test))\n",
    "\n",
    "X_test.describe()"
   ]
  },
  {
   "cell_type": "markdown",
   "metadata": {
    "colab_type": "text",
    "id": "vPGXur4x_qve"
   },
   "source": [
    "# 4. Générer un modèle de régression linéaire classique, un modèle ridge où alpha vaut 0.01 et un modèle ridge où alpha vaut 100."
   ]
  },
  {
   "cell_type": "code",
   "execution_count": 8,
   "metadata": {
    "colab": {},
    "colab_type": "code",
    "id": "CPCIHapL_mze"
   },
   "outputs": [],
   "source": [
    "from sklearn.linear_model import LinearRegression\n",
    "from sklearn.linear_model import Ridge\n",
    "linear_regressor = LinearRegression()\n",
    "ridge_regressor_small_alpha = Ridge(alpha = 0.01)\n",
    "ridge_regressor_large_alpha = Ridge(alpha = 100)"
   ]
  },
  {
   "cell_type": "markdown",
   "metadata": {
    "colab_type": "text",
    "id": "AEYP5etM_05G"
   },
   "source": [
    "5. Entraînez ces modèles sur les données sur les données d’apprentissage"
   ]
  },
  {
   "cell_type": "code",
   "execution_count": 9,
   "metadata": {
    "colab": {
     "base_uri": "https://localhost:8080/",
     "height": 52
    },
    "colab_type": "code",
    "executionInfo": {
     "elapsed": 723,
     "status": "ok",
     "timestamp": 1582152472195,
     "user": {
      "displayName": "Corinne Ferrette",
      "photoUrl": "",
      "userId": "06893314746757986473"
     },
     "user_tz": -60
    },
    "id": "0IQdvW5b_wUb",
    "outputId": "0e408a2a-c34b-4b75-e63f-900182d32c63"
   },
   "outputs": [
    {
     "data": {
      "text/plain": [
       "Ridge(alpha=100, copy_X=True, fit_intercept=True, max_iter=None,\n",
       "      normalize=False, random_state=None, solver='auto', tol=0.001)"
      ]
     },
     "execution_count": 9,
     "metadata": {},
     "output_type": "execute_result"
    }
   ],
   "source": [
    "linear_regressor.fit(X_train, y_train)\n",
    "ridge_regressor_small_alpha.fit(X_train, y_train)\n",
    "ridge_regressor_large_alpha.fit(X_train, y_train)"
   ]
  },
  {
   "cell_type": "markdown",
   "metadata": {
    "colab_type": "text",
    "id": "rxX35B6j_4iE"
   },
   "source": [
    "6. Produisez les scores de performance de c’est trois modèles sur l’échantillon d’apprentissage et de validation grâce à l’attribut .score"
   ]
  },
  {
   "cell_type": "code",
   "execution_count": 10,
   "metadata": {
    "colab": {
     "base_uri": "https://localhost:8080/",
     "height": 69
    },
    "colab_type": "code",
    "executionInfo": {
     "elapsed": 691,
     "status": "ok",
     "timestamp": 1582152473961,
     "user": {
      "displayName": "Corinne Ferrette",
      "photoUrl": "",
      "userId": "06893314746757986473"
     },
     "user_tz": -60
    },
    "id": "nhBGIX2vrg5e",
    "outputId": "edabe1a0-f902-4dc0-904f-f7378f585749"
   },
   "outputs": [
    {
     "name": "stdout",
     "output_type": "stream",
     "text": [
      "Linear Regression score : 0.7731607676999066\n",
      "Ridge with small Alpha score : 0.773160765035742\n",
      "Ridge with large Alpha score : 0.738671994114277\n"
     ]
    }
   ],
   "source": [
    "print(\"Linear Regression score : {}\".format(linear_regressor.score(X_train, y_train)))\n",
    "print(\"Ridge with small Alpha score : {}\".format(ridge_regressor_small_alpha.score(X_train, y_train)))\n",
    "print(\"Ridge with large Alpha score : {}\".format(ridge_regressor_large_alpha.score(X_train,y_train)))"
   ]
  },
  {
   "cell_type": "code",
   "execution_count": 11,
   "metadata": {
    "colab": {
     "base_uri": "https://localhost:8080/",
     "height": 69
    },
    "colab_type": "code",
    "executionInfo": {
     "elapsed": 882,
     "status": "ok",
     "timestamp": 1582152476908,
     "user": {
      "displayName": "Corinne Ferrette",
      "photoUrl": "",
      "userId": "06893314746757986473"
     },
     "user_tz": -60
    },
    "id": "SlbgdO2y_2LA",
    "outputId": "3b396283-cd53-4b71-fee4-204822a0f4ff"
   },
   "outputs": [
    {
     "name": "stdout",
     "output_type": "stream",
     "text": [
      "Linear Regression score : 0.6341665102184066\n",
      "Ridge with small Alpha score : 0.6341792575582138\n",
      "Ridge with large Alpha score : 0.6664943713526277\n"
     ]
    }
   ],
   "source": [
    "print(\"Linear Regression score : {}\".format(linear_regressor.score(X_test, y_test)))\n",
    "print(\"Ridge with small Alpha score : {}\".format(ridge_regressor_small_alpha.score(X_test, y_test)))\n",
    "print(\"Ridge with large Alpha score : {}\".format(ridge_regressor_large_alpha.score(X_test,y_test)))"
   ]
  },
  {
   "cell_type": "markdown",
   "metadata": {
    "colab_type": "text",
    "id": "y-FCEvIUASw9"
   },
   "source": [
    "7. Comparez les coefficients des trois modèle à l’aide d’un graphique, que remarquez vous ?"
   ]
  },
  {
   "cell_type": "code",
   "execution_count": 12,
   "metadata": {
    "colab": {
     "base_uri": "https://localhost:8080/",
     "height": 69
    },
    "colab_type": "code",
    "executionInfo": {
     "elapsed": 713,
     "status": "ok",
     "timestamp": 1582152479410,
     "user": {
      "displayName": "Corinne Ferrette",
      "photoUrl": "",
      "userId": "06893314746757986473"
     },
     "user_tz": -60
    },
    "id": "MapKiy8yIWO7",
    "outputId": "c4115175-f21c-4e40-b0b9-45aa661e318f"
   },
   "outputs": [
    {
     "data": {
      "text/plain": [
       "array([-1.30927918,  1.2886076 ,  0.11918383,  0.61421328, -2.44541763,\n",
       "        2.70055559,  0.29966743, -3.45435184,  2.84205126, -1.74540118,\n",
       "       -2.17616125,  0.92594575, -4.06402815])"
      ]
     },
     "execution_count": 12,
     "metadata": {},
     "output_type": "execute_result"
    }
   ],
   "source": [
    "linear_regressor.coef_[0]"
   ]
  },
  {
   "cell_type": "code",
   "execution_count": 13,
   "metadata": {
    "colab": {
     "base_uri": "https://localhost:8080/",
     "height": 362
    },
    "colab_type": "code",
    "executionInfo": {
     "elapsed": 682,
     "status": "ok",
     "timestamp": 1582152485658,
     "user": {
      "displayName": "Corinne Ferrette",
      "photoUrl": "",
      "userId": "06893314746757986473"
     },
     "user_tz": -60
    },
    "id": "s9Cw09XrAKOG",
    "outputId": "3e94a4ba-3b74-4412-b453-40750b81ee47"
   },
   "outputs": [
    {
     "data": {
      "text/html": [
       "<div>\n",
       "<style scoped>\n",
       "    .dataframe tbody tr th:only-of-type {\n",
       "        vertical-align: middle;\n",
       "    }\n",
       "\n",
       "    .dataframe tbody tr th {\n",
       "        vertical-align: top;\n",
       "    }\n",
       "\n",
       "    .dataframe thead th {\n",
       "        text-align: right;\n",
       "    }\n",
       "</style>\n",
       "<table border=\"1\" class=\"dataframe\">\n",
       "  <thead>\n",
       "    <tr style=\"text-align: right;\">\n",
       "      <th></th>\n",
       "      <th>features</th>\n",
       "      <th>coef_linear_regressor</th>\n",
       "      <th>coef_ridge_small_alpha</th>\n",
       "      <th>coef_ridge_large_alpha</th>\n",
       "    </tr>\n",
       "  </thead>\n",
       "  <tbody>\n",
       "    <tr>\n",
       "      <th>0</th>\n",
       "      <td>CRIM</td>\n",
       "      <td>-1.309279</td>\n",
       "      <td>-1.309139</td>\n",
       "      <td>-0.824130</td>\n",
       "    </tr>\n",
       "    <tr>\n",
       "      <th>1</th>\n",
       "      <td>ZN</td>\n",
       "      <td>1.288608</td>\n",
       "      <td>1.288352</td>\n",
       "      <td>0.623174</td>\n",
       "    </tr>\n",
       "    <tr>\n",
       "      <th>2</th>\n",
       "      <td>INDUS</td>\n",
       "      <td>0.119184</td>\n",
       "      <td>0.118871</td>\n",
       "      <td>-0.451460</td>\n",
       "    </tr>\n",
       "    <tr>\n",
       "      <th>3</th>\n",
       "      <td>CHAS</td>\n",
       "      <td>0.614213</td>\n",
       "      <td>0.614273</td>\n",
       "      <td>0.696812</td>\n",
       "    </tr>\n",
       "    <tr>\n",
       "      <th>4</th>\n",
       "      <td>NOX</td>\n",
       "      <td>-2.445418</td>\n",
       "      <td>-2.444968</td>\n",
       "      <td>-0.897553</td>\n",
       "    </tr>\n",
       "    <tr>\n",
       "      <th>5</th>\n",
       "      <td>RM</td>\n",
       "      <td>2.700556</td>\n",
       "      <td>2.700716</td>\n",
       "      <td>2.818728</td>\n",
       "    </tr>\n",
       "    <tr>\n",
       "      <th>6</th>\n",
       "      <td>AGE</td>\n",
       "      <td>0.299667</td>\n",
       "      <td>0.299536</td>\n",
       "      <td>-0.081048</td>\n",
       "    </tr>\n",
       "    <tr>\n",
       "      <th>7</th>\n",
       "      <td>DIS</td>\n",
       "      <td>-3.454352</td>\n",
       "      <td>-3.453934</td>\n",
       "      <td>-1.601905</td>\n",
       "    </tr>\n",
       "    <tr>\n",
       "      <th>8</th>\n",
       "      <td>RAD</td>\n",
       "      <td>2.842051</td>\n",
       "      <td>2.841030</td>\n",
       "      <td>0.637345</td>\n",
       "    </tr>\n",
       "    <tr>\n",
       "      <th>9</th>\n",
       "      <td>TAX</td>\n",
       "      <td>-1.745401</td>\n",
       "      <td>-1.744490</td>\n",
       "      <td>-0.432902</td>\n",
       "    </tr>\n",
       "  </tbody>\n",
       "</table>\n",
       "</div>"
      ],
      "text/plain": [
       "  features  coef_linear_regressor  coef_ridge_small_alpha  \\\n",
       "0     CRIM              -1.309279               -1.309139   \n",
       "1       ZN               1.288608                1.288352   \n",
       "2    INDUS               0.119184                0.118871   \n",
       "3     CHAS               0.614213                0.614273   \n",
       "4      NOX              -2.445418               -2.444968   \n",
       "5       RM               2.700556                2.700716   \n",
       "6      AGE               0.299667                0.299536   \n",
       "7      DIS              -3.454352               -3.453934   \n",
       "8      RAD               2.842051                2.841030   \n",
       "9      TAX              -1.745401               -1.744490   \n",
       "\n",
       "   coef_ridge_large_alpha  \n",
       "0               -0.824130  \n",
       "1                0.623174  \n",
       "2               -0.451460  \n",
       "3                0.696812  \n",
       "4               -0.897553  \n",
       "5                2.818728  \n",
       "6               -0.081048  \n",
       "7               -1.601905  \n",
       "8                0.637345  \n",
       "9               -0.432902  "
      ]
     },
     "execution_count": 13,
     "metadata": {},
     "output_type": "execute_result"
    }
   ],
   "source": [
    "coef = pd.DataFrame() # on créé un dataframe pour analyser les coefficients\n",
    "coef['features'] = boston_df.columns\n",
    "coef['coef_linear_regressor'] = linear_regressor.coef_[0]\n",
    "#coef['coef_abs_linear_regressor'] = np.abs(linear_regressor.coef_[0])\n",
    "coef['coef_ridge_small_alpha'] = ridge_regressor_small_alpha.coef_[0]\n",
    "#coef['coef_abs_ridge_small_alpha'] = np.abs(ridge_regressor_small_alpha.coef_[0])\n",
    "coef['coef_ridge_large_alpha'] = ridge_regressor_large_alpha.coef_[0]\n",
    "#coef['coef_abs_ridge_large_alpha'] = np.abs(ridge_regressor_large_alpha.coef_[0])\n",
    "coef.head(10)"
   ]
  },
  {
   "cell_type": "code",
   "execution_count": 14,
   "metadata": {
    "colab": {
     "base_uri": "https://localhost:8080/",
     "height": 296
    },
    "colab_type": "code",
    "executionInfo": {
     "elapsed": 856,
     "status": "ok",
     "timestamp": 1582152489177,
     "user": {
      "displayName": "Corinne Ferrette",
      "photoUrl": "",
      "userId": "06893314746757986473"
     },
     "user_tz": -60
    },
    "id": "cJvQCAnfAWdm",
    "outputId": "6ebbdfd3-51e3-476c-aabf-98dd7a2aea93"
   },
   "outputs": [
    {
     "data": {
      "text/plain": [
       "<matplotlib.axes._subplots.AxesSubplot at 0x1a225361d0>"
      ]
     },
     "execution_count": 14,
     "metadata": {},
     "output_type": "execute_result"
    },
    {
     "data": {
      "image/png": "[encoded data removed]",
      "text/plain": [
       "<Figure size 432x288 with 1 Axes>"
      ]
     },
     "metadata": {
      "needs_background": "light"
     },
     "output_type": "display_data"
    }
   ],
   "source": [
    "perf_ridge_large_alpha = pd.DataFrame({\"params\": ridge_regressor_large_alpha.coef_[0], \n",
    "                                       \"model\": \"ridge Alpha = 100\", \n",
    "                                       \"index\": range(0, len(boston_df.columns))})\n",
    "\n",
    "perf_lin = pd.DataFrame({\"params\": linear_regressor.coef_[0], \n",
    "                                       \"model\": \"linear\", \n",
    "                                       \"index\": range(0, len(boston_df.columns))})\n",
    "\n",
    "perf_compar = pd.concat([perf_ridge_large_alpha,perf_lin])\n",
    "\n",
    "import seaborn as sns\n",
    "sns.pointplot(x = 'index',y = 'params',hue = 'model', data = perf_compar)"
   ]
  },
  {
   "cell_type": "markdown",
   "metadata": {
    "colab_type": "text",
    "id": "1ty5SIgDAzbw"
   },
   "source": [
    "---> On remarque qu'on a pu pénaliser le coefficient lié à la Feature NOX pour en limiter son impact"
   ]
  },
  {
   "cell_type": "markdown",
   "metadata": {
    "colab_type": "text",
    "id": "orQ4-NbwF4QW"
   },
   "source": [
    "8. Déterminez la valeur optimale de alpha (à 1 prêt) à l'aide de la fonction GridSearchCV"
   ]
  },
  {
   "cell_type": "code",
   "execution_count": 15,
   "metadata": {
    "colab": {
     "base_uri": "https://localhost:8080/",
     "height": 121
    },
    "colab_type": "code",
    "executionInfo": {
     "elapsed": 871,
     "status": "ok",
     "timestamp": 1582152492335,
     "user": {
      "displayName": "Corinne Ferrette",
      "photoUrl": "",
      "userId": "06893314746757986473"
     },
     "user_tz": -60
    },
    "id": "GY3RuM384paY",
    "outputId": "16336ffb-c948-46d0-83da-819c26875910"
   },
   "outputs": [
    {
     "name": "stdout",
     "output_type": "stream",
     "text": [
      "[ 0.73376082  0.4730725  -1.00631454  0.64113984  0.54766046  0.73640292\n",
      "  0.37828386 -0.12922703 -0.76843243  0.4189435 ]\n",
      "[ 0.73379224  0.4741527  -0.99413592  0.64093951  0.54826997  0.73671944\n",
      "  0.37911902 -0.12931018 -0.7686915   0.41877368]\n",
      "[ 0.6985193   0.47026291 -0.56355669  0.53236784  0.52320523  0.6872926\n",
      "  0.23662939  0.29928304 -0.42187235  0.26155227]\n"
     ]
    }
   ],
   "source": [
    "from sklearn.model_selection import cross_val_score\n",
    "print(cross_val_score(linear_regressor, boston.data,boston.target, cv = 10)) ### CrossValidation = 10\n",
    "print(cross_val_score(ridge_regressor_small_alpha, boston.data,boston.target, cv = 10))\n",
    "print(cross_val_score(ridge_regressor_large_alpha, boston.data,boston.target, cv = 10))"
   ]
  },
  {
   "cell_type": "code",
   "execution_count": 16,
   "metadata": {
    "colab": {
     "base_uri": "https://localhost:8080/",
     "height": 69
    },
    "colab_type": "code",
    "executionInfo": {
     "elapsed": 674,
     "status": "ok",
     "timestamp": 1582152494110,
     "user": {
      "displayName": "Corinne Ferrette",
      "photoUrl": "",
      "userId": "06893314746757986473"
     },
     "user_tz": -60
    },
    "id": "kCOLADF863bR",
    "outputId": "475340fc-713e-4140-f598-1f3a0d956668"
   },
   "outputs": [
    {
     "data": {
      "text/plain": [
       "array([6.320e-03, 1.800e+01, 2.310e+00, 0.000e+00, 5.380e-01, 6.575e+00,\n",
       "       6.520e+01, 4.090e+00, 1.000e+00, 2.960e+02, 1.530e+01, 3.969e+02,\n",
       "       4.980e+00])"
      ]
     },
     "execution_count": 16,
     "metadata": {},
     "output_type": "execute_result"
    }
   ],
   "source": [
    "boston.data[0]"
   ]
  },
  {
   "cell_type": "code",
   "execution_count": 17,
   "metadata": {
    "colab": {
     "base_uri": "https://localhost:8080/",
     "height": 384
    },
    "colab_type": "code",
    "executionInfo": {
     "elapsed": 28097,
     "status": "ok",
     "timestamp": 1582152522857,
     "user": {
      "displayName": "Corinne Ferrette",
      "photoUrl": "",
      "userId": "06893314746757986473"
     },
     "user_tz": -60
    },
    "id": "5kjsUd-2AqMw",
    "outputId": "910b34fb-9de6-48f7-ce2b-73d64ecfd2c1"
   },
   "outputs": [
    {
     "name": "stderr",
     "output_type": "stream",
     "text": [
      "/Users/Carlo/anaconda3/lib/python3.7/site-packages/sklearn/linear_model/_ridge.py:190: UserWarning: Singular matrix in solving dual problem. Using least-squares solution instead.\n",
      "  warnings.warn(\"Singular matrix in solving dual problem. Using \"\n",
      "/Users/Carlo/anaconda3/lib/python3.7/site-packages/sklearn/linear_model/_ridge.py:190: UserWarning: Singular matrix in solving dual problem. Using least-squares solution instead.\n",
      "  warnings.warn(\"Singular matrix in solving dual problem. Using \"\n",
      "/Users/Carlo/anaconda3/lib/python3.7/site-packages/sklearn/linear_model/_ridge.py:190: UserWarning: Singular matrix in solving dual problem. Using least-squares solution instead.\n",
      "  warnings.warn(\"Singular matrix in solving dual problem. Using \"\n",
      "/Users/Carlo/anaconda3/lib/python3.7/site-packages/sklearn/linear_model/_ridge.py:190: UserWarning: Singular matrix in solving dual problem. Using least-squares solution instead.\n",
      "  warnings.warn(\"Singular matrix in solving dual problem. Using \"\n",
      "/Users/Carlo/anaconda3/lib/python3.7/site-packages/sklearn/linear_model/_ridge.py:190: UserWarning: Singular matrix in solving dual problem. Using least-squares solution instead.\n",
      "  warnings.warn(\"Singular matrix in solving dual problem. Using \"\n",
      "/Users/Carlo/anaconda3/lib/python3.7/site-packages/sklearn/linear_model/_ridge.py:190: UserWarning: Singular matrix in solving dual problem. Using least-squares solution instead.\n",
      "  warnings.warn(\"Singular matrix in solving dual problem. Using \"\n",
      "/Users/Carlo/anaconda3/lib/python3.7/site-packages/sklearn/linear_model/_ridge.py:190: UserWarning: Singular matrix in solving dual problem. Using least-squares solution instead.\n",
      "  warnings.warn(\"Singular matrix in solving dual problem. Using \"\n",
      "/Users/Carlo/anaconda3/lib/python3.7/site-packages/sklearn/linear_model/_ridge.py:190: UserWarning: Singular matrix in solving dual problem. Using least-squares solution instead.\n",
      "  warnings.warn(\"Singular matrix in solving dual problem. Using \"\n",
      "/Users/Carlo/anaconda3/lib/python3.7/site-packages/sklearn/linear_model/_ridge.py:190: UserWarning: Singular matrix in solving dual problem. Using least-squares solution instead.\n",
      "  warnings.warn(\"Singular matrix in solving dual problem. Using \"\n",
      "/Users/Carlo/anaconda3/lib/python3.7/site-packages/sklearn/linear_model/_ridge.py:190: UserWarning: Singular matrix in solving dual problem. Using least-squares solution instead.\n",
      "  warnings.warn(\"Singular matrix in solving dual problem. Using \"\n"
     ]
    }
   ],
   "source": [
    "from sklearn.model_selection import GridSearchCV\n",
    "from sklearn.model_selection import KFold\n",
    "\n",
    "\n",
    "params = {'alpha':np.arange(0,1000,100),\n",
    "            'normalize':[True,False]}\n",
    "ridge = Ridge()\n",
    "\n",
    "for a in np.arange(0,100,1):\n",
    "  ridge = Ridge(alpha = a)\n",
    "    \n",
    "  kf = KFold(n_splits=10)\n",
    "    \n",
    "  for train_index, test_index in kf.split(np.ravel(boston.data)):\n",
    "    ridge.fit([train_index], [test_index])\n",
    "\n",
    "grid = GridSearchCV(ridge, params, cv=10)\n",
    "grid_fit = grid.fit(X_train, y_train)"
   ]
  },
  {
   "cell_type": "code",
   "execution_count": 18,
   "metadata": {
    "colab": {
     "base_uri": "https://localhost:8080/",
     "height": 34
    },
    "colab_type": "code",
    "executionInfo": {
     "elapsed": 25084,
     "status": "ok",
     "timestamp": 1582152522858,
     "user": {
      "displayName": "Corinne Ferrette",
      "photoUrl": "",
      "userId": "06893314746757986473"
     },
     "user_tz": -60
    },
    "id": "-Nb5OEGeEy4Y",
    "outputId": "23abfb6b-3198-4262-da92-c730643e6397"
   },
   "outputs": [
    {
     "data": {
      "text/plain": [
       "{'alpha': 0, 'normalize': True}"
      ]
     },
     "execution_count": 18,
     "metadata": {},
     "output_type": "execute_result"
    }
   ],
   "source": [
    "grid_fit.best_params_"
   ]
  },
  {
   "cell_type": "code",
   "execution_count": 19,
   "metadata": {
    "colab": {
     "base_uri": "https://localhost:8080/",
     "height": 34
    },
    "colab_type": "code",
    "executionInfo": {
     "elapsed": 23914,
     "status": "ok",
     "timestamp": 1582152522858,
     "user": {
      "displayName": "Corinne Ferrette",
      "photoUrl": "",
      "userId": "06893314746757986473"
     },
     "user_tz": -60
    },
    "id": "l1bcTNJRF08C",
    "outputId": "140db239-488d-494a-a8cf-301e59fd67ea"
   },
   "outputs": [
    {
     "data": {
      "text/plain": [
       "0.6341665102184062"
      ]
     },
     "execution_count": 19,
     "metadata": {},
     "output_type": "execute_result"
    }
   ],
   "source": [
    "grid_fit.best_estimator_.score(X_test,y_test)"
   ]
  },
  {
   "cell_type": "code",
   "execution_count": 20,
   "metadata": {
    "colab": {
     "base_uri": "https://localhost:8080/",
     "height": 34
    },
    "colab_type": "code",
    "executionInfo": {
     "elapsed": 22737,
     "status": "ok",
     "timestamp": 1582152522859,
     "user": {
      "displayName": "Corinne Ferrette",
      "photoUrl": "",
      "userId": "06893314746757986473"
     },
     "user_tz": -60
    },
    "id": "NiK9FZfdHoUa",
    "outputId": "a5406e72-82dc-4fae-e64f-ce1fd7f1b6f6"
   },
   "outputs": [
    {
     "data": {
      "text/plain": [
       "0.6341665102184062"
      ]
     },
     "execution_count": 20,
     "metadata": {},
     "output_type": "execute_result"
    }
   ],
   "source": [
    "Ridge(alpha=0).fit(X_train,y_train).score(X_test,y_test)"
   ]
  },
  {
   "cell_type": "code",
   "execution_count": 21,
   "metadata": {
    "colab": {},
    "colab_type": "code",
    "id": "O-Lm4JjWAiE_"
   },
   "outputs": [],
   "source": [
    "linear_score = pd.DataFrame(np.array([linear_regressor.score(X_test, y_test)])).rename(columns = {0 : 'Linear_Score'})\n",
    "ridge_small_alpha_score = pd.DataFrame(np.array([ridge_regressor_small_alpha.score(X_test, y_test)])).rename(columns = {0 : 'Ridge_Small_Alpha_Score'})\n",
    "ridge_large_alpha_score = pd.DataFrame(np.array([ridge_regressor_large_alpha.score(X_test, y_test)])).rename(columns = {0 : 'Ridge_Large_Alpha_Score'})"
   ]
  },
  {
   "cell_type": "code",
   "execution_count": 22,
   "metadata": {
    "colab": {
     "base_uri": "https://localhost:8080/",
     "height": 176
    },
    "colab_type": "code",
    "executionInfo": {
     "elapsed": 17634,
     "status": "ok",
     "timestamp": 1582152522860,
     "user": {
      "displayName": "Corinne Ferrette",
      "photoUrl": "",
      "userId": "06893314746757986473"
     },
     "user_tz": -60
    },
    "id": "VULkjAAxBBCU",
    "outputId": "1806318c-82a5-479f-e02c-169a0fd8fc3f"
   },
   "outputs": [],
   "source": [
    "score = pd.concat((linear_score, ridge_small_alpha_score, ridge_large_alpha_score)).T"
   ]
  },
  {
   "cell_type": "code",
   "execution_count": 23,
   "metadata": {
    "colab": {},
    "colab_type": "code",
    "id": "Rppm-nEHBLyY"
   },
   "outputs": [],
   "source": [
    "score['Linear_Score'] = pd.DataFrame(np.array([linear_regressor.score(X_test, y_test)]))"
   ]
  },
  {
   "cell_type": "code",
   "execution_count": 24,
   "metadata": {
    "colab": {
     "base_uri": "https://localhost:8080/",
     "height": 144
    },
    "colab_type": "code",
    "executionInfo": {
     "elapsed": 13667,
     "status": "ok",
     "timestamp": 1582152522861,
     "user": {
      "displayName": "Corinne Ferrette",
      "photoUrl": "",
      "userId": "06893314746757986473"
     },
     "user_tz": -60
    },
    "id": "RvfROcUiCOMO",
    "outputId": "38a1b734-e526-49d6-850a-2f23ab0f612a"
   },
   "outputs": [
    {
     "data": {
      "text/html": [
       "<div>\n",
       "<style scoped>\n",
       "    .dataframe tbody tr th:only-of-type {\n",
       "        vertical-align: middle;\n",
       "    }\n",
       "\n",
       "    .dataframe tbody tr th {\n",
       "        vertical-align: top;\n",
       "    }\n",
       "\n",
       "    .dataframe thead th {\n",
       "        text-align: right;\n",
       "    }\n",
       "</style>\n",
       "<table border=\"1\" class=\"dataframe\">\n",
       "  <thead>\n",
       "    <tr style=\"text-align: right;\">\n",
       "      <th></th>\n",
       "      <th>0</th>\n",
       "      <th>0</th>\n",
       "      <th>0</th>\n",
       "      <th>Linear_Score</th>\n",
       "    </tr>\n",
       "  </thead>\n",
       "  <tbody>\n",
       "    <tr>\n",
       "      <th>Linear_Score</th>\n",
       "      <td>0.634167</td>\n",
       "      <td>NaN</td>\n",
       "      <td>NaN</td>\n",
       "      <td>NaN</td>\n",
       "    </tr>\n",
       "    <tr>\n",
       "      <th>Ridge_Small_Alpha_Score</th>\n",
       "      <td>NaN</td>\n",
       "      <td>0.634179</td>\n",
       "      <td>NaN</td>\n",
       "      <td>NaN</td>\n",
       "    </tr>\n",
       "    <tr>\n",
       "      <th>Ridge_Large_Alpha_Score</th>\n",
       "      <td>NaN</td>\n",
       "      <td>NaN</td>\n",
       "      <td>0.666494</td>\n",
       "      <td>NaN</td>\n",
       "    </tr>\n",
       "  </tbody>\n",
       "</table>\n",
       "</div>"
      ],
      "text/plain": [
       "                                0         0         0  Linear_Score\n",
       "Linear_Score             0.634167       NaN       NaN           NaN\n",
       "Ridge_Small_Alpha_Score       NaN  0.634179       NaN           NaN\n",
       "Ridge_Large_Alpha_Score       NaN       NaN  0.666494           NaN"
      ]
     },
     "execution_count": 24,
     "metadata": {},
     "output_type": "execute_result"
    }
   ],
   "source": [
    "score"
   ]
  }
 ],
 "metadata": {
  "accelerator": "GPU",
  "colab": {
   "collapsed_sections": [],
   "name": "Régressions Régularisées - Ridge Exercice SOLUTION.ipynb",
   "provenance": []
  },
  "kernelspec": {
   "display_name": "Python 3",
   "language": "python",
   "name": "python3"
  },
  "language_info": {
   "codemirror_mode": {
    "name": "ipython",
    "version": 3
   },
   "file_extension": ".py",
   "mimetype": "text/x-python",
   "name": "python",
   "nbconvert_exporter": "python",
   "pygments_lexer": "ipython3",
   "version": "3.7.3"
  }
 },
 "nbformat": 4,
 "nbformat_minor": 1
}
